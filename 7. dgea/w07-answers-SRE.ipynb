{
 "cells": [
  {
   "cell_type": "markdown",
   "metadata": {},
   "source": [
    "# answers 07: the adventure of Wiggins' lost labels\n",
    "**Sean's answers**\n",
    "\n",
    "I've downloaded Wiggins' data files to the same directory as my jupyter notebook:\n",
    "[w07-data.1](http://mcb112.org/w07/w07-data.1), \n",
    "[w07-data.2](http://mcb112.org/w07/w07-data.2), and \n",
    "[w07-data.3](http://mcb112.org/w07/w07-data.3).\n",
    "\n",
    "I've also installed R, BioConductor, and edgeR on my machine, following the \n",
    "[instructions in the pset](http://mcb112.org/w13/w13-homework.html#install-r-bioconductor-and-edger)."
   ]
  },
  {
   "cell_type": "markdown",
   "metadata": {},
   "source": [
    "## 1. a python function to run an external edgeR analysis\n",
    "\n",
    "We're supposed to write a function that takes the name of an input counts file as an argument, and returns the results of an `edgeR` analysis.\n",
    "\n",
    "I'm going to go ahead and include a `do_tmm` option, to ask for an optional TMM normalization step. Wiggins didn't do this in [his analysis script](http://mcb112.org/w07/analyze_GL.r), and that's going to be the answer to part (4). Other than that, I'm just recapitulating his analysis steps -- just using Python to write an R script as a temporary file that I can run (in R) with `Rscript`, then use python to parse the results file back in. **Communication through files**: it's not pretty but it gets the job done.\n",
    "\n",
    "My `groups` argument to my function is a little too chummy with my `infile` argument: to call the function, you have to know how many data columns are in the `infile`, and define the `groups` list accordingly with a condition for each data column. This is fine for a rough&ready analysis -- especially since in this pset we've contrived a case where we don't know what the condition labels are on Wiggins' input files, because Wiggins lost them. If you were really writing something stable, it would be better to define the format of your `infile`'s to include the condition information.\n",
    "\n",
    "I'm also being sloppy about hardcoding the script file name `tmp.r` into my function. This would bite me eventually, in real use. If I run my function in two different scripts at the same time in the same directory, their files will clobber each other unpredictably. Better, I could provide a `prefix` argument to my function, and have it create all its temporary files so they start with that prefix; and I could have my main program make sure that it uses a unique prefix. This is something you have to worry about when you're communicating through files. Someone else might try to talk at the same time, and you have to make sure you have distinct channels."
   ]
  },
  {
   "cell_type": "code",
   "execution_count": 1,
   "metadata": {},
   "outputs": [],
   "source": [
    "\n",
    "def run_edgeR(infile, groups, do_tmm, outfile):\n",
    "    \"\"\"\n",
    "    Run an edgeR analysis on the data in file <infile>, assigning condition labels <groups> to its columns. \n",
    "    Include a TMM normalization step in the analysis if <do_tmm> is True.\n",
    "    Store edgeR's results table in <outfile>.\n",
    "    Also return results as arrays for <genename>, <logFC>, <pvalue>, and <fdr>.\n",
    "    \n",
    "    Input:\n",
    "        infile = tab-delimited file containing C+1 columns; 1st column is gene name; followed by C columns of count data \n",
    "                 First row consists of column headers, not data.\n",
    "        groups = string of <C> condition labels for each column; example \"1,1,1,2,2,2\" for data where the first three \n",
    "                 columns are from one condition, last three columns are from another. edgeR will treat identical \n",
    "                 condition labels as replicates.\n",
    "        do_tmm = False to do Wiggins' analysis; True to do ours, including a TMM normalization step.\n",
    "        outfile = name of file to send edgeR results table to\n",
    "        \n",
    "    Output:\n",
    "        genename[0..N-1]: array of gene names, sorted by P value\n",
    "        logFC[0..N-1]:    array of log_2 fold changes\n",
    "        pvalue[0..N-1]:   P values\n",
    "        FDR[0..N-1]:      false discovery rates at each rank\n",
    "     and <outfile> contains the edgeR table.\n",
    "    \"\"\"\n",
    "    \n",
    "    # Create an R script to run edgeR, as a temporary file.\n",
    "    #\n",
    "    with open(\"tmp.r\", \"w\") as f:                                            # semi-danger: we've hardcoded the script file name \"tmp.r\"\n",
    "        print('library(edgeR)', file=f)\n",
    "        print('infile     <- \"{}\"'          .format(infile),     file=f)     # R: set some R variables for infile, groups, outfile\n",
    "        print('groups     <- factor(c({}))' .format(groups),     file=f)\n",
    "        print('outfile    <- \"{}\"'          .format(outfile),    file=f)     \n",
    "    \n",
    "        print(\"x     <- read.table(infile, sep='\\t', row.names=1)\", file=f)  # R: parse infile as tab-separated data, 1st row = column headers\n",
    "        print(\"y     <- DGEList(counts=x,group=groups)\",           file=f)  # edgeR: create edgeR's data object, a DGEList\n",
    "        if do_tmm:\n",
    "            print(\"y     <- calcNormFactors(y)\", file=f)                     # edgeR: optional TMM normalization step          \n",
    "        print(\"y     <- estimateDisp(y)\",        file=f)                     # edgeR: estimate the common dispersion\n",
    "        print(\"et    <- exactTest(y)\",           file=f)                     # edgeR: calculate P values, FDRs for differential expression\n",
    "        print(\"tab   <- topTags(et, nrow(x))\",   file=f)                     # edgeR: create results table, sorted\n",
    "        print(\"write.table(tab, file=outfile)\",  file=f)                     # R: write output table to `outfile`\n",
    "        \n",
    "    # Run the R script\n",
    "    # You can also do this with os.system() from the `os` module, or (better still) the `run` command in python's `subprocess` module\n",
    "    #\n",
    "    !Rscript tmp.r\n",
    "    \n",
    "    # The results are now in `tmp.r.out`, so parse them back in\n",
    "    # If we were being careful, we'd check that the Rscript command actually succeeded, rather than assuming it!\n",
    "    #\n",
    "    with open(outfile) as f:\n",
    "        f.readline()   # skip header line\n",
    "        genename  = []\n",
    "        logFC     = []\n",
    "        pvalue    = []\n",
    "        fdr       = []\n",
    "        for line in f:\n",
    "            fields = line.split()\n",
    "            genename.append(fields[0])    # they still have their double quotes; if I cared, I could strip them off.\n",
    "            logFC.append(float(fields[1]))\n",
    "            pvalue.append(float(fields[3]))\n",
    "            fdr.append(float(fields[4]))\n",
    "    \n",
    "    return genename, logFC, pvalue, fdr\n",
    "    "
   ]
  },
  {
   "cell_type": "markdown",
   "metadata": {},
   "source": [
    "## 2. reproduce Wiggins' data and assign the missing labels\n",
    "\n",
    "\"One of these files is not like the others\"... we just need to know which of the three data files corresponds to the mutant samples. The other two are Wiggins' wild type samples. So if we make edgeR input files that consist of all possible pairs (1,2), (1,3), and (2,3), one of those combinations should show us essentially no significant differences (those are the two wild type data files), and the other two combinations will show us mutant vs. wt difference.\n",
    "\n",
    "So first create three different input files the lazy (unix-y) way:\n"
   ]
  },
  {
   "cell_type": "code",
   "execution_count": 2,
   "metadata": {},
   "outputs": [],
   "source": [
    "!join -t $'\\t' w07-data.1 w07-data.2 > merged.12\n",
    "!join -t $'\\t' w07-data.1 w07-data.3 > merged.13\n",
    "!join -t $'\\t' w07-data.2 w07-data.3 > merged.23"
   ]
  },
  {
   "cell_type": "markdown",
   "metadata": {},
   "source": [
    "We can look and make sure that we've indeed created these three files in our current working directory, and that they each have six data columns now. For example:"
   ]
  },
  {
   "cell_type": "code",
   "execution_count": 3,
   "metadata": {},
   "outputs": [
    {
     "name": "stdout",
     "output_type": "stream",
     "text": [
      "#gene\tsample1\tsample2\tsample3\tsample4\tsample5\tsample6\r\n",
      "anise\t3415\t3151\t4155\t221958\t282627\t311329\r\n",
      "apricot\t4082\t7453\t7371\t535309\t300978\t659336\r\n",
      "artichoke\t922\t927\t1121\t179186\t115107\t136621\r\n",
      "arugula\t383\t285\t330\t40772\t35818\t30314\r\n"
     ]
    }
   ],
   "source": [
    "! head -5 merged.12"
   ]
  },
  {
   "cell_type": "markdown",
   "metadata": {},
   "source": [
    "Let's run the three `edgeR` analyses, using Wiggins' steps (i.e. with <do_tmm = False> for our function above).\n",
    "\n",
    "If anything goes wrong here (and of course it does), the first thing to do is to make sure that you can run Rscript on the command line. Get out of jupyter notebook and try to run the edgeR script, using `Rscript tmp.r` (or `Rscript analyze_GL.r` using Wiggins' example). Once you get that working, you'll know what you need to fix in your function that's generating the `tmp.r` script.\n",
    "\n",
    "This takes a little time (~20s or so):"
   ]
  },
  {
   "cell_type": "code",
   "execution_count": 4,
   "metadata": {},
   "outputs": [
    {
     "name": "stdout",
     "output_type": "stream",
     "text": [
      "Loading required package: limma\n",
      "Design matrix not provided. Switch to the classic mode.\n",
      "Loading required package: limma\n",
      "Design matrix not provided. Switch to the classic mode.\n",
      "Loading required package: limma\n",
      "Design matrix not provided. Switch to the classic mode.\n"
     ]
    }
   ],
   "source": [
    "groups = \"1,1,1,2,2,2\"    # In each data file, we have three samples from one condition, followed by three from the other.\n",
    "genes_12, logfc_12, pvalue_12, fdr_12 = run_edgeR(\"merged.12\", groups, False, \"out.12\")\n",
    "genes_13, logfc_13, pvalue_13, fdr_13 = run_edgeR(\"merged.13\", groups, False, \"out.13\")\n",
    "genes_23, logfc_23, pvalue_23, fdr_23 = run_edgeR(\"merged.23\", groups, False, \"out.23\")\n"
   ]
  },
  {
   "cell_type": "markdown",
   "metadata": {},
   "source": [
    "Now we can do a pythonic (memory-piggy, horribly inefficient, but terse) way of counting how many FDRs are significant at, say, <0.1:"
   ]
  },
  {
   "cell_type": "code",
   "execution_count": 5,
   "metadata": {},
   "outputs": [
    {
     "name": "stdout",
     "output_type": "stream",
     "text": [
      "1 vs 2: 123\n",
      "1 vs 3: 0\n",
      "2 vs 3: 86\n"
     ]
    }
   ],
   "source": [
    "print(\"1 vs 2:\",  len( [ v for v in fdr_12 if v < 0.1]))\n",
    "print(\"1 vs 3:\",  len( [ v for v in fdr_13 if v < 0.1]))\n",
    "print(\"2 vs 3:\",  len( [ v for v in fdr_23 if v < 0.1]))"
   ]
  },
  {
   "cell_type": "markdown",
   "metadata": {},
   "source": [
    "OK, that's pretty unambiguous: we've identified the two wild type samples, 1 and 3, because they have no significant differences between them at an FDR threshold of $<0.1$. So it's the samples in file 2 that are from mutant.\n"
   ]
  },
  {
   "cell_type": "markdown",
   "metadata": {},
   "source": [
    "## 3. Wiggins doesn't understand P values\n",
    "\n",
    "Why did Wiggins report 2246 significantly differentially expressed genes at P$<0.05$, when it looks like there's only ~80-120 at FDR $<0.1$? He must've literally thresholded on the _per-gene_ P value, and forgot that he needed to correct for the fact that he's testing about 20K genes. At a P value threshold of 0.05 per test, you expect 5% of your tests to get called positive just by chance: 20K * 5% = 1K.\n",
    "\n",
    "Let's see what happens when we threshold at the per-gene P value of $<0.05$:\n"
   ]
  },
  {
   "cell_type": "code",
   "execution_count": 6,
   "metadata": {},
   "outputs": [
    {
     "name": "stdout",
     "output_type": "stream",
     "text": [
      "1 vs 2: 2246\n",
      "1 vs 3: 988\n",
      "2 vs 3: 2312\n"
     ]
    }
   ],
   "source": [
    "print(\"1 vs 2:\",  len( [ v for v in pvalue_12 if float(v) < 0.05]))\n",
    "print(\"1 vs 3:\",  len( [ v for v in pvalue_13 if float(v) < 0.05]))\n",
    "print(\"2 vs 3:\",  len( [ v for v in pvalue_23 if float(v) < 0.05]))"
   ]
  },
  {
   "cell_type": "markdown",
   "metadata": {},
   "source": [
    "Indeed. Wiggins' result came from a comparison of file 1 (wildtype) versus file 2 (mutant).\n",
    "\n",
    "Our conclusion, using the FDR (which corrects for multiple tests), is better. There are 123 differentially expressed genes between the samples in file 1 (wildtype) and the samples in file 2 (mutant), at FDR $<0.1$. This FDR threshold means that we expect about 0.1 (10%) of our \"differentially expressed\" gene calls to be false positives, and we need to keep that expected error rate in mind. We think there's really about 112 differentially expressed genes, because we called 123 positives at FDR $<0.1$."
   ]
  },
  {
   "cell_type": "markdown",
   "metadata": {},
   "source": [
    "## 4. Wiggins missed something else too\n",
    "\n",
    "Look at how the 1 vs 3 comparison (wild type to wild type) gave us 988 genes with P-values $<0.05$, almost exactly the 5% that we expected. But in the other comparisons of mutant vs. wild type, it's not like we got 1000 false positives + ~110 true positives -- instead, there are about twice as many genes with $P<0.05$ than we expect, if we think there's only about 110 true differentially expressed genes.\n",
    "\n",
    "A quick browse through the output files shows us that it looks like there's two distinct sets of genes in the 1/2 comparison. There's a set that are very strongly upregulated in the mutant, with log2 fold changes > 5 (positive, because we have the samples in wildtype vs. mutant order in the `merged.12` file and edgeR tells us that the second set, the mutant, is upregulated relative to the first set, wildtype). There's another set that are weakly downregulated, with log2 fold changes around -2.\n",
    "\n",
    "You can uncomment the print statements below to see the actual lists, and see that there's indeed a pretty obvious breakpoint in the data.\n",
    "\n",
    "This is an example where actually looking at the data (and maybe downsampling it) helps us see what's going on."
   ]
  },
  {
   "cell_type": "code",
   "execution_count": 7,
   "metadata": {},
   "outputs": [
    {
     "name": "stdout",
     "output_type": "stream",
     "text": [
      "50 genes have logFC > 4 and FDR < 0.1\n",
      "73 other genes have FDR < 0.1\n"
     ]
    }
   ],
   "source": [
    "n = 0\n",
    "for i in range(len(genes_12)):\n",
    "    if fdr_12[i] < 0.1 and logfc_12[i] > 4:\n",
    "        #print(genes_12[i], logfc_12[i], fdr_12[i])\n",
    "        n += 1\n",
    "print(\"{} genes have logFC > 4 and FDR < 0.1\".format(n))\n",
    "\n",
    "n = 0\n",
    "for i in range(len(genes_12)):\n",
    "    if fdr_12[i] < 0.1 and logfc_12[i] <= 4:\n",
    "        #print(genes_12[i], logfc_12[i], fdr_12[i])\n",
    "        n += 1\n",
    "print(\"{} other genes have FDR < 0.1\".format(n))\n"
   ]
  },
  {
   "cell_type": "markdown",
   "metadata": {},
   "source": [
    "(It's also a little suspicious that the first set all have cute vegetable/fruit names like \"clementine\", and the second set all have human-style gene names like \"KIAA2012\", which may give you an artificial clue too, because of how the synthetic data for the pset were constructed...)\n",
    "\n",
    "In class we talked about TMM normalization: the idea that if the expression level of some genes change per cell (in terms of their absolute transcription rate), the _relative_ abundance of other mRNAs must change in the other direction. If the true expression change is large enough, for enough genes, the indirect effect on the relative abundance of other mRNAs can become statistically significant, if we don't do something to correct for the indirect effect.\n",
    "\n",
    "Looking at Wiggins' analysis script, he did indeed omit the TMM normalization step, and we have about 50 genes changing their expression by a large amount, so we should worry about it.\n",
    "\n",
    "Let's include TMM normalization. We already wrote the analysis function to take the <do_tmm> option. We only need to re-analyze files 1 and 2 at this point, to compare mutant and wildtype. (We could aggregate the six wildtype samples in our analysis, which would be even better, but.)"
   ]
  },
  {
   "cell_type": "code",
   "execution_count": 8,
   "metadata": {},
   "outputs": [
    {
     "name": "stdout",
     "output_type": "stream",
     "text": [
      "Loading required package: limma\n",
      "Design matrix not provided. Switch to the classic mode.\n"
     ]
    }
   ],
   "source": [
    "genes_tmm_12, logfc_tmm_12, pvalue_tmm_12, fdr_tmm_12 = run_edgeR(\"merged.12\", groups, True, \"out_tmm.12\")"
   ]
  },
  {
   "cell_type": "code",
   "execution_count": 9,
   "metadata": {},
   "outputs": [
    {
     "name": "stdout",
     "output_type": "stream",
     "text": [
      "1 vs 2: 54\n"
     ]
    }
   ],
   "source": [
    "print(\"1 vs 2:\",  len( [ v for v in fdr_tmm_12 if v < 0.1]))"
   ]
  },
  {
   "cell_type": "markdown",
   "metadata": {},
   "source": [
    "Yes, TMM normalization made a big difference, and we can assume it cleaned things up a lot, compensating for indirect effects. \n",
    "\n",
    "At FDR $<0.1$ we're still expecting about 5 false positives in our 54 calls. What if we increase the stringency to a point where we don't expect any false positives?"
   ]
  },
  {
   "cell_type": "code",
   "execution_count": 10,
   "metadata": {},
   "outputs": [
    {
     "name": "stdout",
     "output_type": "stream",
     "text": [
      "1 vs 2: 50\n"
     ]
    }
   ],
   "source": [
    "print(\"1 vs 2:\",  len( [ v for v in fdr_tmm_12 if v < 0.001]))"
   ]
  },
  {
   "cell_type": "markdown",
   "metadata": {},
   "source": [
    "With 0.1% expected false positives, we still call 50 differentially expressed genes.\n",
    "\n",
    "If you go and do the same analysis on the 2 vs 3 comparison, you'll see the same set of 50 differentially expressed genes at FDR < 0.001.\n",
    "\n",
    "For good reason: because 50 differentially expressed genes is the right answer, that's how the synthetic data were made. The true log2 fold changes are in \n",
    "[this file, w07-secrets](w07-secrets)."
   ]
  },
  {
   "cell_type": "code",
   "execution_count": null,
   "metadata": {},
   "outputs": [],
   "source": []
  }
 ],
 "metadata": {
  "anaconda-cloud": {},
  "kernelspec": {
   "display_name": "Python 3",
   "language": "python",
   "name": "python3"
  },
  "language_info": {
   "codemirror_mode": {
    "name": "ipython",
    "version": 3
   },
   "file_extension": ".py",
   "mimetype": "text/x-python",
   "name": "python",
   "nbconvert_exporter": "python",
   "pygments_lexer": "ipython3",
   "version": "3.6.9"
  }
 },
 "nbformat": 4,
 "nbformat_minor": 1
}
