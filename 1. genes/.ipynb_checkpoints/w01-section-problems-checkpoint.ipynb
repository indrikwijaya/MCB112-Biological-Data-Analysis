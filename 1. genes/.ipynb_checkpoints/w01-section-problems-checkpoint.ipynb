{
 "cells": [
  {
   "cell_type": "markdown",
   "metadata": {},
   "source": [
    "# Section 01: Practice Python Problems\n",
    "\n",
    "This notebook contains several example biologically-motivated problems for you to try out your Python skills. Type your answers in the code cells as indicated. Reference the section notes for help with Jupyter notebook and Python. This isn't an assignment, so there's no need to submit it. It's purely a chance for you to practice your python skills and gauge your understanding of basic Python commands.\n",
    "\n",
    "These problems are adapted from [Rosalind](http://rosalind.info/problems/list-view/). If you want more Python problems to try out, explore the site!"
   ]
  },
  {
   "cell_type": "markdown",
   "metadata": {},
   "source": [
    "### 1.  Nucleotides\n",
    "\n",
    "DNA is comprised of four nucleotides: A, C, G, T. Often we will represent a DNA sequence as a string of these characters in Python.\n",
    "\n",
    "**Problem:** Count the number of times each nucleotide (A, C, G, T) occurs in a given DNA sequence."
   ]
  },
  {
   "cell_type": "code",
   "execution_count": 4,
   "metadata": {
    "collapsed": true
   },
   "outputs": [],
   "source": [
    "# Given: a DNA sequence (str)\n",
    "dna = 'ACTGCAGTCATGCAGTCATGCTGATTTTCAGGCCATGCAAACTG'\n",
    "\n",
    "# Return: four numbers (ints) separatated by spaces counting the number of \n",
    "#         A's, C's, G's, and T's respectively\n",
    "\n",
    "# FIXME: Write your solution here\n",
    "def count_base(dna):\n",
    "    return str(dna.count('A')) + ' ' + str(dna.count('C')) + ' ' + str(dna.count('G')) + ' ' + str(dna.count('T'))"
   ]
  },
  {
   "cell_type": "code",
   "execution_count": 5,
   "metadata": {},
   "outputs": [
    {
     "data": {
      "text/plain": [
       "'11 11 10 12'"
      ]
     },
     "execution_count": 5,
     "metadata": {},
     "output_type": "execute_result"
    }
   ],
   "source": [
    "count_base(dna)"
   ]
  },
  {
   "cell_type": "markdown",
   "metadata": {},
   "source": [
    "If you are totally stuck and want some pseudocode to get you started, here are some steps you could implement. Try to complete each commented step below with the appropriate Python code."
   ]
  },
  {
   "cell_type": "code",
   "execution_count": null,
   "metadata": {
    "collapsed": true
   },
   "outputs": [],
   "source": [
    "# Initialize the count of each nucleotide to zero\n",
    "\n",
    "# Iterate through each nucleotide in the DNA sequence (in a for loop, for example)\n",
    "    # If this nt is an 'A', increment the A count\n",
    "    # Else if this nt is an 'C', increment the C count\n",
    "    # Else if this nt is an 'G', increment the G count\n",
    "    # Else if this nt is an 'T', increment the T count\n",
    "    # Else, this nt is not a valid nucleotide so print a warning\n",
    "\n",
    "# Print the frequency of each nucleotide separated by spaces"
   ]
  },
  {
   "cell_type": "markdown",
   "metadata": {},
   "source": [
    "### 2. Complement\n",
    "\n",
    "DNA is double stranded. One strand is called the *sense* strand and the other is called the *antisense* strand. Usually you are only given the sequence of the sense (coding) strand. In DNA, A and T are complements of each other, while C and G are complements of each other. The antisense strand is the complement of the sense strand, which is formed by taking the complement of each nucleotide. For example, the complement of GTCA is CAGT.\n",
    "\n",
    "**Problem:** Print the complement of the given DNA sequence."
   ]
  },
  {
   "cell_type": "code",
   "execution_count": null,
   "metadata": {
    "collapsed": true
   },
   "outputs": [],
   "source": [
    "# Given: a DNA sequence (str)\n",
    "dna = 'ACTGCAGTCATGCAGTCATGCTGATTTTCAGGCCATGCAAACTG'\n",
    "\n",
    "# Return: the complement of the sequence (str)\n",
    "\n",
    "# FIXME: Write your solution here"
   ]
  },
  {
   "cell_type": "markdown",
   "metadata": {},
   "source": [
    "**Problem:** Now rewrite your solution as a function, so that you can find the complement of multiple sequences."
   ]
  },
  {
   "cell_type": "code",
   "execution_count": 6,
   "metadata": {
    "collapsed": true
   },
   "outputs": [],
   "source": [
    "def complement(dna):\n",
    "    '''\n",
    "    Given: a DNA sequence (str)\n",
    "    Return: the complement of the sequence (str)\n",
    "    '''\n",
    "    comp = {'A': 'T', 'C': 'G', 'T': 'A', 'G': 'C'}\n",
    "    comp_str = ''\n",
    "    for base in dna:\n",
    "        comp_str += comp[base]\n",
    "    return comp_str\n",
    "    # FIXME: Write your solution here"
   ]
  },
  {
   "cell_type": "code",
   "execution_count": 7,
   "metadata": {},
   "outputs": [
    {
     "name": "stdout",
     "output_type": "stream",
     "text": [
      "TGACGTCAGTACGTCAGTACGACTAAAAGTCCGGTACGTTTGAC\n",
      "GCAGTCAGCATAACGCATCGACCATGACGTATATAACCACGCTTTGCA\n"
     ]
    }
   ],
   "source": [
    "dna1 = 'ACTGCAGTCATGCAGTCATGCTGATTTTCAGGCCATGCAAACTG'\n",
    "dna2 = 'CGTCAGTCGTATTGCGTAGCTGGTACTGCATATATTGGTGCGAAACGT'\n",
    "\n",
    "# FIXME: Run your function on both sequences\n",
    "print(complement(dna1))\n",
    "print(complement(dna2))"
   ]
  },
  {
   "cell_type": "markdown",
   "metadata": {},
   "source": [
    "### 3. Transcription\n",
    "\n",
    "DNA is transcribed to RNA, which is comprised of four nucleotides: A, C, G, U (instead of T). Given a coding strand DNA sequence, its transcribed RNA sequence is formed by replacing all of the instances of T with U.\n",
    "\n",
    "**Problem:** Transcribe a given DNA sequence to RNA."
   ]
  },
  {
   "cell_type": "code",
   "execution_count": 8,
   "metadata": {
    "collapsed": true
   },
   "outputs": [],
   "source": [
    "def transcribe(dna):\n",
    "    '''\n",
    "    Given: a DNA sequence (str)\n",
    "    Return: the transcribed RNA sequence (str)\n",
    "    '''\n",
    "    trans_str = ''\n",
    "    for base in dna:\n",
    "        if base == 'T':\n",
    "            trans_str += 'U'\n",
    "        else:\n",
    "            trans_str += base\n",
    "    return trans_str\n",
    "    # FIXME: Write your solution here"
   ]
  },
  {
   "cell_type": "code",
   "execution_count": 9,
   "metadata": {},
   "outputs": [
    {
     "data": {
      "text/plain": [
       "'ACUGCAGUCAUGCAGUCAUGCUGAUUUUCAGGCCAUGCAAACUG'"
      ]
     },
     "execution_count": 9,
     "metadata": {},
     "output_type": "execute_result"
    }
   ],
   "source": [
    "dna = 'ACTGCAGTCATGCAGTCATGCTGATTTTCAGGCCATGCAAACTG'\n",
    "transcribe(dna)\n",
    "# FIXME: Run your function on this sequence"
   ]
  },
  {
   "cell_type": "markdown",
   "metadata": {},
   "source": [
    "### 4. Translation\n",
    "\n",
    "There are 20 commonly occurring amino acids that make up protein sequences. RNA is translated to protein according to the [codon table](https://en.wikipedia.org/wiki/Genetic_code#RNA_codon_table). Given a messenger RNA sequence, its corresponding protein sequence is formed by translating each codon (triplet of nucleotides) to the appropriate amino acid or stop codon (denoted \\*).\n",
    "\n",
    "**Problem:** Translate a given RNA sequence to protein."
   ]
  },
  {
   "cell_type": "code",
   "execution_count": 10,
   "metadata": {
    "collapsed": true
   },
   "outputs": [],
   "source": [
    "def translate(rna):\n",
    "    '''\n",
    "    Given: an RNA sequence (str)\n",
    "    Return: the translated protein sequence (str)\n",
    "    '''\n",
    "    \n",
    "    # Save the codon table as a dict\n",
    "    aas = {'UUU':'F','UUC':'F',\n",
    "           'UUA':'L','UUG':'L',\n",
    "           'UCU':'S','UCC':'S','UCA':'S','UCG':'S','AGU':'S','AGC':'S',\n",
    "           'UAU':'Y','UAC':'Y',\n",
    "           'UAA':'*','UAG':'*','UGA':'*',\n",
    "           'UGU':'C','UGC':'C',\n",
    "           'UGG':'W',\n",
    "           'CUU':'L','CUC':'L','CUA':'L','CUG':'L',\n",
    "           'CCU':'P','CCC':'P','CCA':'P','CCG':'P',\n",
    "           'CAU':'H','CAC':'H',\n",
    "           'CAA':'Q','CAG':'Q',\n",
    "           'CGU':'R','CGC':'R','CGA':'R','CGG':'R','AGA':'R','AGG':'R',\n",
    "           'AUU':'I','AUC':'I','AUA':'I',\n",
    "           'AUG':'M',\n",
    "           'ACU':'T','ACC':'T','ACA':'T','ACG':'T',\n",
    "           'AAU':'N','AAC':'N',\n",
    "           'AAA':'K','AAG':'K',\n",
    "           'GUU':'V','GUC':'V','GUA':'V','GUG':'V',\n",
    "           'GCU':'A','GCC':'A','GCA':'A','GCG':'A',\n",
    "           'GAU':'D','GAC':'D',\n",
    "           'GAA':'E','GAG':'E',\n",
    "           'GGU':'G','GGC':'G','GGA':'G','GGG':'G'}\n",
    "    codons = [rna[i:i+3] for i in range(0, len(rna), 3)]\n",
    "    amino_acid = ''\n",
    "    for codon in codons:\n",
    "        amino_acid += aas[codon]\n",
    "    return amino_acid\n",
    "    # FIXME: Write your solution here"
   ]
  },
  {
   "cell_type": "code",
   "execution_count": 11,
   "metadata": {},
   "outputs": [
    {
     "data": {
      "text/plain": [
       "'MAMAPRTEINSTRING*'"
      ]
     },
     "execution_count": 11,
     "metadata": {},
     "output_type": "execute_result"
    }
   ],
   "source": [
    "rna = 'AUGGCCAUGGCGCCCAGAACUGAGAUCAAUAGUACCCGUAUUAACGGGUGA'\n",
    "translate(rna)\n",
    "# FIXME: Run your function on this sequence"
   ]
  },
  {
   "cell_type": "markdown",
   "metadata": {},
   "source": [
    "### 5. Mutations\n",
    "\n",
    "Frequently, biological sequences are stored in text files called fasta files. These files follow the format:\n",
    "```\n",
    ">SEQ_ID_1\n",
    "GCATCAGTACTGACTATGTTGTTACGTGCAGTCGATGACTCACAGACTGCATGTTTTTCTATTGTAACACATGCATACATGTACTGTTACGTGTACGTGTGCATGTCATCGTTGATCTGCATGTCATTGCATGTACGTGTGACTACTACTACTGCGCGGATAACTCGCGCCCAT\n",
    ">SEQ_ID_2\n",
    "GCATAAGTACTGACTATGTTGTTACGTGCAGTCGCTGACTCACAGACTGCATGTTTTTCTATTGTAACACATGCATACATGTACTGTTACGTGTACGCGTGCATGTCATCGTTGATCTGCATGTCAGTGCATGTGCGTGTGACTACTACTACTGCGCGGATCACTCGCGCCCAT\n",
    "```\n",
    "This can be a useful way to store lots of DNA, RNA, or protein sequences for analysis.\n",
    "\n",
    "**Problem:** Copy the above sequences into a text file in your Jupyter notebook directory. Import the sequences from the file and find the [hamming distance](https://en.wikipedia.org/wiki/Hamming_distance) (number of different nucleotides) between the two DNA sequences."
   ]
  },
  {
   "cell_type": "code",
   "execution_count": 12,
   "metadata": {},
   "outputs": [
    {
     "data": {
      "text/plain": [
       "6"
      ]
     },
     "execution_count": 12,
     "metadata": {},
     "output_type": "execute_result"
    }
   ],
   "source": [
    "# FIXME: Write your solution here\n",
    "def hamming_distance(str1, str2):\n",
    "    return sum(base1 != base2 for base1,base2 in zip(str1, str2))\n",
    "\n",
    "seq1 = 'GCATCAGTACTGACTATGTTGTTACGTGCAGTCGATGACTCACAGACTGCATGTTTTTCTATTGTAACACATGCATACATGTACTGTTACGTGTACGTGTGCATGTCATCGTTGATCTGCATGTCATTGCATGTACGTGTGACTACTACTACTGCGCGGATAACTCGCGCCCAT'\n",
    "seq2 = 'GCATAAGTACTGACTATGTTGTTACGTGCAGTCGCTGACTCACAGACTGCATGTTTTTCTATTGTAACACATGCATACATGTACTGTTACGTGTACGCGTGCATGTCATCGTTGATCTGCATGTCAGTGCATGTGCGTGTGACTACTACTACTGCGCGGATCACTCGCGCCCAT'\n",
    "\n",
    "hamming_distance(seq1, seq2)"
   ]
  },
  {
   "cell_type": "markdown",
   "metadata": {},
   "source": [
    "**Problem:** Transcribe then translate the DNA sequences to protein. Now calculate the hamming distance (number of different amino acids) between the two protein sequences."
   ]
  },
  {
   "cell_type": "code",
   "execution_count": 13,
   "metadata": {},
   "outputs": [
    {
     "data": {
      "text/plain": [
       "4"
      ]
     },
     "execution_count": 13,
     "metadata": {},
     "output_type": "execute_result"
    }
   ],
   "source": [
    "# FIXME: Write your solution here\n",
    "seq1_transcribed = transcribe(seq1)\n",
    "seq1_translated = translate(seq1_transcribed)\n",
    "\n",
    "seq2_transcribed = transcribe(seq2)\n",
    "seq2_translated = translate(seq2_transcribed)\n",
    "\n",
    "hamming_distance(seq1_translated, seq2_translated)"
   ]
  },
  {
   "cell_type": "code",
   "execution_count": null,
   "metadata": {
    "collapsed": true
   },
   "outputs": [],
   "source": []
  }
 ],
 "metadata": {
  "kernelspec": {
   "display_name": "Python 3",
   "language": "python",
   "name": "python3"
  },
  "language_info": {
   "codemirror_mode": {
    "name": "ipython",
    "version": 3
   },
   "file_extension": ".py",
   "mimetype": "text/x-python",
   "name": "python",
   "nbconvert_exporter": "python",
   "pygments_lexer": "ipython3",
   "version": "3.6.7"
  }
 },
 "nbformat": 4,
 "nbformat_minor": 2
}
