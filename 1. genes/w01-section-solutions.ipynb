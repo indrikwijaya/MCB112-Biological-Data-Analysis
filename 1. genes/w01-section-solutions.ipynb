{
 "cells": [
  {
   "cell_type": "markdown",
   "metadata": {},
   "source": [
    "# Section 01: Practice Python Problems\n",
    "\n",
    "This notebook contains several example biologically-motivated problems for you to try out your Python skills. Type your answers in the code cells as indicated. Reference the section notes for help with Jupyter notebook and Python. This isn't an assignment, so there's no need to submit it. It's purely a chance for you to practice your python skills and gauge your understanding of basic Python commands.\n",
    "\n",
    "These problems are adapted from [Rosalind](http://rosalind.info/problems/list-view/). If you want more Python problems to try out, explore the site!"
   ]
  },
  {
   "cell_type": "markdown",
   "metadata": {},
   "source": [
    "### 1.  Nucleotides\n",
    "\n",
    "DNA is comprised of four nucleotides: A, C, G, T. Often we will represent a DNA sequence as a string of these characters in Python.\n",
    "\n",
    "**Problem:** Count the number of times each nucleotide (A, C, G, T) occurs in a given DNA sequence."
   ]
  },
  {
   "cell_type": "markdown",
   "metadata": {},
   "source": [
    "**Solution:** When trying to solve a problem, I usually start with the simplest strategy I can think of. Often this is a brute-force approach – it won't be fast but for simple problems that won't matter. Just getting something working is usually the best way to start, no matter how simple or \"stupid\" the approach may feel, rather than obsessing over writing \"[good code](https://xkcd.com/844/)\".\n",
    "\n",
    "My initial solution was to iterate through each nucleotide of the DNA string using a for loop and increment the count of the appropriate nucleotide. Then I print the counts separated by spaces at the end."
   ]
  },
  {
   "cell_type": "code",
   "execution_count": 1,
   "metadata": {},
   "outputs": [
    {
     "name": "stdout",
     "output_type": "stream",
     "text": [
      "11 11 10 12\n"
     ]
    }
   ],
   "source": [
    "# Given: a DNA sequence (str)\n",
    "dna = 'ACTGCAGTCATGCAGTCATGCTGATTTTCAGGCCATGCAAACTG'\n",
    "\n",
    "# Return: four numbers (ints) separatated by spaces counting the number of \n",
    "#         A's, C's, G's, and T's respectively\n",
    "\n",
    "# Count the frequency of each nucleotide\n",
    "A = 0 \n",
    "C = 0\n",
    "G = 0\n",
    "T = 0\n",
    "for nt in dna:          # Iterate through each nucleotide in the DNA sequence\n",
    "    if nt == 'A':       # If this nt is an 'A', increment the A count\n",
    "        A += 1\n",
    "    elif nt == 'C':     # Otherwise if this nt is an 'C', increment the C count\n",
    "        C += 1\n",
    "    elif nt == 'G':     # Otherwise if this nt is an 'G', increment the G count\n",
    "        G += 1\n",
    "    elif nt == 'T':     # Otherwise if this nt is an 'T', increment the T count\n",
    "        T += 1\n",
    "    else:               # Otherwise, this nt is not a valid nucleotide so print a warning\n",
    "        print('Unexpected nucleotide: ' + nt)\n",
    "\n",
    "# Print the frequency of each nucleotide separated by spaces\n",
    "print(str(A) + ' ' + str(C) + ' ' + str(G) + ' ' + str(T)) # Remember to cast to a str to print"
   ]
  },
  {
   "cell_type": "markdown",
   "metadata": {},
   "source": [
    "If I wanted to get a bit fancier, I could also solve this problem using a `list` to store the counts. Then also use a slightly different type of print statement."
   ]
  },
  {
   "cell_type": "code",
   "execution_count": 25,
   "metadata": {},
   "outputs": [
    {
     "name": "stdout",
     "output_type": "stream",
     "text": [
      "A: 11, C: 11, G: 10, T: 12\n"
     ]
    }
   ],
   "source": [
    "# Given: a DNA sequence (str)\n",
    "dna = 'ACTGCAGTCATGCAGTCATGCTGATTTTCAGGCCATGCAAACTG'\n",
    "\n",
    "# Return: four numbers (ints) separatated by spaces counting the number of \n",
    "#         A's, C's, G's, and T's respectively\n",
    "\n",
    "# Count the frequency of each nucleotide\n",
    "counts = [0,0,0,0]      # Initialize the count of each nucleotide to zero in a list\n",
    "\n",
    "# Use the python list count() function to tally the number of each nt\n",
    "counts[0] = dna.count('A')\n",
    "counts[1] = dna.count('C')\n",
    "counts[2] = dna.count('G')\n",
    "counts[3] = dna.count('T')\n",
    "\n",
    "# Print the frequency of each nucleotide separated by spaces\n",
    "print('A: %i, C: %i, G: %i, T: %i' % (A, C, G, T)) # %i indicates that the value you want to print is an int"
   ]
  },
  {
   "cell_type": "markdown",
   "metadata": {},
   "source": [
    "These are just two example solutions. There are countless ways to solve this problem in Python. If your solution gave you the correct answer, then your approach is \"right\". Good work!"
   ]
  },
  {
   "cell_type": "markdown",
   "metadata": {},
   "source": [
    "### 2. Complement\n",
    "\n",
    "DNA is double stranded. One strand is called the *sense* strand and the other is called the *antisense* strand. Usually you are only given the sequence of the sense (coding) strand. In DNA, A and T are complements of each other, while C and G are complements of each other. The antisense strand is the complement of the sense strand, which is formed by taking the complement of each nucleotide. For example, the complement of GTCA is CAGT.\n",
    "\n",
    "**Problem:** Print the complement of the given DNA sequence."
   ]
  },
  {
   "cell_type": "markdown",
   "metadata": {},
   "source": [
    "**Solution:** My solution here was to use a dictionary to map each nucleotide to its complement. Again, there are countless ways to solve this problem. This is just one way to go about it."
   ]
  },
  {
   "cell_type": "code",
   "execution_count": 13,
   "metadata": {},
   "outputs": [
    {
     "name": "stdout",
     "output_type": "stream",
     "text": [
      "TGACGTCAGTACGTCAGTACGACTAAAAGTCCGGTACGTTTGAC\n"
     ]
    }
   ],
   "source": [
    "# Given: a DNA sequence (str)\n",
    "dna = 'ACTGCAGTCATGCAGTCATGCTGATTTTCAGGCCATGCAAACTG'\n",
    "\n",
    "# Return: the reverse complement of the sequence (str)\n",
    "\n",
    "# Create a dictionary mapping each nucleotide to its complement\n",
    "complement_map = {'A':'T', 'C':'G', 'G':'C', 'T':'A'}\n",
    "\n",
    "# Compute the complement of the reversed DNA sequence\n",
    "comp = ''          # Initialize the complement sequence as an empty str\n",
    "for nt in dna:\n",
    "    comp += complement_map[nt]\n",
    "\n",
    "print(comp)"
   ]
  },
  {
   "cell_type": "markdown",
   "metadata": {},
   "source": [
    "**Problem:** Now rewrite your solution as a function, so that you can find the complement of multiple sequences."
   ]
  },
  {
   "cell_type": "markdown",
   "metadata": {},
   "source": [
    "**Solution:** I simply moved my code into a function that accepts a DNA sequence as an argument and returns the complement sequence. Functions are a good way to modularize your code, which makes it easy to rerun steps repeatedly without copying and pasting. It also makes your code easier to understand and explain."
   ]
  },
  {
   "cell_type": "code",
   "execution_count": 14,
   "metadata": {},
   "outputs": [],
   "source": [
    "def complement(dna):\n",
    "    '''\n",
    "    Given: a DNA sequence (str)\n",
    "    Return: the complement of the sequence (str)\n",
    "    '''\n",
    "    # Create a dictionary mapping each nucleotide to its complement\n",
    "    complement_map = {'A':'T', 'C':'G', 'G':'C', 'T':'A'}\n",
    "\n",
    "    # Compute the complement of the DNA sequence\n",
    "    comp = ''          # Initialize the complement sequence as an empty str\n",
    "    for nt in dna:\n",
    "        comp += complement_map[nt]\n",
    "        \n",
    "    # Return the complement DNA sequence\n",
    "    return comp"
   ]
  },
  {
   "cell_type": "code",
   "execution_count": 15,
   "metadata": {},
   "outputs": [
    {
     "name": "stdout",
     "output_type": "stream",
     "text": [
      "TGACGTCAGTACGTCAGTACGACTAAAAGTCCGGTACGTTTGAC\n",
      "GCAGTCAGCATAACGCATCGACCATGACGTATATAACCACGCTTTGCA\n"
     ]
    }
   ],
   "source": [
    "dna1 = 'ACTGCAGTCATGCAGTCATGCTGATTTTCAGGCCATGCAAACTG'\n",
    "dna2 = 'CGTCAGTCGTATTGCGTAGCTGGTACTGCATATATTGGTGCGAAACGT'\n",
    "\n",
    "# Calculate the complements of both sequences\n",
    "comp1 = complement(dna1)\n",
    "comp2 = complement(dna2)\n",
    "\n",
    "# Print the results\n",
    "print(comp1)\n",
    "print(comp2)"
   ]
  },
  {
   "cell_type": "markdown",
   "metadata": {},
   "source": [
    "### 3. Transcription\n",
    "\n",
    "DNA is transcribed to RNA, which is comprised of four nucleotides: A, C, G, U (instead of T). Given a coding strand DNA sequence, its transcribed RNA sequence is formed by replacing all of the instances of T with U.\n",
    "\n",
    "**Problem:** Transcribe a given DNA sequence to RNA."
   ]
  },
  {
   "cell_type": "markdown",
   "metadata": {},
   "source": [
    "**Solution:** My solution goes back to the basics of for loops and conditional statements to add a U in place of any T nucleotide and leave all other nucleotides unchanged."
   ]
  },
  {
   "cell_type": "code",
   "execution_count": 16,
   "metadata": {},
   "outputs": [],
   "source": [
    "def transcribe(dna):\n",
    "    '''\n",
    "    Given: a DNA sequence (str)\n",
    "    Return: the transcribed RNA sequence (str)\n",
    "    '''\n",
    "    # Generate the transcribed RNA for the DNA sequence\n",
    "    rna = ''          # Initialize the RNA sequence as an empty str\n",
    "    for nt in dna:\n",
    "        if nt == 'T': # If this nt is T, replace it with U\n",
    "            rna += 'U'\n",
    "        else:         # Otherwise, keep the nt unchanged\n",
    "            rna += nt\n",
    "        \n",
    "    # Return the RNA sequence\n",
    "    return rna"
   ]
  },
  {
   "cell_type": "code",
   "execution_count": 17,
   "metadata": {},
   "outputs": [
    {
     "name": "stdout",
     "output_type": "stream",
     "text": [
      "ACUGCAGUCAUGCAGUCAUGCUGAUUUUCAGGCCAUGCAAACUG\n"
     ]
    }
   ],
   "source": [
    "dna = 'ACTGCAGTCATGCAGTCATGCTGATTTTCAGGCCATGCAAACTG'\n",
    "\n",
    "# Transcribe both sequences\n",
    "rna = transcribe(dna)\n",
    "\n",
    "# Print the results\n",
    "print(rna)"
   ]
  },
  {
   "cell_type": "markdown",
   "metadata": {},
   "source": [
    "### 4. Translation\n",
    "\n",
    "There are 20 commonly occurring amino acids that make up protein sequences. RNA is translated to protein according to the [codon table](https://en.wikipedia.org/wiki/Genetic_code#RNA_codon_table). Given a messenger RNA sequence, its corresponding protein sequence is formed by translating each codon (triplet of nucleotides) to the appropriate amino acid or stop codon (denoted \\*).\n",
    "\n",
    "**Problem:** Translate a given RNA sequence to protein."
   ]
  },
  {
   "cell_type": "markdown",
   "metadata": {},
   "source": [
    "**Solution:** I gave you the codon table as a dictionary to start (to save you extra typing), so I'll show you how I used that strategy. There are other ways to go about this as well. Here I iterated through the RNA sequence in steps of 3 nucleotides and converted each codon to the appropriate amino acid using the codon table."
   ]
  },
  {
   "cell_type": "code",
   "execution_count": 18,
   "metadata": {},
   "outputs": [],
   "source": [
    "def translate(rna):\n",
    "    '''\n",
    "    Given: an RNA sequence (str)\n",
    "    Return: the translated protein sequence (str)\n",
    "    '''\n",
    "    \n",
    "    # Save the codon table as a dict\n",
    "    aas = {'UUU':'F','UUC':'F',\n",
    "           'UUA':'L','UUG':'L',\n",
    "           'UCU':'S','UCC':'S','UCA':'S','UCG':'S','AGU':'S','AGC':'S',\n",
    "           'UAU':'Y','UAC':'Y',\n",
    "           'UAA':'*','UAG':'*','UGA':'*',\n",
    "           'UGU':'C','UGC':'C',\n",
    "           'UGG':'W',\n",
    "           'CUU':'L','CUC':'L','CUA':'L','CUG':'L',\n",
    "           'CCU':'P','CCC':'P','CCA':'P','CCG':'P',\n",
    "           'CAU':'H','CAC':'H',\n",
    "           'CAA':'Q','CAG':'Q',\n",
    "           'CGU':'R','CGC':'R','CGA':'R','CGG':'R','AGA':'R','AGG':'R',\n",
    "           'AUU':'I','AUC':'I','AUA':'I',\n",
    "           'AUG':'M',\n",
    "           'ACU':'T','ACC':'T','ACA':'T','ACG':'T',\n",
    "           'AAU':'N','AAC':'N',\n",
    "           'AAA':'K','AAG':'K',\n",
    "           'GUU':'V','GUC':'V','GUA':'V','GUG':'V',\n",
    "           'GCU':'A','GCC':'A','GCA':'A','GCG':'A',\n",
    "           'GAU':'D','GAC':'D',\n",
    "           'GAA':'E','GAG':'E',\n",
    "           'GGU':'G','GGC':'G','GGA':'G','GGG':'G'}\n",
    "\n",
    "    prot = ''         # Initialize the protein sequence as an empty str\n",
    "    L = len(rna)      # Get the length of the RNA sequence\n",
    "    \n",
    "    # Iterate through each nt position of the RNA sequence from 0 to L-3 in steps of 3 nts\n",
    "    for i in range(0,L-2,3):\n",
    "        codon = rna[i:i+3]   # This codon is the RNA sequence from i to i+2\n",
    "        prot += aas[codon]   # Add the corresponding amino acid for this codon\n",
    "        \n",
    "    # Return the protein sequence\n",
    "    return prot"
   ]
  },
  {
   "cell_type": "code",
   "execution_count": 19,
   "metadata": {},
   "outputs": [
    {
     "name": "stdout",
     "output_type": "stream",
     "text": [
      "MAMAPRTEINSTRING*\n"
     ]
    }
   ],
   "source": [
    "rna = 'AUGGCCAUGGCGCCCAGAACUGAGAUCAAUAGUACCCGUAUUAACGGGUGA'\n",
    "\n",
    "# Translate both sequences\n",
    "prot = translate(rna)\n",
    "\n",
    "# Print the results\n",
    "print(prot)"
   ]
  },
  {
   "cell_type": "markdown",
   "metadata": {},
   "source": [
    "### 5. Mutations\n",
    "\n",
    "Frequently, biological sequences are stored in text files called fasta files. These files follow the format:\n",
    "```\n",
    ">SEQ_ID_1\n",
    "GCATCAGTACTGACTATGTTGTTACGTGCAGTCGATGACTCACAGACTGCATGTTTTTCTATTGTAACACATGCATACATGTACTGTTACGTGTACGTGTGCATGTCATCGTTGATCTGCATGTCATTGCATGTACGTGTGACTACTACTACTGCGCGGATAACTCGCGCCCAT\n",
    ">SEQ_ID_2\n",
    "GCATAAGTACTGACTATGTTGTTACGTGCAGTCGCTGACTCACAGACTGCATGTTTTTCTATTGTAACACATGCATACATGTACTGTTACGTGTACGCGTGCATGTCATCGTTGATCTGCATGTCAGTGCATGTGCGTGTGACTACTACTACTGCGCGGATCACTCGCGCCCAT\n",
    "```\n",
    "This can be a useful way to store lots of DNA, RNA, or protein sequences for analysis.\n",
    "\n",
    "**Problem:** Copy the above sequences into a text file in your Jupyter notebook directory. Import the sequences from the file and find the [hamming distance](https://en.wikipedia.org/wiki/Hamming_distance) (number of different nucleotides) between the two DNA sequences."
   ]
  },
  {
   "cell_type": "code",
   "execution_count": 20,
   "metadata": {},
   "outputs": [],
   "source": [
    "# I'm going to write the sequences to a file directly from this notebook \n",
    "# instead of manually copy/pasting them into a file\n",
    "filename = 'dna_sequences.fasta'\n",
    "\n",
    "with open(filename, 'w') as outfile:\n",
    "    outfile.write('>SEQ_ID_1\\n')\n",
    "    outfile.write('GCATCAGTACTGACTATGTTGTTACGTGCAGTCGATGACTCACAGACTGCATGTTTTTCTATTGTAACACATGCATACATGTACTGTTACGTGTACGTGTGCATGTCATCGTTGATCTGCATGTCATTGCATGTACGTGTGACTACTACTACTGCGCGGATAACTCGCGCCCAT\\n')\n",
    "    outfile.write('>SEQ_ID_2\\n')\n",
    "    outfile.write('GCATAAGTACTGACTATGTTGTTACGTGCAGTCGCTGACTCACAGACTGCATGTTTTTCTATTGTAACACATGCATACATGTACTGTTACGTGTACGCGTGCATGTCATCGTTGATCTGCATGTCAGTGCATGTGCGTGTGACTACTACTACTGCGCGGATCACTCGCGCCCAT\\n')\n"
   ]
  },
  {
   "cell_type": "markdown",
   "metadata": {},
   "source": [
    "**Solution:** I wrote two functions: one to read the sequences in the file into a list, and one to calculate the hamming distance between two sequences. Then I called my hamming_dist function on the two sequences in my list."
   ]
  },
  {
   "cell_type": "code",
   "execution_count": 21,
   "metadata": {},
   "outputs": [],
   "source": [
    "def read_fasta(filename):\n",
    "    '''\n",
    "    Given: a fasta file name (str)\n",
    "    Return: a list of sequences (list)\n",
    "    '''\n",
    "    # Initialize an empty list of sequences\n",
    "    seqs = []\n",
    "    \n",
    "    # Read the file\n",
    "    with open(filename, 'r') as infile:  # Open the file for reading\n",
    "        for line in infile:              # Iterate through each line in the file\n",
    "            \n",
    "            # If this line begins with >, skip it (does not contain a sequence)\n",
    "            if line[0] == '>':\n",
    "                continue\n",
    "                \n",
    "            # Otherwise, save this line as the seq\n",
    "            else:\n",
    "                seq = line.strip()       # Strip deletes the trailing newline character\n",
    "                seqs.append(seq)         # Append this sequence to the list of sequences\n",
    "    \n",
    "    # Return the list of sequences\n",
    "    return seqs"
   ]
  },
  {
   "cell_type": "code",
   "execution_count": 22,
   "metadata": {},
   "outputs": [],
   "source": [
    "def hamming_dist(seq1, seq2):\n",
    "    '''\n",
    "    Given: two sequences of equal length (str)\n",
    "    Return: the number of differences between the two seqeunces (int)\n",
    "    '''\n",
    "    # Initialize the hamming distance to be zero\n",
    "    dist = 0\n",
    "    \n",
    "    # Check the length of both sequences\n",
    "    len1 = len(seq1)\n",
    "    len2 = len(seq2)\n",
    "    \n",
    "    # If the lengths are not equal, exit the function and throw an error\n",
    "    if len1 != len2:\n",
    "        print('The sequence lengths are not equal!')\n",
    "        exit(1)\n",
    "    \n",
    "    for i in range(len1):                # Iterate through each position of the sequences\n",
    "        if seq1[i] != seq2[i]:           # If the value at this position is not the same in both seqs\n",
    "            dist += 1                    # Increment the hamming distance\n",
    "    \n",
    "    # Return the hamming distance\n",
    "    return dist"
   ]
  },
  {
   "cell_type": "code",
   "execution_count": 27,
   "metadata": {},
   "outputs": [
    {
     "name": "stdout",
     "output_type": "stream",
     "text": [
      "There are 6 nucleotide differences.\n"
     ]
    }
   ],
   "source": [
    "filename = 'dna_sequences.fasta'\n",
    "\n",
    "# Import the sequecnes from the file\n",
    "dna_seqs = read_fasta(filename)\n",
    "\n",
    "# Compute the hamming distance between the two DNA sequences\n",
    "dist = hamming_dist(dna_seqs[0], dna_seqs[1])\n",
    "\n",
    "print('There are {} nucleotide differences.'.format(dist))"
   ]
  },
  {
   "cell_type": "markdown",
   "metadata": {},
   "source": [
    "**Problem:** Transcribe then translate the DNA sequences to protein. Now calculate the hamming distance (number of different amino acids) between the two protein sequences."
   ]
  },
  {
   "cell_type": "markdown",
   "metadata": {},
   "source": [
    "**Solution:** I wrote my hamming_dist function above in a general way so that it can accept any type of sequence (DNA, RNA, protein, random letters). So all I need to do here is transcribe then translate the sequences and rerun the hamming_dist function on the protein sequences. I can do all of this using previously defined functions, which makes life much easier!"
   ]
  },
  {
   "cell_type": "code",
   "execution_count": 28,
   "metadata": {},
   "outputs": [
    {
     "name": "stdout",
     "output_type": "stream",
     "text": [
      "There are 4 amino acid differences.\n"
     ]
    }
   ],
   "source": [
    "# Initialize an empty list of protein sequences\n",
    "prot_seqs = []\n",
    "\n",
    "# Iterate through each DNA sequence\n",
    "for dna in dna_seqs:\n",
    "    \n",
    "    # Transcribe the DNA to RNA\n",
    "    rna = transcribe(dna)\n",
    "    \n",
    "    # Translate the RNA to protein\n",
    "    prot = translate(rna)\n",
    "    \n",
    "    # Append the new protein sequence to the list of protein seqs\n",
    "    prot_seqs.append(prot)\n",
    "\n",
    "    \n",
    "# Compute the hamming distance between the two protein sequences\n",
    "dist = hamming_dist(prot_seqs[0], prot_seqs[1])\n",
    "\n",
    "print('There are {} amino acid differences.'.format(dist))"
   ]
  },
  {
   "cell_type": "code",
   "execution_count": null,
   "metadata": {},
   "outputs": [],
   "source": []
  }
 ],
 "metadata": {
  "kernelspec": {
   "display_name": "Python 3",
   "language": "python",
   "name": "python3"
  },
  "language_info": {
   "codemirror_mode": {
    "name": "ipython",
    "version": 3
   },
   "file_extension": ".py",
   "mimetype": "text/x-python",
   "name": "python",
   "nbconvert_exporter": "python",
   "pygments_lexer": "ipython3",
   "version": "3.7.4"
  }
 },
 "nbformat": 4,
 "nbformat_minor": 2
}
