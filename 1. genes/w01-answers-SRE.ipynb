{
 "cells": [
  {
   "cell_type": "markdown",
   "metadata": {},
   "source": [
    "# answers 01: _the case of the dead sand mouse_\n",
    "\n",
    "__Sean's version__\n",
    "\n",
    "We don't need any imports. We're starting simple.\n",
    "\n",
    "I assume that you have the data files [Moriarty_SuppTable1](http://mcb112.org/w01/Moriarty_SuppTable1) and [Adler_SuppTable2](http://mcb112.org/w01/Adler_SuppTable2) downloaded and in the current working directory where you're running Jupyter."
   ]
  },
  {
   "cell_type": "code",
   "execution_count": 1,
   "metadata": {
    "collapsed": true
   },
   "outputs": [],
   "source": [
    "# Good practice: define params, data file names, etc at top of page or script.\n",
    "#   then it's easy to make changes and re-run\n",
    "moriartyfile = \"Moriarty_SuppTable1\"\n",
    "adlerfile    = \"Adler_SuppTable2\""
   ]
  },
  {
   "cell_type": "markdown",
   "metadata": {},
   "source": [
    "## 1. check that the gene names match\n",
    "\n",
    "> *Output the names that appear in Moriarty_SuppTable1 but not Adler_SuppTable2, if any*\n",
    "\n",
    "One of many possible strategies: read each file line by line. Split each line into fields, on whitespace. Field 0 (the first one) is the name. Make a list of the names in each file. Convert the lists to sets, and Python allows you to subtract sets: \n"
   ]
  },
  {
   "cell_type": "code",
   "execution_count": 2,
   "metadata": {},
   "outputs": [
    {
     "name": "stdout",
     "output_type": "stream",
     "text": [
      "9-Sep\n",
      "2-Sep\n",
      "14-Sep\n",
      "10-Mar\n",
      "5-Mar\n",
      "4-Sep\n",
      "4-Mar\n",
      "2-Mar\n",
      "6-Sep\n",
      "12-Sep\n",
      "1-Dec\n",
      "10-Sep\n",
      "3-Sep\n",
      "5-Sep\n",
      "11-Sep\n",
      "8-Mar\n",
      "15-Sep\n",
      "7-Sep\n",
      "8-Sep\n",
      "11-Mar\n",
      "1-Sep\n",
      "3-Mar\n",
      "7-Mar\n",
      "1-Mar\n",
      "9-Mar\n",
      "6-Mar\n"
     ]
    }
   ],
   "source": [
    "with open(moriartyfile) as f1:\n",
    "    names1 = []                          # initialize an empty list\n",
    "    for line in f1:\n",
    "        if line[0] == '#': continue      # skip comment lines\n",
    "        line   = line.rstrip('\\n')       # remove the trailing newline\n",
    "        fields = line.split()            # split into fields on whitespace\n",
    "        names1.append(fields[0])         # Add fields[0], the gene name, to the list. 'append' is a method in the list object.\n",
    "\n",
    "with open(adlerfile) as f2:\n",
    "    names2 = []\n",
    "    for line in f2:\n",
    "        if line[0] == '#': continue      \n",
    "        line   = line.rstrip('\\n')       \n",
    "        fields = line.split()            \n",
    "        names2.append(fields[0])   \n",
    "    \n",
    "# A fast pythonic way to get the different elements between two lists: set comparison.\n",
    "for gene in set(names1) - set(names2):\n",
    "    print(gene)\n",
    "    \n",
    "# Alternatively, the more obvious but slower way:\n",
    "#  for gene in names1:\n",
    "#     if gene not in names2: print(gene)"
   ]
  },
  {
   "cell_type": "code",
   "execution_count": 3,
   "metadata": {},
   "outputs": [
    {
     "name": "stdout",
     "output_type": "stream",
     "text": [
      "SEPT11\n",
      "SEPT8\n",
      "SEPT9\n",
      "MARCH10\n",
      "MARCH5\n",
      "MARCH6\n",
      "DEC1\n",
      "SEPT12\n",
      "SEP15\n",
      "SEPT2\n",
      "MARCH9\n",
      "MARCH1\n",
      "MARC2\n",
      "SEPT6\n",
      "SEPT7\n",
      "MARC1\n",
      "SEPT3\n",
      "SEPT14\n",
      "SEPT4\n",
      "MARCH3\n",
      "MARCH7\n",
      "SEPT1\n",
      "MARCH2\n",
      "SEPT10\n",
      "MARCH4\n",
      "SEPT5\n",
      "MARCH8\n",
      "MARCH11\n"
     ]
    }
   ],
   "source": [
    "# May as well do it the other way to see what's going on...\n",
    "# here's the names in Adler that aren't in Moriarty.\n",
    "for gene in set(names2) - set(names1):\n",
    "    print(gene)"
   ]
  },
  {
   "cell_type": "markdown",
   "metadata": {},
   "source": [
    "> *if there's a difference - why?*\n",
    "\n",
    "What's happened is that Moriarty et al. imported their data into Microsoft Excel, and by default -- unless you click options that tell it not to -- Excel import will 'helpfully' convert things that look like dates to a standard date format. So the gene \"MARCH8\" gets converted to \"8-Mar\". Excel also converts things that look like scientific-notation numbers to a standard number format, so a locus named \"2310009E13\" would get converted to \"2.31E+13\". The names in the Adler file are uncorrupted."
   ]
  },
  {
   "cell_type": "markdown",
   "metadata": {},
   "source": [
    "## 2. explore the data\n",
    "\n",
    "> _output the five genes with the highest mRNA synthesis rate_\n",
    "\n",
    "We're going to use the same trick in all three subanswers here. We'll read the rate/tpm numbers into a __dict__, indexed by gene name. We can't sort a dict directly (dicts are unordered). What we need is to sort a separate list of the dict's keys into the order we want, then access the data in the dict in that sorted order. We have a couple of options. \n",
    "\n",
    "One way would be to provide a custom sorting function to python's `sort` function that sorts by rate or tpm or whatever using the data in the dict. \n",
    "\n",
    "Here we'll use a pythonic shortcut version of that: the `sorted` function can take a dict (among other things) as an argument and return a sorted list of its keys. If you give `sorted` a function as an optional `key` argument, it'll sort on that value instead. So giving it `<dict>.get` -- the dict's own method for retrieving its value -- is sufficient here! A tricksy and useful idiom. `reverse=True` tells `sorted` to sort in descending, rather than the default ascending order.\n",
    "\n",
    "The point of the exercise is to get used to lists (accessed by index, 0..n-1) and dicts (accessed by keyword), and how to sort them."
   ]
  },
  {
   "cell_type": "code",
   "execution_count": 4,
   "metadata": {},
   "outputs": [
    {
     "name": "stdout",
     "output_type": "stream",
     "text": [
      "SCT             174.5\n",
      "TMEM2           87.5\n",
      "CFAP100         83.1\n",
      "RNASE7          78.3\n",
      "MAPK10          62.8\n"
     ]
    }
   ],
   "source": [
    "with open(adlerfile) as f2:        \n",
    "    synth_rate  = {}     # initialize empty dicts\n",
    "    halflife    = {}    \n",
    "    for line in f2:\n",
    "        if line[0] == '#': continue      \n",
    "        line   = line.rstrip('\\n')       \n",
    "        fields = line.split()            \n",
    "\n",
    "        synth_rate[fields[0]] = float(fields[1])  # fields[0] is the gene name; our key. fields[1] is synth rate as a STRING.\n",
    "        halflife[fields[0]]   = float(fields[2])  #   ... we have to convert strings to numbers explicitly: hence float() \n",
    "\n",
    "\n",
    "sorted_byrate = sorted(synth_rate, key=synth_rate.get, reverse=True)    # Get a list of gene names (from synth_rate), sorting them on synth_rate's values \n",
    "for i in range(5):\n",
    "    gene = sorted_byrate[i]\n",
    "    print(\"{0:15s} {1}\".format(gene, synth_rate[gene]))\n"
   ]
  },
  {
   "cell_type": "markdown",
   "metadata": {},
   "source": [
    "> *output the five genes with the longest mRNA halflife*\n",
    "\n",
    "Same thing, with the halflife data from Adler."
   ]
  },
  {
   "cell_type": "code",
   "execution_count": 5,
   "metadata": {},
   "outputs": [
    {
     "name": "stdout",
     "output_type": "stream",
     "text": [
      "GIN1            66.3\n",
      "SELL            62.5\n",
      "ERF             59.2\n",
      "HNF1A           56.8\n",
      "ECE2            56.8\n"
     ]
    }
   ],
   "source": [
    "sorted_bylife = sorted(halflife, key=halflife.get, reverse=True)    \n",
    "for i in range(5):\n",
    "    gene = sorted_bylife[i]\n",
    "    print(\"{0:15s} {1}\".format(gene, halflife[gene]))\n"
   ]
  },
  {
   "cell_type": "markdown",
   "metadata": {},
   "source": [
    "> *output the five genes with the highest ratio of expression at t=96 hours post-mortem vs. t=0*\n",
    "\n",
    "Similar to the above, but now we pull in the Moriarty data, and make a dict of the t=96/t=0 ratio, indexed by gene name."
   ]
  },
  {
   "cell_type": "code",
   "execution_count": 6,
   "metadata": {},
   "outputs": [
    {
     "name": "stdout",
     "output_type": "stream",
     "text": [
      "GIN1            26.4\n",
      "SELL            25.5\n",
      "EIF4A1          22.6\n",
      "HNF1A           19.8\n",
      "ERF             19.0\n"
     ]
    }
   ],
   "source": [
    "with open(moriartyfile) as f1:\n",
    "    ratio       = {}     \n",
    "    for line in f1:\n",
    "        if line[0] == '#': continue      \n",
    "        line   = line.rstrip('\\n')       \n",
    "        fields = line.split()            # field [1] = 0hr. [5] = 96hr.\n",
    "\n",
    "        ratio[fields[0]] = float(fields[5]) / float(fields[1])\n",
    "\n",
    "sorted_byratio = sorted(ratio, key=ratio.get, reverse=True)    \n",
    "for i in range(5):\n",
    "    gene = sorted_byratio[i]\n",
    "    print(\"{0:15s} {1:.1f}\".format(gene, ratio[gene]))"
   ]
  },
  {
   "cell_type": "markdown",
   "metadata": {},
   "source": [
    "The suspicious clue: the most differentially upregulated genes at t=96 are the mRNAs with the longest half lives (the slowest mRNA decay rate)."
   ]
  },
  {
   "cell_type": "markdown",
   "metadata": {},
   "source": [
    "### 3. Figure out what happened\n",
    "\n",
    "> _write a script that merges the two data files, line by line, merging them on gene name_\n",
    "\n",
    "We've already got `synth_rate` and `halflife` data from Adler, so let's just read through the Moriarty file again to merge its lines with the Adler numbers.\n",
    "\n",
    "To write to a file, we open it for writing (`open(outfile, 'w')`), which gives us back a file handle. (Which we have to remember to close.) `print` takes a `file=<filehandle>` option so we can write to any open-for-writing filehandle.\n",
    "\n",
    "Sometimes you want to print individual fields for a growing line, one at a time, so you don't want `print` to add the automatic newline; the `end=''` argument changes the default end-of-print character from `/n` to nothing (empty string).\n",
    "\n",
    "Remember the gene name corruption issue. The question said we can ignore genes for which we don't have corresponding lines in both files.\n",
    "\n"
   ]
  },
  {
   "cell_type": "code",
   "execution_count": 7,
   "metadata": {
    "collapsed": true
   },
   "outputs": [],
   "source": [
    "outfile = 'foo.tbl' \n",
    "with open(outfile, 'w') as outf:\n",
    "    # There's some name corruption that we're just going to avoid.  Create\n",
    "    # a set of the gene names in the ratefile, that we can efficiently\n",
    "    # check gene names in TPM file against.\n",
    "    #\n",
    "    good_genenames = set(synth_rate.keys())\n",
    "\n",
    "\n",
    "    # Now read the TPM data file (again)\n",
    "    # Convert its TPM fields to ratios relative to t=0, and append the\n",
    "    # synthesis rate and halflife fields.\n",
    "    #\n",
    "    with open(moriartyfile) as f1: \n",
    "        for line in f1:\n",
    "            if line[0] == '#': continue     \n",
    "            line   = line.rstrip('\\n')      \n",
    "            fields = line.split()           \n",
    "            if fields[0] not in good_genenames: continue   # Just skip genes with corrupted names,\n",
    "                                                           # that we can't merge easily to rates.\n",
    "\n",
    "            tpm   = [float(s) for s in fields[1:]]               # tpm[] is now an array of floats\n",
    "            ratio = [tpm[i] / tpm[0] for i in range(len(tpm))]   # ratio[] are ratios rel to t=0\n",
    "    \n",
    "            print('{:15s} '.format(fields[0]), end='', file=outf)\n",
    "            for x in ratio[1:]: print('{:6.1f} '.format(x), end='', file=outf)\n",
    "\n",
    "            print('{:6.1f} '.format(synth_rate[fields[0]]), end='', file=outf) # append synth rate and halflife from Moriarty\n",
    "            print('{:6.1f} '.format(halflife[fields[0]]),   end='', file=outf)\n",
    "            print('', file=outf)"
   ]
  },
  {
   "cell_type": "markdown",
   "metadata": {},
   "source": [
    "Now you have a new file `foo.tbl` in your local directory. The easiest way to explore it is not in python but simply at the command line. \n",
    "\n",
    "The key exploration step is to see how \"upregulation\" systematically correlates with mRNA halflife.\n",
    "\n",
    "Turns out we can do shell commands in Jupyter Notebook, prefixing them with `!`. \n",
    "\n",
    "Do `man sort` and you'll see the manual page for the `sort` command. `-n` means sort numerically. `-r` means reverse, sort from big to small (default is ascending order). `-k5` means sort on the 5th field (whitespace-delimited) of each line, numbering from 1."
   ]
  },
  {
   "cell_type": "code",
   "execution_count": 8,
   "metadata": {},
   "outputs": [
    {
     "name": "stdout",
     "output_type": "stream",
     "text": [
      "GIN1               1.8    3.0    7.1   26.4    8.4   66.3 \r\n",
      "SELL               2.0    3.4    7.7   25.5    5.9   62.5 \r\n",
      "EIF4A1             2.0    3.2    6.9   22.6    1.7   56.8 \r\n",
      "HNF1A              1.9    2.8    6.5   19.8    0.4   56.8 \r\n",
      "ERF                2.0    3.1    7.5   19.0    4.4   59.2 \r\n",
      "DRAM1              1.8    3.0    7.0   18.7    0.4   51.3 \r\n",
      "TUFM               1.9    3.2    6.2   18.5    2.2   52.5 \r\n",
      "RTN4               1.9    3.1    6.3   18.5    0.9   51.2 \r\n",
      "ECE2               1.7    2.9    6.3   18.5   32.5   56.8 \r\n",
      "TCF7               1.8    3.1    5.9   18.4    1.1   51.7 \r\n",
      "NUDT10             1.8    2.8    6.1   16.7    2.3   50.3 \r\n",
      "NXT1               1.8    3.0    6.1   16.6    1.1   48.0 \r\n",
      "NEUROD1            2.0    3.5    6.9   16.4   29.5   47.0 \r\n",
      "GPR160             2.0    3.0    6.1   16.4    7.1   52.5 \r\n",
      "PRM2               1.9    2.8    6.2   16.2    1.2   48.8 \r\n",
      "rhubarb            1.8    3.3    6.5   16.1   12.7   49.9 \r\n",
      "LCE1A              1.8    2.7    5.9   16.1    1.2   49.4 \r\n",
      "TNFSF4             2.0    3.0    6.2   15.7    4.7   45.1 \r\n",
      "RAD23B             2.0    3.1    6.4   15.7   11.4   46.4 \r\n",
      "TCTA               1.8    3.1    6.2   15.3    0.2   47.6 \r\n",
      "sort: write failed: 'standard output': Broken pipe\r\n",
      "sort: write error\r\n"
     ]
    }
   ],
   "source": [
    "! sort -n -r -k5 foo.tbl | head -20"
   ]
  },
  {
   "cell_type": "markdown",
   "metadata": {},
   "source": [
    "(Ignore the write error, if you get one: that's arising from some mishandled detail in Jupyter.)\n",
    "\n",
    "That's a list of the top 20 most highly upregulated genes at t=96, and now we can see really clearly that there's a strong correlation between the halflife (last column) and the t=96 expression ratio.\n",
    "\n",
    "### so what happened is...\n",
    "\n",
    "when Moriarty killed the sand mouse, new mRNA synthesis stopped, and the existing mRNAs decay away at their rates. The least stable mRNAs go away fastest; the most stable mRNAs go away slowest. RNA-seq measures the _relative_ abundance of each transcript, not the _absolute_ abundance, so it looks like the \"expression\" of the more stable mRNAs is going up, just because they're going away slower.\n",
    "\n",
    "Somewhat more subtle is the fact that the effect isn't necessarily monotonic. An mRNA with a moderate halflife will go up (as the least stable mRNAs disappear quickly from the population), then go down (as the moderate-halflife mRNA decays faster than more stable mRNAs).\n",
    "\n",
    "If Moriarty et al. had reported their yields from their RNA preps, this could've been a big clue: they should've noticed that the RNA yield was going down relatively quickly with time, because the mRNA population was decaying, which is not really what you'd expect to see if your interpretation is that the sandmouse is running some sort of post-death gene expression program."
   ]
  },
  {
   "cell_type": "code",
   "execution_count": null,
   "metadata": {
    "collapsed": true
   },
   "outputs": [],
   "source": []
  }
 ],
 "metadata": {
  "anaconda-cloud": {},
  "kernelspec": {
   "display_name": "Python 3",
   "language": "python",
   "name": "python3"
  },
  "language_info": {
   "codemirror_mode": {
    "name": "ipython",
    "version": 3
   },
   "file_extension": ".py",
   "mimetype": "text/x-python",
   "name": "python",
   "nbconvert_exporter": "python",
   "pygments_lexer": "ipython3",
   "version": "3.6.7"
  }
 },
 "nbformat": 4,
 "nbformat_minor": 1
}
