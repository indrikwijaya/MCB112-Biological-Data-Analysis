{
 "cells": [
  {
   "cell_type": "markdown",
   "metadata": {},
   "source": [
    "# pset02: the adventure of the ten Arcs\n"
   ]
  },
  {
   "cell_type": "markdown",
   "metadata": {},
   "source": [
    "## 2) reproduce Moriarty's result\n",
    "I downloaded the files and will run a command line prompt. "
   ]
  },
  {
   "cell_type": "code",
   "execution_count": 21,
   "metadata": {
    "collapsed": true
   },
   "outputs": [],
   "source": [
    "#import packages to use\n",
    "import random\n",
    "import gzip\n",
    "import numpy as np #import numpy"
   ]
  },
  {
   "cell_type": "code",
   "execution_count": 2,
   "metadata": {},
   "outputs": [
    {
     "name": "stdout",
     "output_type": "stream",
     "text": [
      ">Arc1\r\n",
      "TAGCCTTCATCCTGTGTGGGTGTGGGCTCCCACTCGGTTCTAGGTCAGTACGAGCCTGCA\r\n",
      "CCTTCCTGTGGAGCAAGTCCGTCTCCTTCCTGCGCTCATACCTAATGAGTGAGGCGCTAA\r\n",
      "CTGCCCCTATGGGCGGATGGACCCAACTAGCCCATGAGTCGACCACCAGAGAACCTTGAT\r\n",
      "CCGTCCTTGCCAGCATTAATGAGCATTCTCTTAGTTTTGACAGCGGGGCGATTCATGAGA\r\n",
      "AACATATGCTTCCCCTTGTTCGAGCCGGATCACTTGAGTCGATACGTCTCCGGGGGTCTC\r\n",
      "CGGGGAAGCCTCAGGGACCTAGTCCGATAACAGACACCTATATGCTAGTTGCTGGTGGAT\r\n",
      "TGTGTTTCAATCTTCTTCCAAGAAGTGCACGTAAACATGGGGGTGTCGGTTATGGAAAGG\r\n",
      "ATACCTATCTCCAGAATCAGTAACAAGTCAATGTAACGGGACGCACGGGACTCACCATCT\r\n",
      "CTAGTATGCACTCTGCCGATGGGAACTTCGAATGCGCGATGCCTCTATTTCCAGTTGTAG\r\n"
     ]
    }
   ],
   "source": [
    "#preview file\n",
    "! gunzip -c arc.fasta.gz  | head -10"
   ]
  },
  {
   "cell_type": "code",
   "execution_count": 3,
   "metadata": {},
   "outputs": [
    {
     "name": "stdout",
     "output_type": "stream",
     "text": [
      "\n",
      "[build] loading fasta file arc.fasta.gz\n",
      "[build] k-mer length: 31\n",
      "[build] counting k-mers ... done.\n",
      "[build] building target de Bruijn graph ...  done \n",
      "[build] creating equivalence classes ...  done\n",
      "[build] target de Bruijn graph has 19 contigs and contains 10000 k-mers \n",
      "\n",
      "\n",
      "[quant] fragment length distribution is truncated gaussian with mean = 150, sd = 20\n",
      "[index] k-mer length: 31\n",
      "[index] number of targets: 10\n",
      "[index] number of k-mers: 10,000\n",
      "[index] number of equivalence classes: 26\n",
      "[quant] running in single-end mode\n",
      "[quant] will process file 1: arc.fastq.gz\n",
      "[quant] finding pseudoalignments for the reads ... done\n",
      "[quant] processed 100,000 reads, 99,981 reads pseudoaligned\n",
      "[   em] quantifying the abundances ... done\n",
      "[   em] the Expectation-Maximization algorithm ran for 52 rounds\n",
      "\n"
     ]
    }
   ],
   "source": [
    "#run index to create transcriptome file\n",
    "! kallisto index -i transcripts.idx arc.fasta.gz\n",
    "#analyze reads and transcriptome file\n",
    "! kallisto quant -i transcripts.idx -o abundances.tsv --single -l 150 -s 20 arc.fastq.gz"
   ]
  },
  {
   "cell_type": "code",
   "execution_count": 4,
   "metadata": {},
   "outputs": [
    {
     "name": "stdout",
     "output_type": "stream",
     "text": [
      "target_id         length            eff_length        est_counts        tpm              \n",
      "Arc1              4000              3851              3348.79           24514.5          \n",
      "Arc2              2000              1851              3574.56           54440.7          \n",
      "Arc3              3000              2851              28065.2           277510           \n",
      "Arc4              4000              3851              10597.7           77579.1          \n",
      "Arc5              4000              3851              12526.7           91700.1          \n",
      "Arc6              3000              2851              1953.39           19315.2          \n",
      "Arc7              2000              1851              5579.78           84980.4          \n",
      "Arc8              2000              1851              5700.81           86823.7          \n",
      "Arc9              3000              2851              3052.55           30183.8          \n",
      "Arc10             3000              2851              25581.6           252953           \n"
     ]
    }
   ],
   "source": [
    "#print kallisto results and compare to Moriarty's\n",
    "with open(\"abundances.tsv/abundance.tsv\") as infile:  # Open file for reading \n",
    "            for line in infile:              # Iterate through each line in the file\n",
    "                values = line.split()       # creates list of values\n",
    "                print('%-17s %-17s %-17s %-17s %-17s'\n",
    "                  % (values[0], values[1], values[2], values[3], values[4]))\n"
   ]
  },
  {
   "cell_type": "markdown",
   "metadata": {},
   "source": [
    "The tpm results in abundances.tsv were very similar to Moriarty's tpm results"
   ]
  },
  {
   "cell_type": "markdown",
   "metadata": {},
   "source": [
    "## 3) simulate an Arc transcriptome and RNA-seq reads\n",
    "python code simulates an Arc locus, transcriptome, and 100k reads from RNA seq experiment on the Arc transcriptome. Create many functions to do each step"
   ]
  },
  {
   "cell_type": "code",
   "execution_count": 5,
   "metadata": {
    "collapsed": true
   },
   "outputs": [],
   "source": [
    "# Set up the Arc locus (modified from pset)\n",
    "num_segments= 10           # Number of segments in the Arc locus (A..J)\n",
    "num_transcripts = num_segments  # Number of different transcripts (the same, one starting on each segment, 1..10)\n",
    "reads_to_gen= 100000       # total number of observed reads we generate\n",
    "len_seg     = 1000         # length of each segment (nucleotides)\n",
    "len_Arc     = len_seg * num_segments    # total length of the Arc locus (nucleotides)\n",
    "len_read    = 75           # read length"
   ]
  },
  {
   "cell_type": "code",
   "execution_count": 6,
   "metadata": {
    "collapsed": true
   },
   "outputs": [],
   "source": [
    "#creates random sequences for each segment\n",
    "def create_segments(num, length):\n",
    "    '''\n",
    "    Given: number of segments and length of each segment in bp\n",
    "    Return: list of segments\n",
    "        '''\n",
    "    segment_list = [] #emtpy list to store segments\n",
    "    #Generate DNA sequences\n",
    "    dna = [\"A\",\"G\",\"C\",\"T\"]\n",
    "    \n",
    "    #choose a random nucleotide until have a full length segment\n",
    "    for i in range(0, num):\n",
    "        segment_random ='' #empty string\n",
    "        for j in range(0,length):\n",
    "            segment_random+=random.choice(dna)\n",
    "        segment_list.append(segment_random)\n",
    "                       \n",
    "    return segment_list\n"
   ]
  },
  {
   "cell_type": "code",
   "execution_count": 7,
   "metadata": {
    "collapsed": true
   },
   "outputs": [],
   "source": [
    "#creates transcripts based on the segment sequences\n",
    "def create_transcripts(seg_sequences, seg_for_transcript, file_name):\n",
    "    '''\n",
    "    Given: a list of segments and a list that details which segments are in each transcript\n",
    "            for example, mRNA transcript 1 has segments ABCD, which correspond to 0,1,2,3\n",
    "            given file name, write transcripts to a fasta file\n",
    "    Return: list of transcripts, and list of transcripts lengths\n",
    "    '''\n",
    "    #mRNA transcripts\n",
    "    transcripts = [] # list to hold all transcript sequences (Arc1 through Arc10)\n",
    "    length = []\n",
    "    \n",
    "    #for each transcript concatenate the sequence denoted by the list of segments\n",
    "    for segs in seg_for_transcript:\n",
    "        tx = '' #empty string for transcript\n",
    "        for x in segs:\n",
    "            tx += seg_sequences[x]\n",
    "        transcripts.append(tx)\n",
    "        length.append(len(tx))\n",
    "    \n",
    "    with gzip.open(file_name, \"wt\") as outfile:\n",
    "        #write for each transcript\n",
    "        for i in range(0, len(transcripts)):\n",
    "            outfile.write('>Arc%s\\n' % str(i+1)) #write name of gene (Arc#)\n",
    "            outfile.write('%s\\n' % transcripts[i]) #transcript sequence\n",
    "\n",
    "    return transcripts, length\n",
    " "
   ]
  },
  {
   "cell_type": "code",
   "execution_count": 8,
   "metadata": {
    "collapsed": true
   },
   "outputs": [],
   "source": [
    "#generates reads based on parameters\n",
    "def generate_reads(v_i, reads_to_gen, len_read, transcripts, file_name):\n",
    "    '''\n",
    "    Given: list of nucleotide abundance, list of transcripts, number of reads to generate, and the length of each read\n",
    "    simulates generating reads and saves them a a fastq file (with file_name as the name)\n",
    "    Returns: normalized v_i list\n",
    "    '''\n",
    "    #normalize v_i  to sum to 1\n",
    "    v_i = [float(i)/sum(v_i) for i in v_i]\n",
    "    num = [*range(0,10)] #numbers 0 to 9, for convenience of naming later on\n",
    "\n",
    "    with gzip.open(file_name, \"wt\") as outfile:      \n",
    "\n",
    "        #generate reads and write to outfile\n",
    "        for i in range(0,reads_to_gen):\n",
    "            #sample transcript i based on vi\n",
    "            t_num = np.random.choice(num, p = v_i)\n",
    "            t = transcripts[t_num] #entire transcript\n",
    "\n",
    "            #choose random start position in transcript between 0 and L-75\n",
    "            start_pos = np.random.randint(0,len(t)-len_read)\n",
    "            read = t[start_pos:start_pos+len_read] #take substring of length len_read\n",
    "\n",
    "            #print first time (read number, source transcript, fragment start, fragment length)\n",
    "            outfile.write('@%s:Arc%s:%s:%s \\n' \n",
    "                          % (str(i+1), str(t_num+1), str(start_pos), str(len_read))) #write name of gene (Arc#)\n",
    "            outfile.write('%s \\n' % read)\n",
    "            outfile.write('+ \\n')\n",
    "            outfile.write('%s \\n' % ('I' * len_read))\n",
    "            \n",
    "    return v_i"
   ]
  },
  {
   "cell_type": "markdown",
   "metadata": {},
   "source": [
    "## 4) test kallisto\n",
    "To generate simulated data, I use the same transcript lengths and nucleotide abundances from the first table."
   ]
  },
  {
   "cell_type": "code",
   "execution_count": 9,
   "metadata": {
    "collapsed": true
   },
   "outputs": [],
   "source": [
    "#initialize relevant values\n",
    "\n",
    "#each transcript contains various segments (0 denotes segment A, 1 = B, etc)\n",
    "seg_covered_original=   [[0,1,2,3],\n",
    "                        [1,2],\n",
    "                        [2,3,4],\n",
    "                        [3,4,5,6],\n",
    "                        [4,5,6,7],\n",
    "                        [5,6,7],\n",
    "                        [6,7],\n",
    "                        [7,8],\n",
    "                        [8,9,0],\n",
    "                        [9,0,1]]\n",
    "\n",
    "#original nucleotide abundance\n",
    "v_i = [0.008,\n",
    "       0.039,\n",
    "       0.291,\n",
    "       0.112,\n",
    "       0.127,\n",
    "       0.008,\n",
    "       0.059,\n",
    "       0.060,\n",
    "       0.022,\n",
    "       0.273]"
   ]
  },
  {
   "cell_type": "code",
   "execution_count": 10,
   "metadata": {},
   "outputs": [
    {
     "name": "stdout",
     "output_type": "stream",
     "text": [
      "\n",
      "[build] loading fasta file transcripts.fasta.gz\n",
      "[build] k-mer length: 31\n",
      "[build] counting k-mers ... done.\n",
      "[build] building target de Bruijn graph ...  done \n",
      "[build] creating equivalence classes ...  done\n",
      "[build] target de Bruijn graph has 19 contigs and contains 10000 k-mers \n",
      "\n",
      "\n",
      "[quant] fragment length distribution is truncated gaussian with mean = 75, sd = 10\n",
      "[index] k-mer length: 31\n",
      "[index] number of targets: 10\n",
      "[index] number of k-mers: 10,000\n",
      "[index] number of equivalence classes: 26\n",
      "[quant] running in single-end mode\n",
      "[quant] will process file 1: reads.fastq.gz\n",
      "[quant] finding pseudoalignments for the reads ... done\n",
      "[quant] processed 100,000 reads, 100,000 reads pseudoaligned\n",
      "[   em] quantifying the abundances ... done\n",
      "[   em] the Expectation-Maximization algorithm ran for 57 rounds\n",
      "\n"
     ]
    }
   ],
   "source": [
    "#run kallisto\n",
    "\n",
    "#generate sgments\n",
    "segment_list = create_segments(num_segments, len_seg)\n",
    "#generate transcriptome and write to fasta file\n",
    "transcripts, transcript_length = create_transcripts(segment_list, seg_covered_original, \"transcripts.fasta.gz\")\n",
    "#generate reads and write to fastq file\n",
    "norm_vi = generate_reads(v_i, reads_to_gen, len_read, transcripts, \"reads.fastq.gz\")\n",
    "#run kallisto on positive control\n",
    "! kallisto index -i arc_transcripts.idx transcripts.fasta.gz\n",
    "! kallisto quant -i arc_transcripts.idx -o abundances2.tsv --single -l 75 -s 10 reads.fastq.gz"
   ]
  },
  {
   "cell_type": "markdown",
   "metadata": {},
   "source": [
    "Now, I write a function to compare the output of Kallisto against the original data. In order to compare the nucleotide abundances returned by Kallisto (est_counts for each transcript), I need to normalize them."
   ]
  },
  {
   "cell_type": "code",
   "execution_count": 11,
   "metadata": {
    "collapsed": true
   },
   "outputs": [],
   "source": [
    "def check_kallisto():\n",
    "    '''\n",
    "    Given: file path for the abundance.tsv\n",
    "    Return: list of all kallisto results, a list of nucleotide abundances, and a list of tpm values\n",
    "    Print out normalized nucleotide abundances and tpm values\n",
    "    '''\n",
    "    all_values = [] #stores all kallisto results in table form\n",
    "    with open(\"abundances2.tsv/abundance.tsv\") as infile:  # Open file for reading \n",
    "        for line in infile:              # Iterate through each line in the file\n",
    "            values = line.split()       # creates list of values\n",
    "            all_values.append(values)\n",
    "    del all_values[0]\n",
    "    \n",
    "    #finds the sum of all the estimates counts \n",
    "    total_count = 0\n",
    "    for x in all_values:\n",
    "        total_count += float(x[3])\n",
    "    \n",
    "    #Print results from Kallisto\n",
    "    print(\"Kallisto Results\")\n",
    "    print('%-17s %-17s %-17s' % (\"Transcript\", \"Vi (norm)\", \"TPM values\"))\n",
    "    \n",
    "    for val in all_values:\n",
    "        norm_vi = float(val[3])/float(total_count) # normalize vi values to sum to 1\n",
    "        val.append(norm_vi)\n",
    "            \n",
    "        print('%-17s %-17.6f %-17s' % (val[0], val[5], val[4]))\n",
    "    print(\"\\n\")\n",
    "    \n",
    "    \n",
    "    #create list of normalized vi values and tpm to return\n",
    "    kallisto_norm_vi = []\n",
    "    kallisto_tpm = []\n",
    "    for x in all_values:\n",
    "        kallisto_norm_vi.append(x[5])\n",
    "        kallisto_tpm.append(x[4])\n",
    "    \n",
    "    return all_values, kallisto_norm_vi, kallisto_tpm\n"
   ]
  },
  {
   "cell_type": "code",
   "execution_count": 12,
   "metadata": {
    "collapsed": true
   },
   "outputs": [],
   "source": [
    "def print_original_info(vi_list, transcript_length):\n",
    "    '''\n",
    "    Given: list of vi and list of transcript lengths\n",
    "    Print vi and tpm in column format with corresponding transcript\n",
    "    Return: list of tpm for original data\n",
    "    '''\n",
    "    \n",
    "    #Calculate TPM given lengths and v_i for each transcript\n",
    "    tpm_actual = [] #empty list   \n",
    "    \n",
    "    #create arrays\n",
    "    vi = np.array(vi_list)\n",
    "    len_array = np.array(transcript_length)\n",
    "    #normalize vi by length of each transcript\n",
    "    ratio_v_l = np.divide(vi, len_array)\n",
    "    total_ti = float(sum(ratio_v_l))\n",
    "    \n",
    "    for x in ratio_v_l:\n",
    "        tpm_i = 1000000*float(x)/total_ti\n",
    "        tpm_actual.append(tpm_i)\n",
    "    print(\"Original Data\")\n",
    "    print('%-17s %-17s %-17s'\n",
    "      % ('Transcript','Original Vi', \"TPM values\"))\n",
    "    for i in range(0,len(vi)):\n",
    "        print('%-17s %-17.6f %-17.1f'% ('Arc'+str(i+1), vi_list[i], tpm_actual[i]))\n",
    "    print(\"\\n\")\n",
    "    \n",
    "    return tpm_actual"
   ]
  },
  {
   "cell_type": "code",
   "execution_count": 13,
   "metadata": {
    "collapsed": true
   },
   "outputs": [],
   "source": [
    "def percent_difference(results, reference):\n",
    "    '''\n",
    "    Given: 2 lists\n",
    "    \n",
    "    Prints percent difference of results list relative to reference list\n",
    "    '''\n",
    "    \n",
    "    #calculate the percent difference is Kallisto's TPM relative to original data set \n",
    "    print('%-17s %-17s'\n",
    "          % ('Transcript','% Dif (compared to original)'))\n",
    "    for i in range(0, len(results)):\n",
    "        x=float(results[i])\n",
    "        y=float(reference[i])\n",
    "        print('%-17s %-17.2f'\n",
    "                % ('Arc'+str(i+1), 100*(x-y)/y))\n",
    "\n",
    "    print('\\n')"
   ]
  },
  {
   "cell_type": "code",
   "execution_count": 14,
   "metadata": {},
   "outputs": [
    {
     "name": "stdout",
     "output_type": "stream",
     "text": [
      "Original Data\n",
      "Transcript        Original Vi       TPM values       \n",
      "Arc1              0.008008          5904.1           \n",
      "Arc2              0.039039          57564.6          \n",
      "Arc3              0.291291          286346.9         \n",
      "Arc4              0.112112          82656.8          \n",
      "Arc5              0.127127          93726.9          \n",
      "Arc6              0.008008          7872.1           \n",
      "Arc7              0.059059          87084.9          \n",
      "Arc8              0.060060          88560.9          \n",
      "Arc9              0.022022          21648.2          \n",
      "Arc10             0.273273          268634.7         \n",
      "\n",
      "\n",
      "Kallisto Results\n",
      "Transcript        Vi (norm)         TPM values       \n",
      "Arc1              0.031395          23143.6          \n",
      "Arc2              0.033709          50652.3          \n",
      "Arc3              0.286175          283054           \n",
      "Arc4              0.101033          74477.4          \n",
      "Arc5              0.125146          92252.7          \n",
      "Arc6              0.018243          18044.3          \n",
      "Arc7              0.057912          87021            \n",
      "Arc8              0.055970          84103.9          \n",
      "Arc9              0.029116          28798.9          \n",
      "Arc10             0.261301          258452           \n",
      "\n",
      "\n",
      "Differences in Vi\n",
      "Transcript        % Dif (compared to original)\n",
      "Arc1              292.05           \n",
      "Arc2              -13.65           \n",
      "Arc3              -1.76            \n",
      "Arc4              -9.88            \n",
      "Arc5              -1.56            \n",
      "Arc6              127.81           \n",
      "Arc7              -1.94            \n",
      "Arc8              -6.81            \n",
      "Arc9              32.21            \n",
      "Arc10             -4.38            \n",
      "\n",
      "\n",
      "Differences in TPM\n",
      "Transcript        % Dif (compared to original)\n",
      "Arc1              291.99           \n",
      "Arc2              -12.01           \n",
      "Arc3              -1.15            \n",
      "Arc4              -9.90            \n",
      "Arc5              -1.57            \n",
      "Arc6              129.22           \n",
      "Arc7              -0.07            \n",
      "Arc8              -5.03            \n",
      "Arc9              33.03            \n",
      "Arc10             -3.79            \n",
      "\n",
      "\n"
     ]
    }
   ],
   "source": [
    "#print original nucleotide info \n",
    "og_tpm = print_original_info(norm_vi, transcript_length)\n",
    "#print Kallisto Results\n",
    "kallisto_results, kallisto_norm_vi, kallisto_tpm = check_kallisto()\n",
    "#print difference in vi and tpm values\n",
    "\n",
    "print(\"Differences in Vi\")\n",
    "percent_difference(kallisto_norm_vi, norm_vi)\n",
    "print(\"Differences in TPM\")\n",
    "percent_difference(kallisto_tpm, og_tpm)\n",
    "\n"
   ]
  },
  {
   "cell_type": "markdown",
   "metadata": {},
   "source": [
    "Kallisto did not find the same tpm that the original data set had. Analysis of both nucleotide abundance and TPM (which are related) show that Kallisto overestimates Arc1 by about 3 fold and Arc 6 by about 2 fold (which is consistent with Moriarty's analysis using Kallisto). "
   ]
  },
  {
   "cell_type": "markdown",
   "metadata": {},
   "source": [
    "## 5) \"debug\" kallisto\n",
    "Kallisto could be messing up Arc analysis because it contains a large amount of overlap between transcripts. For example, Arc2 (BC) is a subset of Arc1 (ABCD). The other noteable example is that Arc7 (GH) is a subset of Arc6 (FGH). "
   ]
  },
  {
   "cell_type": "markdown",
   "metadata": {},
   "source": [
    "I suspect that this overlap in segments can explain why the nucleotide abundances for Arc1 and Arc6 are overestimated. Let's start with Arc1. The sequence for Arc2 is contained inside Arc1 (indistinguishable), so when kallisto comes across a read from Arc2, it erroneously assigns it to Arc1 based on the weights of their nucleotide abundances. About $\\frac{0.008}{(0.039+0.008)} = 0.17$ of Arc2's reads are counted as Arc1 reads, so the TPM of Arc1 is artifically inflated: $6000 + 0.17*58000 = 15860$. This TPM value for Arc1 is closer to Moriarty's results of 25000 and my simulation result of 23000 (might change slightly for each rerun). The TPM values are larger than 15860 because my crue calculation only took into account the overlap between Arc1 and Arc2, while in reality there are many segments of Arc1 overlap with other transcripts since A,B,C,D (the segments contained in Arc1's transcript) are repeated in other transcripts as well and in a similar order (CD and AB appear is Arc3 and Arc9)"
   ]
  },
  {
   "cell_type": "markdown",
   "metadata": {},
   "source": [
    "A similar calculation can be done for Arc6 and Arc7. The fraction of Arc7 reads that kallisto will assign to Arc6 is: $\\frac{0.008}{0.008+0.059}=0.119$, so a rough calculation of the TPM for Arc6 would be: $7800 + 0.119*87000 = 18153$, which is very close to the TPM of 19000 kallisto calculated in Moriarty's analysis and my simulation."
   ]
  },
  {
   "cell_type": "markdown",
   "metadata": {},
   "source": [
    "### Hypothesis\n",
    "To test the hypothesis that a large amount of overlapping sequences between transcripts causes kallisto to overcount transcripts (especially those with low nucleotide abundance), I created a debug function to run kallisto with different segments in each transcript and nucleotide abundances."
   ]
  },
  {
   "cell_type": "code",
   "execution_count": 15,
   "metadata": {
    "collapsed": true
   },
   "outputs": [],
   "source": [
    "#run kallisto with different segments within each transcript and also different nucleotide abundances\n",
    "#most of this code is copied from previous parts\n",
    "def debug_kallisto(segment_order_per_transcript, v_i):\n",
    "    '''\n",
    "    Given: a list detailing which segments are present in each transcript, and all nucleotide abundances\n",
    "    Compare results of kallisto\n",
    "    '''\n",
    "    #generate transcriptome and write to fasta file\n",
    "    transcripts, transcript_length = create_transcripts(segment_list, segment_order_per_transcript, \"transcripts.fasta.gz\")\n",
    "    #generate reads and write to fastq file\n",
    "    norm_vi = generate_reads(v_i, reads_to_gen, len_read, transcripts, \"reads.fastq.gz\")\n",
    "    #run kallisto on positive control\n",
    "    ! kallisto index -i arc_transcripts.idx transcripts.fasta.gz\n",
    "    ! kallisto quant -i arc_transcripts.idx -o abundances2.tsv --single -l 75 -s 10 reads.fastq.gz\n",
    "\n",
    "    #print original nucleotide info \n",
    "\n",
    "    #Calculate TPM given lengths and v_i for each transcript\n",
    "    tpm_actual = [] #empty list   \n",
    "\n",
    "    #create arrays\n",
    "    vi = np.array(v_i)\n",
    "    len_array = np.array(transcript_length)\n",
    "    #normalize vi by length of each transcript\n",
    "    ratio_v_l = np.divide(vi, len_array)\n",
    "    total_ti = float(sum(ratio_v_l))\n",
    "\n",
    "    for x in ratio_v_l:\n",
    "        tpm_i = 1000000*float(x)/total_ti\n",
    "        tpm_actual.append(tpm_i)\n",
    "    print(\"Original Data\")\n",
    "    print('%-17s %-17s %-17s'\n",
    "      % ('Transcript','Original Vi', \"TPM values\"))\n",
    "    for i in range(0,len(vi)):\n",
    "        print('%-17s %-17.6f %-17.1f'% ('Arc'+str(i+1), norm_vi[i], tpm_actual[i]))\n",
    "    print(\"\\n\")\n",
    "\n",
    "    #print Kallisto Results\n",
    "    all_values = [] #stores all kallisto results in table form\n",
    "    with open(\"abundances2.tsv/abundance.tsv\") as infile:  # Open file for reading \n",
    "        for line in infile:              # Iterate through each line in the file\n",
    "            values = line.split()       # creates list of values\n",
    "            all_values.append(values)\n",
    "    del all_values[0]\n",
    "\n",
    "    #finds the sum of all the estimates counts\n",
    "    total_count = 0\n",
    "    for x in all_values:\n",
    "        total_count += float(x[3])\n",
    "\n",
    "    print(\"Kallisto Results\")\n",
    "    print('%-17s %-17s %-17s' % (\"Transcript\", \"Vi (norm)\", \"TPM values\"))\n",
    "\n",
    "    for val in all_values:\n",
    "        x = float(val[3])/float(total_count)\n",
    "        val.append(x)\n",
    "\n",
    "        print('%-17s %-17.6f  %-17s' % (val[0], val[5], val[4]))\n",
    "    print(\"\\n\")\n",
    "\n",
    "\n",
    "    #create list of normalized vi values and tpm\n",
    "    kallisto_norm_vi = []\n",
    "    kallisto_tpm = []\n",
    "    for x in all_values:\n",
    "        kallisto_norm_vi.append(x[5])\n",
    "        kallisto_tpm.append(x[4])\n",
    "\n",
    "    #print difference in vi and tpm values\n",
    "\n",
    "    print(\"Differences in Vi\")\n",
    "    percent_difference(kallisto_norm_vi, norm_vi)\n",
    "    print(\"Differences in TPM\")\n",
    "    percent_difference(kallisto_tpm, tpm_actual)"
   ]
  },
  {
   "cell_type": "markdown",
   "metadata": {},
   "source": [
    "### DIfferent Scenarios\n",
    "I created three alternate versions of how the transcripts were spliced. Again, the numbers correspond to which segment is to be included in the corresponding transcript (so 0 is segment A)."
   ]
  },
  {
   "cell_type": "code",
   "execution_count": 16,
   "metadata": {
    "collapsed": true
   },
   "outputs": [],
   "source": [
    "seg1 = [[0],\n",
    "        [1],\n",
    "        [2],\n",
    "        [3],\n",
    "        [4],\n",
    "        [5],\n",
    "        [6],\n",
    "        [7],\n",
    "        [8],\n",
    "        [9]]\n",
    "\n",
    "seg2 = [[0,1,2,3],\n",
    "        [1,2,3,4],\n",
    "        [2,3,4,5],\n",
    "        [3,4,5,6],\n",
    "        [4,5,6,7],\n",
    "        [5,6,7,8],\n",
    "        [6,7,8,9],\n",
    "        [7,8,9,0],\n",
    "        [8,9,0,1],\n",
    "        [9,0,1,2]]\n",
    "\n",
    "seg3 = [[0,1,2,3],\n",
    "        [1,3,5],\n",
    "        [2,4,6],\n",
    "        [3,1],\n",
    "        [4],\n",
    "        [5,8,0],\n",
    "        [6,7,8,9],\n",
    "        [7,9,1],\n",
    "        [8,3],\n",
    "        [9]]\n",
    "        \n",
    "v_equal = [0.1, 0.1, 0.1, 0.1, 0.1, 0.1, 0.1, 0.1, 0.1, 0.1]    \n",
    "#create equal nucleotide abundances\n"
   ]
  },
  {
   "cell_type": "markdown",
   "metadata": {},
   "source": [
    "### Test 1: No Overlap\n",
    "The first version (denoted by seg1) is when each transmcript is only one segment long (Arc1 has sgment A, Arc2 has segment B, etc). The results show that Kallisto is very accurate (almost 0% difference between calculated and actual nucleotide abundances and TPM)."
   ]
  },
  {
   "cell_type": "code",
   "execution_count": 17,
   "metadata": {},
   "outputs": [
    {
     "name": "stdout",
     "output_type": "stream",
     "text": [
      "Each Transcript contains only one segment (NO OVERLAP)\n",
      "\n",
      "[build] loading fasta file transcripts.fasta.gz\n",
      "[build] k-mer length: 31\n",
      "[build] counting k-mers ... done.\n",
      "[build] building target de Bruijn graph ...  done \n",
      "[build] creating equivalence classes ...  done\n",
      "[build] target de Bruijn graph has 10 contigs and contains 9700 k-mers \n",
      "\n",
      "\n",
      "[quant] fragment length distribution is truncated gaussian with mean = 75, sd = 10\n",
      "[index] k-mer length: 31\n",
      "[index] number of targets: 10\n",
      "[index] number of k-mers: 9,700\n",
      "[index] number of equivalence classes: 10\n",
      "[quant] running in single-end mode\n",
      "[quant] will process file 1: reads.fastq.gz\n",
      "[quant] finding pseudoalignments for the reads ... done\n",
      "[quant] processed 100,000 reads, 100,000 reads pseudoaligned\n",
      "[   em] quantifying the abundances ... done\n",
      "[   em] the Expectation-Maximization algorithm ran for 52 rounds\n",
      "\n",
      "Original Data\n",
      "Transcript        Original Vi       TPM values       \n",
      "Arc1              0.008008          8008.0           \n",
      "Arc2              0.039039          39039.0          \n",
      "Arc3              0.291291          291291.3         \n",
      "Arc4              0.112112          112112.1         \n",
      "Arc5              0.127127          127127.1         \n",
      "Arc6              0.008008          8008.0           \n",
      "Arc7              0.059059          59059.1          \n",
      "Arc8              0.060060          60060.1          \n",
      "Arc9              0.022022          22022.0          \n",
      "Arc10             0.273273          273273.3         \n",
      "\n",
      "\n",
      "Kallisto Results\n",
      "Transcript        Vi (norm)         TPM values       \n",
      "Arc1              0.007730           7730             \n",
      "Arc2              0.039060           39060            \n",
      "Arc3              0.291370           291370           \n",
      "Arc4              0.113400           113400           \n",
      "Arc5              0.127710           127710           \n",
      "Arc6              0.008030           8030             \n",
      "Arc7              0.059720           59720            \n",
      "Arc8              0.061670           61670            \n",
      "Arc9              0.021510           21510            \n",
      "Arc10             0.269800           269800           \n",
      "\n",
      "\n",
      "Differences in Vi\n",
      "Transcript        % Dif (compared to original)\n",
      "Arc1              -3.47            \n",
      "Arc2              0.05             \n",
      "Arc3              0.03             \n",
      "Arc4              1.15             \n",
      "Arc5              0.46             \n",
      "Arc6              0.27             \n",
      "Arc7              1.12             \n",
      "Arc8              2.68             \n",
      "Arc9              -2.33            \n",
      "Arc10             -1.27            \n",
      "\n",
      "\n",
      "Differences in TPM\n",
      "Transcript        % Dif (compared to original)\n",
      "Arc1              -3.47            \n",
      "Arc2              0.05             \n",
      "Arc3              0.03             \n",
      "Arc4              1.15             \n",
      "Arc5              0.46             \n",
      "Arc6              0.27             \n",
      "Arc7              1.12             \n",
      "Arc8              2.68             \n",
      "Arc9              -2.33            \n",
      "Arc10             -1.27            \n",
      "\n",
      "\n"
     ]
    }
   ],
   "source": [
    "print(\"Each Transcript contains only one segment (NO OVERLAP)\")\n",
    "debug_kallisto(seg1,v_i)"
   ]
  },
  {
   "cell_type": "markdown",
   "metadata": {},
   "source": [
    "### Test 2a: Excess Overlap, original (uneven) nucleotide abundances\n",
    "The second version (denoted by seg2) is when each transmcript overlaps with other ones (Arc1 has sgment A,B,C,D, Arc2 has segment B,C,D,E, etc). The results show that Kallisto is not accurate. The largest differences emerge with transcripts that had low nucleotide abundances. The reason for this is likely because Kallisto erroneously assigns an overrlapping transcripts' reads to Arc1 or Arc6. Because they have low vi to begin with, any additional reads artifically elevates their TPM and Vi drastically. This is what happened with Moriarty's analysis (and I provided a more in depth explanation and calculation in part 4)."
   ]
  },
  {
   "cell_type": "markdown",
   "metadata": {},
   "source": [
    "Indeed, the results below show that Kallisto is inaccurate when large amounts of overlapping sequences are present (>100% difference)"
   ]
  },
  {
   "cell_type": "code",
   "execution_count": 18,
   "metadata": {},
   "outputs": [
    {
     "name": "stdout",
     "output_type": "stream",
     "text": [
      "Each Transcript contains overlap with multiple transcripts\n",
      "\n",
      "[build] loading fasta file transcripts.fasta.gz\n",
      "[build] k-mer length: 31\n",
      "[build] counting k-mers ... done.\n",
      "[build] building target de Bruijn graph ...  done \n",
      "[build] creating equivalence classes ...  done\n",
      "[build] target de Bruijn graph has 21 contigs and contains 10000 k-mers \n",
      "\n",
      "\n",
      "[quant] fragment length distribution is truncated gaussian with mean = 75, sd = 10\n",
      "[index] k-mer length: 31\n",
      "[index] number of targets: 10\n",
      "[index] number of k-mers: 10,000\n",
      "[index] number of equivalence classes: 30\n",
      "[quant] running in single-end mode\n",
      "[quant] will process file 1: reads.fastq.gz\n",
      "[quant] finding pseudoalignments for the reads ... done\n",
      "[quant] processed 100,000 reads, 100,000 reads pseudoaligned\n",
      "[   em] quantifying the abundances ... done\n",
      "[   em] the Expectation-Maximization algorithm ran for 83 rounds\n",
      "\n",
      "Original Data\n",
      "Transcript        Original Vi       TPM values       \n",
      "Arc1              0.008008          8008.0           \n",
      "Arc2              0.039039          39039.0          \n",
      "Arc3              0.291291          291291.3         \n",
      "Arc4              0.112112          112112.1         \n",
      "Arc5              0.127127          127127.1         \n",
      "Arc6              0.008008          8008.0           \n",
      "Arc7              0.059059          59059.1          \n",
      "Arc8              0.060060          60060.1          \n",
      "Arc9              0.022022          22022.0          \n",
      "Arc10             0.273273          273273.3         \n",
      "\n",
      "\n",
      "Kallisto Results\n",
      "Transcript        Vi (norm)         TPM values       \n",
      "Arc1              0.013028           13028.4          \n",
      "Arc2              0.042474           42474.2          \n",
      "Arc3              0.281821           281821           \n",
      "Arc4              0.117535           117535           \n",
      "Arc5              0.130241           130241           \n",
      "Arc6              0.010022           10021.9          \n",
      "Arc7              0.051533           51532.8          \n",
      "Arc8              0.061485           61485.5          \n",
      "Arc9              0.028582           28582.4          \n",
      "Arc10             0.263278           263278           \n",
      "\n",
      "\n",
      "Differences in Vi\n",
      "Transcript        % Dif (compared to original)\n",
      "Arc1              62.69            \n",
      "Arc2              8.80             \n",
      "Arc3              -3.25            \n",
      "Arc4              4.84             \n",
      "Arc5              2.45             \n",
      "Arc6              25.15            \n",
      "Arc7              -12.74           \n",
      "Arc8              2.37             \n",
      "Arc9              29.79            \n",
      "Arc10             -3.66            \n",
      "\n",
      "\n",
      "Differences in TPM\n",
      "Transcript        % Dif (compared to original)\n",
      "Arc1              62.69            \n",
      "Arc2              8.80             \n",
      "Arc3              -3.25            \n",
      "Arc4              4.84             \n",
      "Arc5              2.45             \n",
      "Arc6              25.15            \n",
      "Arc7              -12.74           \n",
      "Arc8              2.37             \n",
      "Arc9              29.79            \n",
      "Arc10             -3.66            \n",
      "\n",
      "\n"
     ]
    }
   ],
   "source": [
    "print(\"Each Transcript contains overlap with multiple transcripts\")\n",
    "debug_kallisto(seg2, v_i)"
   ]
  },
  {
   "cell_type": "markdown",
   "metadata": {},
   "source": [
    "### Test 2b: Excess Overlap, equal nucleotide abundances\n",
    "This variation on the second version of the transcriptome (denoted by seg2) still contains much overlap between transcripts, but I was interested to see if having transcripts with equal abundance would decrease Kallisto's errors. Interestingly, the results show that Kallisto is very close to the original data (although there are still up to 10% differences). As reads are evenly distributed across possible overlapping transcripts, each transcript ends up with roughly even reads despite the large amount of overlap."
   ]
  },
  {
   "cell_type": "code",
   "execution_count": 19,
   "metadata": {},
   "outputs": [
    {
     "name": "stdout",
     "output_type": "stream",
     "text": [
      "Each Transcript contains overlap with multiple transcripts BUT have equal abundance\n",
      "\n",
      "[build] loading fasta file transcripts.fasta.gz\n",
      "[build] k-mer length: 31\n",
      "[build] counting k-mers ... done.\n",
      "[build] building target de Bruijn graph ...  done \n",
      "[build] creating equivalence classes ...  done\n",
      "[build] target de Bruijn graph has 21 contigs and contains 10000 k-mers \n",
      "\n",
      "\n",
      "[quant] fragment length distribution is truncated gaussian with mean = 75, sd = 10\n",
      "[index] k-mer length: 31\n",
      "[index] number of targets: 10\n",
      "[index] number of k-mers: 10,000\n",
      "[index] number of equivalence classes: 30\n",
      "[quant] running in single-end mode\n",
      "[quant] will process file 1: reads.fastq.gz\n",
      "[quant] finding pseudoalignments for the reads ... done\n",
      "[quant] processed 100,000 reads, 100,000 reads pseudoaligned\n",
      "[   em] quantifying the abundances ... done\n",
      "[   em] the Expectation-Maximization algorithm ran for 52 rounds\n",
      "\n",
      "Original Data\n",
      "Transcript        Original Vi       TPM values       \n",
      "Arc1              0.100000          100000.0         \n",
      "Arc2              0.100000          100000.0         \n",
      "Arc3              0.100000          100000.0         \n",
      "Arc4              0.100000          100000.0         \n",
      "Arc5              0.100000          100000.0         \n",
      "Arc6              0.100000          100000.0         \n",
      "Arc7              0.100000          100000.0         \n",
      "Arc8              0.100000          100000.0         \n",
      "Arc9              0.100000          100000.0         \n",
      "Arc10             0.100000          100000.0         \n",
      "\n",
      "\n",
      "Kallisto Results\n",
      "Transcript        Vi (norm)         TPM values       \n",
      "Arc1              0.103888           103888           \n",
      "Arc2              0.098758           98757.5          \n",
      "Arc3              0.098317           98317.3          \n",
      "Arc4              0.101885           101885           \n",
      "Arc5              0.101028           101028           \n",
      "Arc6              0.099922           99922.1          \n",
      "Arc7              0.097643           97642.8          \n",
      "Arc8              0.103243           103243           \n",
      "Arc9              0.100614           100614           \n",
      "Arc10             0.094702           94701.5          \n",
      "\n",
      "\n",
      "Differences in Vi\n",
      "Transcript        % Dif (compared to original)\n",
      "Arc1              3.89             \n",
      "Arc2              -1.24            \n",
      "Arc3              -1.68            \n",
      "Arc4              1.89             \n",
      "Arc5              1.03             \n",
      "Arc6              -0.08            \n",
      "Arc7              -2.36            \n",
      "Arc8              3.24             \n",
      "Arc9              0.61             \n",
      "Arc10             -5.30            \n",
      "\n",
      "\n",
      "Differences in TPM\n",
      "Transcript        % Dif (compared to original)\n",
      "Arc1              3.89             \n",
      "Arc2              -1.24            \n",
      "Arc3              -1.68            \n",
      "Arc4              1.89             \n",
      "Arc5              1.03             \n",
      "Arc6              -0.08            \n",
      "Arc7              -2.36            \n",
      "Arc8              3.24             \n",
      "Arc9              0.61             \n",
      "Arc10             -5.30            \n",
      "\n",
      "\n"
     ]
    }
   ],
   "source": [
    "print(\"Each Transcript contains overlap with multiple transcripts BUT have equal abundance\")\n",
    "debug_kallisto(seg2, v_equal)"
   ]
  },
  {
   "cell_type": "markdown",
   "metadata": {},
   "source": [
    "### Test 3: No consecutive overlap between transcripts\n",
    "The last version of the transcriptome I wanted to test is not possible in Arc and could explain why Kallisto does not work on Arc but works well on other transcriptomes. Arc is transcribed in a circle and contains consecutive segments of sequence, resulting in many transcripts being a subset of other transcripts. Kallisto works with the intersection of transcripts, and if a large majority of one transcript is a subset of another, this will lead to large errors in determining the vi and TPM of each transcript."
   ]
  },
  {
   "cell_type": "markdown",
   "metadata": {},
   "source": [
    "To simulate a more realistic splicing mechanism (one where segments that are not adjacent or consecutive can be spliced together), I created a list of segments (seg3) where no two transcripts have a more than one overlapping segment. For example, transcript1 (ABCD) does not have more than one overlap with Transcript2 (BDF) because while they share B, BC and BD are different sequences. This is different from Arc1 ABCD intersecting with Arc2 BC on the basis of 2 segments (BC)."
   ]
  },
  {
   "cell_type": "markdown",
   "metadata": {},
   "source": [
    "The results show that Kallisto is more accurate in this test than compared to when all the sequences had multiple overlapping regions (test2). All perecent differences were less than 15%. "
   ]
  },
  {
   "cell_type": "code",
   "execution_count": 20,
   "metadata": {},
   "outputs": [
    {
     "name": "stdout",
     "output_type": "stream",
     "text": [
      "Each Transcript contains overlapping segments, but the order of segments vary\n",
      "\n",
      "[build] loading fasta file transcripts.fasta.gz\n",
      "[build] k-mer length: 31\n",
      "[build] counting k-mers ... done.\n",
      "[build] building target de Bruijn graph ...  done \n",
      "[build] creating equivalence classes ...  done\n",
      "[build] target de Bruijn graph has 32 contigs and contains 10169 k-mers \n",
      "\n",
      "\n",
      "[quant] fragment length distribution is truncated gaussian with mean = 75, sd = 10\n",
      "[index] k-mer length: 31\n",
      "[index] number of targets: 10\n",
      "[index] number of k-mers: 10,169\n",
      "[index] number of equivalence classes: 25\n",
      "[quant] running in single-end mode\n",
      "[quant] will process file 1: reads.fastq.gz\n",
      "[quant] finding pseudoalignments for the reads ... done\n",
      "[quant] processed 100,000 reads, 100,000 reads pseudoaligned\n",
      "[   em] quantifying the abundances ... done\n",
      "[   em] the Expectation-Maximization algorithm ran for 52 rounds\n",
      "\n",
      "Original Data\n",
      "Transcript        Original Vi       TPM values       \n",
      "Arc1              0.008008          3244.6           \n",
      "Arc2              0.039039          21089.6          \n",
      "Arc3              0.291291          157361.1         \n",
      "Arc4              0.112112          90847.6          \n",
      "Arc5              0.127127          206029.5         \n",
      "Arc6              0.008008          4326.1           \n",
      "Arc7              0.059059          23928.6          \n",
      "Arc8              0.060060          32445.6          \n",
      "Arc9              0.022022          17845.1          \n",
      "Arc10             0.273273          442882.2         \n",
      "\n",
      "\n",
      "Kallisto Results\n",
      "Transcript        Vi (norm)         TPM values       \n",
      "Arc1              0.010116           3932.29          \n",
      "Arc2              0.038823           20248.6          \n",
      "Arc3              0.288493           150468           \n",
      "Arc4              0.114468           90701.1          \n",
      "Arc5              0.127861           210722           \n",
      "Arc6              0.007749           4041.77          \n",
      "Arc7              0.061821           24030.9          \n",
      "Arc8              0.057232           29850.3          \n",
      "Arc9              0.020562           16293            \n",
      "Arc10             0.272874           449712           \n",
      "\n",
      "\n",
      "Differences in Vi\n",
      "Transcript        % Dif (compared to original)\n",
      "Arc1              26.32            \n",
      "Arc2              -0.55            \n",
      "Arc3              -0.96            \n",
      "Arc4              2.10             \n",
      "Arc5              0.58             \n",
      "Arc6              -3.23            \n",
      "Arc7              4.68             \n",
      "Arc8              -4.71            \n",
      "Arc9              -6.63            \n",
      "Arc10             -0.15            \n",
      "\n",
      "\n",
      "Differences in TPM\n",
      "Transcript        % Dif (compared to original)\n",
      "Arc1              21.20            \n",
      "Arc2              -3.99            \n",
      "Arc3              -4.38            \n",
      "Arc4              -0.16            \n",
      "Arc5              2.28             \n",
      "Arc6              -6.57            \n",
      "Arc7              0.43             \n",
      "Arc8              -8.00            \n",
      "Arc9              -8.70            \n",
      "Arc10             1.54             \n",
      "\n",
      "\n"
     ]
    }
   ],
   "source": [
    "print(\"Each Transcript contains overlapping segments, but the order of segments vary\")\n",
    "debug_kallisto(seg3, v_i)"
   ]
  },
  {
   "cell_type": "markdown",
   "metadata": {},
   "source": [
    "## Summary \n",
    "In this pset, I simulated data to test how accurate Kallisto is and what assumptions it might be making when analyzing transcriptomes and reads. My analysis has shown that large amount of overlapping regions (espeically consecutive ones) are difficult for Kallisto to handle accurately, and errors in TPM and Vi calculations are exacerbated when transcripts have very unequal transcript abundances.\n"
   ]
  }
 ],
 "metadata": {
  "kernelspec": {
   "display_name": "Python 3",
   "language": "python",
   "name": "python3"
  },
  "language_info": {
   "codemirror_mode": {
    "name": "ipython",
    "version": 3
   },
   "file_extension": ".py",
   "mimetype": "text/x-python",
   "name": "python",
   "nbconvert_exporter": "python",
   "pygments_lexer": "ipython3",
   "version": "3.6.7"
  }
 },
 "nbformat": 4,
 "nbformat_minor": 4
}
