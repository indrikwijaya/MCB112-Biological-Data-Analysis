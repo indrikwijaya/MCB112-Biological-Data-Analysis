{
 "cells": [
  {
   "cell_type": "markdown",
   "metadata": {},
   "source": [
    "Pset 10: the advanture of the moonlighting genes "
   ]
  },
  {
   "cell_type": "code",
   "execution_count": 1,
   "metadata": {},
   "outputs": [],
   "source": [
    "import numpy as np\n",
    "import pandas as pd\n",
    "import matplotlib.pyplot as plt\n",
    "import matplotlib.cm as cmap\n",
    "import scipy.stats as stats"
   ]
  },
  {
   "cell_type": "code",
   "execution_count": 2,
   "metadata": {},
   "outputs": [
    {
     "data": {
      "text/html": [
       "<div>\n",
       "<style scoped>\n",
       "    .dataframe tbody tr th:only-of-type {\n",
       "        vertical-align: middle;\n",
       "    }\n",
       "\n",
       "    .dataframe tbody tr th {\n",
       "        vertical-align: top;\n",
       "    }\n",
       "\n",
       "    .dataframe thead th {\n",
       "        text-align: right;\n",
       "    }\n",
       "</style>\n",
       "<table border=\"1\" class=\"dataframe\">\n",
       "  <thead>\n",
       "    <tr style=\"text-align: right;\">\n",
       "      <th></th>\n",
       "      <th>1</th>\n",
       "      <th>2</th>\n",
       "      <th>3</th>\n",
       "      <th>4</th>\n",
       "      <th>5</th>\n",
       "      <th>6</th>\n",
       "      <th>7</th>\n",
       "      <th>8</th>\n",
       "      <th>9</th>\n",
       "      <th>10</th>\n",
       "      <th>...</th>\n",
       "      <th>51</th>\n",
       "      <th>52</th>\n",
       "      <th>53</th>\n",
       "      <th>54</th>\n",
       "      <th>55</th>\n",
       "      <th>56</th>\n",
       "      <th>57</th>\n",
       "      <th>58</th>\n",
       "      <th>59</th>\n",
       "      <th>60</th>\n",
       "    </tr>\n",
       "    <tr>\n",
       "      <th>0</th>\n",
       "      <th></th>\n",
       "      <th></th>\n",
       "      <th></th>\n",
       "      <th></th>\n",
       "      <th></th>\n",
       "      <th></th>\n",
       "      <th></th>\n",
       "      <th></th>\n",
       "      <th></th>\n",
       "      <th></th>\n",
       "      <th></th>\n",
       "      <th></th>\n",
       "      <th></th>\n",
       "      <th></th>\n",
       "      <th></th>\n",
       "      <th></th>\n",
       "      <th></th>\n",
       "      <th></th>\n",
       "      <th></th>\n",
       "      <th></th>\n",
       "      <th></th>\n",
       "    </tr>\n",
       "  </thead>\n",
       "  <tbody>\n",
       "    <tr>\n",
       "      <td>anise</td>\n",
       "      <td>1453</td>\n",
       "      <td>11100</td>\n",
       "      <td>4600</td>\n",
       "      <td>6130</td>\n",
       "      <td>8434</td>\n",
       "      <td>9249</td>\n",
       "      <td>2232</td>\n",
       "      <td>10746</td>\n",
       "      <td>4745</td>\n",
       "      <td>2764</td>\n",
       "      <td>...</td>\n",
       "      <td>2859</td>\n",
       "      <td>715</td>\n",
       "      <td>10075</td>\n",
       "      <td>1816</td>\n",
       "      <td>196</td>\n",
       "      <td>3506</td>\n",
       "      <td>3454</td>\n",
       "      <td>3576</td>\n",
       "      <td>6269</td>\n",
       "      <td>835</td>\n",
       "    </tr>\n",
       "    <tr>\n",
       "      <td>apricot</td>\n",
       "      <td>944</td>\n",
       "      <td>14</td>\n",
       "      <td>1591</td>\n",
       "      <td>142</td>\n",
       "      <td>372</td>\n",
       "      <td>568</td>\n",
       "      <td>1374</td>\n",
       "      <td>154</td>\n",
       "      <td>582</td>\n",
       "      <td>651</td>\n",
       "      <td>...</td>\n",
       "      <td>375</td>\n",
       "      <td>1257</td>\n",
       "      <td>217</td>\n",
       "      <td>300</td>\n",
       "      <td>2250</td>\n",
       "      <td>460</td>\n",
       "      <td>578</td>\n",
       "      <td>415</td>\n",
       "      <td>1330</td>\n",
       "      <td>1387</td>\n",
       "    </tr>\n",
       "    <tr>\n",
       "      <td>artichoke</td>\n",
       "      <td>883</td>\n",
       "      <td>155</td>\n",
       "      <td>278</td>\n",
       "      <td>720</td>\n",
       "      <td>23</td>\n",
       "      <td>175</td>\n",
       "      <td>15</td>\n",
       "      <td>206</td>\n",
       "      <td>560</td>\n",
       "      <td>937</td>\n",
       "      <td>...</td>\n",
       "      <td>922</td>\n",
       "      <td>395</td>\n",
       "      <td>122</td>\n",
       "      <td>557</td>\n",
       "      <td>465</td>\n",
       "      <td>400</td>\n",
       "      <td>512</td>\n",
       "      <td>825</td>\n",
       "      <td>27</td>\n",
       "      <td>609</td>\n",
       "    </tr>\n",
       "    <tr>\n",
       "      <td>arugula</td>\n",
       "      <td>228</td>\n",
       "      <td>35</td>\n",
       "      <td>69</td>\n",
       "      <td>158</td>\n",
       "      <td>9</td>\n",
       "      <td>44</td>\n",
       "      <td>2</td>\n",
       "      <td>48</td>\n",
       "      <td>115</td>\n",
       "      <td>231</td>\n",
       "      <td>...</td>\n",
       "      <td>198</td>\n",
       "      <td>94</td>\n",
       "      <td>44</td>\n",
       "      <td>135</td>\n",
       "      <td>105</td>\n",
       "      <td>84</td>\n",
       "      <td>114</td>\n",
       "      <td>167</td>\n",
       "      <td>3</td>\n",
       "      <td>134</td>\n",
       "    </tr>\n",
       "    <tr>\n",
       "      <td>asparagus</td>\n",
       "      <td>608</td>\n",
       "      <td>5</td>\n",
       "      <td>1065</td>\n",
       "      <td>89</td>\n",
       "      <td>262</td>\n",
       "      <td>409</td>\n",
       "      <td>859</td>\n",
       "      <td>87</td>\n",
       "      <td>357</td>\n",
       "      <td>399</td>\n",
       "      <td>...</td>\n",
       "      <td>257</td>\n",
       "      <td>791</td>\n",
       "      <td>156</td>\n",
       "      <td>199</td>\n",
       "      <td>1429</td>\n",
       "      <td>261</td>\n",
       "      <td>354</td>\n",
       "      <td>255</td>\n",
       "      <td>849</td>\n",
       "      <td>887</td>\n",
       "    </tr>\n",
       "    <tr>\n",
       "      <td>...</td>\n",
       "      <td>...</td>\n",
       "      <td>...</td>\n",
       "      <td>...</td>\n",
       "      <td>...</td>\n",
       "      <td>...</td>\n",
       "      <td>...</td>\n",
       "      <td>...</td>\n",
       "      <td>...</td>\n",
       "      <td>...</td>\n",
       "      <td>...</td>\n",
       "      <td>...</td>\n",
       "      <td>...</td>\n",
       "      <td>...</td>\n",
       "      <td>...</td>\n",
       "      <td>...</td>\n",
       "      <td>...</td>\n",
       "      <td>...</td>\n",
       "      <td>...</td>\n",
       "      <td>...</td>\n",
       "      <td>...</td>\n",
       "      <td>...</td>\n",
       "    </tr>\n",
       "    <tr>\n",
       "      <td>wasabi</td>\n",
       "      <td>391</td>\n",
       "      <td>54</td>\n",
       "      <td>102</td>\n",
       "      <td>287</td>\n",
       "      <td>11</td>\n",
       "      <td>67</td>\n",
       "      <td>6</td>\n",
       "      <td>78</td>\n",
       "      <td>247</td>\n",
       "      <td>425</td>\n",
       "      <td>...</td>\n",
       "      <td>335</td>\n",
       "      <td>133</td>\n",
       "      <td>58</td>\n",
       "      <td>268</td>\n",
       "      <td>200</td>\n",
       "      <td>141</td>\n",
       "      <td>216</td>\n",
       "      <td>322</td>\n",
       "      <td>10</td>\n",
       "      <td>236</td>\n",
       "    </tr>\n",
       "    <tr>\n",
       "      <td>watercress</td>\n",
       "      <td>5149</td>\n",
       "      <td>755</td>\n",
       "      <td>1499</td>\n",
       "      <td>3871</td>\n",
       "      <td>136</td>\n",
       "      <td>923</td>\n",
       "      <td>79</td>\n",
       "      <td>1081</td>\n",
       "      <td>3300</td>\n",
       "      <td>5288</td>\n",
       "      <td>...</td>\n",
       "      <td>4759</td>\n",
       "      <td>2098</td>\n",
       "      <td>917</td>\n",
       "      <td>3411</td>\n",
       "      <td>2678</td>\n",
       "      <td>2147</td>\n",
       "      <td>2935</td>\n",
       "      <td>4367</td>\n",
       "      <td>153</td>\n",
       "      <td>3260</td>\n",
       "    </tr>\n",
       "    <tr>\n",
       "      <td>watermelon</td>\n",
       "      <td>75</td>\n",
       "      <td>559</td>\n",
       "      <td>279</td>\n",
       "      <td>295</td>\n",
       "      <td>429</td>\n",
       "      <td>482</td>\n",
       "      <td>121</td>\n",
       "      <td>532</td>\n",
       "      <td>250</td>\n",
       "      <td>134</td>\n",
       "      <td>...</td>\n",
       "      <td>147</td>\n",
       "      <td>43</td>\n",
       "      <td>491</td>\n",
       "      <td>100</td>\n",
       "      <td>12</td>\n",
       "      <td>188</td>\n",
       "      <td>160</td>\n",
       "      <td>191</td>\n",
       "      <td>364</td>\n",
       "      <td>41</td>\n",
       "    </tr>\n",
       "    <tr>\n",
       "      <td>yam</td>\n",
       "      <td>301</td>\n",
       "      <td>2598</td>\n",
       "      <td>1041</td>\n",
       "      <td>1369</td>\n",
       "      <td>1901</td>\n",
       "      <td>2034</td>\n",
       "      <td>507</td>\n",
       "      <td>2375</td>\n",
       "      <td>1029</td>\n",
       "      <td>628</td>\n",
       "      <td>...</td>\n",
       "      <td>671</td>\n",
       "      <td>168</td>\n",
       "      <td>2191</td>\n",
       "      <td>379</td>\n",
       "      <td>56</td>\n",
       "      <td>842</td>\n",
       "      <td>716</td>\n",
       "      <td>758</td>\n",
       "      <td>1392</td>\n",
       "      <td>172</td>\n",
       "    </tr>\n",
       "    <tr>\n",
       "      <td>zucchini</td>\n",
       "      <td>101</td>\n",
       "      <td>872</td>\n",
       "      <td>345</td>\n",
       "      <td>494</td>\n",
       "      <td>656</td>\n",
       "      <td>717</td>\n",
       "      <td>150</td>\n",
       "      <td>832</td>\n",
       "      <td>383</td>\n",
       "      <td>230</td>\n",
       "      <td>...</td>\n",
       "      <td>223</td>\n",
       "      <td>50</td>\n",
       "      <td>728</td>\n",
       "      <td>141</td>\n",
       "      <td>14</td>\n",
       "      <td>275</td>\n",
       "      <td>271</td>\n",
       "      <td>309</td>\n",
       "      <td>513</td>\n",
       "      <td>61</td>\n",
       "    </tr>\n",
       "  </tbody>\n",
       "</table>\n",
       "<p>100 rows × 60 columns</p>\n",
       "</div>"
      ],
      "text/plain": [
       "              1      2     3     4     5     6     7      8     9     10  ...  \\\n",
       "0                                                                         ...   \n",
       "anise       1453  11100  4600  6130  8434  9249  2232  10746  4745  2764  ...   \n",
       "apricot      944     14  1591   142   372   568  1374    154   582   651  ...   \n",
       "artichoke    883    155   278   720    23   175    15    206   560   937  ...   \n",
       "arugula      228     35    69   158     9    44     2     48   115   231  ...   \n",
       "asparagus    608      5  1065    89   262   409   859     87   357   399  ...   \n",
       "...          ...    ...   ...   ...   ...   ...   ...    ...   ...   ...  ...   \n",
       "wasabi       391     54   102   287    11    67     6     78   247   425  ...   \n",
       "watercress  5149    755  1499  3871   136   923    79   1081  3300  5288  ...   \n",
       "watermelon    75    559   279   295   429   482   121    532   250   134  ...   \n",
       "yam          301   2598  1041  1369  1901  2034   507   2375  1029   628  ...   \n",
       "zucchini     101    872   345   494   656   717   150    832   383   230  ...   \n",
       "\n",
       "              51    52     53    54    55    56    57    58    59    60  \n",
       "0                                                                        \n",
       "anise       2859   715  10075  1816   196  3506  3454  3576  6269   835  \n",
       "apricot      375  1257    217   300  2250   460   578   415  1330  1387  \n",
       "artichoke    922   395    122   557   465   400   512   825    27   609  \n",
       "arugula      198    94     44   135   105    84   114   167     3   134  \n",
       "asparagus    257   791    156   199  1429   261   354   255   849   887  \n",
       "...          ...   ...    ...   ...   ...   ...   ...   ...   ...   ...  \n",
       "wasabi       335   133     58   268   200   141   216   322    10   236  \n",
       "watercress  4759  2098    917  3411  2678  2147  2935  4367   153  3260  \n",
       "watermelon   147    43    491   100    12   188   160   191   364    41  \n",
       "yam          671   168   2191   379    56   842   716   758  1392   172  \n",
       "zucchini     223    50    728   141    14   275   271   309   513    61  \n",
       "\n",
       "[100 rows x 60 columns]"
      ]
     },
     "execution_count": 2,
     "metadata": {},
     "output_type": "execute_result"
    }
   ],
   "source": [
    "adler_data = pd.read_table('w10-data.tbl', header=None,sep='\\s+',index_col=0)\n",
    "adler_data"
   ]
  },
  {
   "cell_type": "markdown",
   "metadata": {},
   "source": [
    "### 1. write a script that simulates positive control data"
   ]
  },
  {
   "cell_type": "markdown",
   "metadata": {},
   "source": [
    "Use generative model to generate synthetic data. R underlying gene batteries, N genes, M experiments. Generate noisy V matrix, with some moonlighting genes. V = W*H (randomly generate W, H, add Poisson noise). "
   ]
  },
  {
   "cell_type": "code",
   "execution_count": 3,
   "metadata": {},
   "outputs": [],
   "source": [
    "def gen_data(N, M, R, moon):\n",
    "    '''Input\n",
    "            N: # of genes\n",
    "            M: # of experiments (conditions/cell types)\n",
    "            R: # of modules (gene batteries)\n",
    "            moon: # of moonlighting genes\n",
    "        Output\n",
    "            V_noisy: the generated synthetic data, with 5 moonlight genes, with Poisson noise added\n",
    "            W: simulated W matrix\n",
    "            H: simulated H matrix\n",
    "    '''\n",
    "    H = np.random.dirichlet(np.ones(R),size=M).T # Random Dirichlet distribution for each sample mu\n",
    "    # W is sparse. Each column sums to 1. Choose 1 column in each row, add moonlight, dirichlet for +elements in column\n",
    "    bat = np.zeros((N,R)) # Encode which Wia > 0\n",
    "    for i, k in enumerate(np.random.choice(R, N)):\n",
    "        bat[i, k] = 1\n",
    "    # For #moon genes in module 1, assign them to module 2 as well\n",
    "    W1 = np.array([i for i in range(bat.shape[0]) if bat[i,0] == 1])\n",
    "    for j in np.random.choice(W1, moon):\n",
    "        bat[j,1] = 1\n",
    "    W = np.zeros((N,R))\n",
    "    # Do dricihlet random sample for each column of W, where the # of samples = the # of genes assigned to that module, sparse W\n",
    "    for k in range(R):\n",
    "        Wk = np.array([i for i in range(bat.shape[0]) if bat[i,k] == 1])\n",
    "        W[Wk, k] = np.random.dirichlet(np.ones(Wk.shape[0]))\n",
    "    \n",
    "    # Choose counts from uniform distribution, from 90000 to 110000\n",
    "    C = np.around(np.random.uniform(90000,110000,M))\n",
    "    V = C*np.dot(W,H)\n",
    "    # Add Poisson noise to V\n",
    "    V_noisy = np.random.poisson(V)\n",
    "    # Save to data table\n",
    "    genes = ['gene '+str(i) for i in range(N)] # Give names to genes\n",
    "    data = pd.DataFrame(V_noisy, index=genes)\n",
    "    return (V_noisy, W, H)"
   ]
  },
  {
   "cell_type": "markdown",
   "metadata": {},
   "source": [
    "Now, we have a script to generate synthetic data with moonlight genes. N,M,R, moon (# of moonlighting genes) are input values that can vary. The gen_data function outputs matrix V (synthetic noisy counts data), and saves the corresponding data table to 'synthetic_data.tbl'. We will run the script to generate synthetic data in Part 2, for testing my NMF algorithm. \n",
    "\n",
    "Note: To make W matrix sparse (many 0's), I used np.random.choice to assign genes to modules, and used dirichlet to assign weigts to genes in each module. So that in each column of W, only genes in that correponding module have positive $W_ia$. Moonlight genes are added between 2 modules, where the weights are within 2-fold of each other, to make the moonlighting genes relatively obvious for identification (using sparse dirichlet to generate W may results in moonlighting genes with small weight in one of it's modules, making them difficult to identify). "
   ]
  },
  {
   "cell_type": "markdown",
   "metadata": {},
   "source": [
    "### 2. implement nonnegative matrix factorization"
   ]
  },
  {
   "cell_type": "code",
   "execution_count": 4,
   "metadata": {},
   "outputs": [],
   "source": [
    "def log_likelihood(V, C, W, H):\n",
    "    \"\"\"input\n",
    "            V: observed counts matrix (NxM)\n",
    "            C: total number of counts per experiment (Rx1)\n",
    "            W: current weights matrix (NxR)\n",
    "            H: current mixture coefficients matrix (RxM)\n",
    "        output\n",
    "            ll: total log likelihood of data given model\n",
    "    \"\"\"\n",
    "    #Calculate expected counts V_exp from C, W, and H. V_exp=lambda\n",
    "    V_exp = C*np.dot(W,H)\n",
    "    #Calculate loglikelihood using observed counts and expected counts\n",
    "    ll = np.sum(V*np.log(V_exp)-V_exp)\n",
    "    return ll"
   ]
  },
  {
   "cell_type": "code",
   "execution_count": 5,
   "metadata": {},
   "outputs": [],
   "source": [
    "def nmf(V):\n",
    "    '''input\n",
    "            V: Input dataset of gene expression counts for a set of genes in different experiments\n",
    "        Goal\n",
    "            For each R in [2,7), find optimal V_exp = C*np.dot(W,H) for minimizing log-likelihood of V given R, using \n",
    "            non-negative matrix factorization\n",
    "        output\n",
    "            nmf_dict: a dictionary of {R:(W,H,ll)}, including best fit W matrix (dims N*R), best fit H matrix (dims R*M), optimial ll, for \n",
    "            each R in [2,7)\n",
    "    '''\n",
    "    nmf_dict = dict()\n",
    "    N, M = V.shape\n",
    "    C = np.sum(V, axis=0)\n",
    "    for R in range(2,7):\n",
    "        # Generate 10 random initial conditions W, H\n",
    "        ll_array = dict()\n",
    "        for i in range(10):\n",
    "            # Initialize W, H\n",
    "            H = np.random.dirichlet(np.ones(R),size=M).T\n",
    "            W = np.random.dirichlet(np.ones(N),size=R).T\n",
    "            ll = -np.inf\n",
    "            epsilon = np.inf\n",
    "            while abs(epsilon) > 0.01: \n",
    "                # Use NMF to find W, H that locally maximize log likelihood\n",
    "                V_exp = C*np.dot(W,H)\n",
    "                new_ll = log_likelihood(V, C, W, H)\n",
    "                epsilon = new_ll - ll\n",
    "                ll = new_ll\n",
    "                # Gradient ascent optimization, NMF update using matrix algebra\n",
    "                W = W*np.sum(np.divide(V,V_exp)[:,:,None]*(np.multiply(C,H).T[None,:,:]), axis=1) # expand i*mu, mu*a\n",
    "                W /= W.sum(axis=0) # Normalize s.t. each column of W sums to 1\n",
    "                H = H*np.sum((V/V_exp)[None,:,:]*W.T[:,:,None], axis=1) # expand i*mu, a*i\n",
    "            # Save ll\n",
    "            ll_array[ll] = (W, H)\n",
    "        ll_opt = max(ll_array.keys()) # Get best log likelihood\n",
    "        W_opt, H_opt = ll_array[ll_opt]\n",
    "        nmf_dict[R] = (W_opt, H_opt, ll_opt)\n",
    "    return nmf_dict"
   ]
  },
  {
   "cell_type": "code",
   "execution_count": 6,
   "metadata": {},
   "outputs": [],
   "source": [
    "def plot_nmf(nmf_dict):\n",
    "    '''Input: nmf_dict (the output from nmf function) containing best fit for each R\n",
    "    Plot log likelihood vs. R, for the optimized LL corresponding to each R. Output: None'''\n",
    "    Rs = list(nmf_dict.keys())\n",
    "    lls = [nmf_dict[R][2] for R in Rs]\n",
    "    plt.plot(Rs, lls, 'o-')\n",
    "    plt.xticks(Rs)\n",
    "    plt.show()"
   ]
  },
  {
   "cell_type": "code",
   "execution_count": 7,
   "metadata": {},
   "outputs": [],
   "source": [
    "N, M, R, moon = 100, 50, 4, 4 # N genes, M experiments, R modules, 4 moonlighting genes\n",
    "V, W, H = gen_data(N, M, R, moon)"
   ]
  },
  {
   "cell_type": "code",
   "execution_count": 8,
   "metadata": {},
   "outputs": [
    {
     "data": {
      "image/png": "[encoded data removed]",
      "text/plain": [
       "<Figure size 432x288 with 1 Axes>"
      ]
     },
     "metadata": {
      "needs_background": "light"
     },
     "output_type": "display_data"
    }
   ],
   "source": [
    "nmf_dict = nmf(V) # N, M, R, moon = 100, 50, 4, 4\n",
    "plot_nmf(nmf_dict)"
   ]
  },
  {
   "cell_type": "markdown",
   "metadata": {},
   "source": [
    "For NMF on simulated data, we observe that the log-likelihoodthere clearly increases from R = 3 to 4, then plateaus with no significant increase for R = 5 or 6. This indicates there are 4 gene batteries, consitent with the simulated data. I included R=2 in the NMF model, so that if true R = 3, we can observe the plateau in log-likelihood increase around 3. We don't need to plot beyond R=6 because if LL doesn't plateau by 6, we know R=6 because R in [3,6]. \n",
    "\n",
    "Next, we modify the parameters for synthetic data, and oberve that NMF still captures the optimal R (true R=6. The log-likelihood does not plateau from 3-6, indicating 6 gene batteries is optimal based on NMF)."
   ]
  },
  {
   "cell_type": "code",
   "execution_count": 9,
   "metadata": {},
   "outputs": [
    {
     "data": {
      "image/png": "[encoded data removed]",
      "text/plain": [
       "<Figure size 432x288 with 1 Axes>"
      ]
     },
     "metadata": {
      "needs_background": "light"
     },
     "output_type": "display_data"
    }
   ],
   "source": [
    "# Modify simulated data parameters N, M, R, and rerun NMF\n",
    "N2, M2, R2, moon2 = 90, 60, 6, 5\n",
    "V2, W2, H2 = gen_data(N2, M2, R2, moon2)\n",
    "nmf_dict2 = nmf(V2)\n",
    "plot_nmf(nmf_dict2)"
   ]
  },
  {
   "cell_type": "code",
   "execution_count": 10,
   "metadata": {},
   "outputs": [],
   "source": [
    "best_W1, best_H1 = nmf_dict[4][:2]\n",
    "best_W2 = nmf_dict2[6][0]"
   ]
  },
  {
   "cell_type": "code",
   "execution_count": 11,
   "metadata": {},
   "outputs": [],
   "source": [
    "def sort_array_pop(V_array):\n",
    "    '''Input V_array, sort columns of array based on first element, 2nd element..., return sorted array'''\n",
    "    n_comp = V_array.shape[0]\n",
    "    for i in range(n_comp):\n",
    "        if i == 0:\n",
    "            pop1= V_array[:,np.argmax(V_array, axis =0) == i]\n",
    "            pop1_sort = pop1[:,pop1[i].argsort()[::-1]]\n",
    "        elif i == 1:\n",
    "            popn = V_array[:,np.argmax(V_array, axis =0) == i]\n",
    "            popn_sort = popn[:,popn[i].argsort()]\n",
    "            sorted_array = np.concatenate((pop1_sort,popn_sort), axis =1)\n",
    "        else:\n",
    "            popn = V_array[:,np.argmax(V_array, axis =0) == i]\n",
    "            popn_sort = popn[:,popn[i].argsort()]\n",
    "            sorted_array = np.concatenate((sorted_array,popn_sort), axis =1)\n",
    "    \n",
    "    return sorted_array"
   ]
  },
  {
   "cell_type": "code",
   "execution_count": 12,
   "metadata": {},
   "outputs": [],
   "source": [
    "# After finding R, sort and row-normalize W, look at histogram\n",
    "def plot_sorted_array(W):\n",
    "    '''Input best fit W, sort by row, plot for visualization'''\n",
    "    fig = plt.figure(figsize=(20,10))\n",
    "    W_nor = np.divide(W,W.sum(axis=1)[:,None])\n",
    "    W_sorted = sort_array_pop(W_nor.T).T\n",
    "    # Make admixture-like bar plot \n",
    "    r = np.array(range(W_nor.shape[0]))\n",
    "    colors = ['r', 'y', 'g', 'b', 'c', 'm', 'k', 'w']\n",
    "    for a in range(W_sorted.shape[1]):\n",
    "        plt.bar(r, W_sorted[:,a], bottom = W_sorted[:,:a].sum(axis=1), color=colors[a],alpha=0.7)\n",
    "    plt.show()\n",
    "    return W_nor"
   ]
  },
  {
   "cell_type": "code",
   "execution_count": 13,
   "metadata": {},
   "outputs": [
    {
     "data": {
      "image/png": "[encoded data removed]",
      "text/plain": [
       "<Figure size 1440x720 with 1 Axes>"
      ]
     },
     "metadata": {
      "needs_background": "light"
     },
     "output_type": "display_data"
    }
   ],
   "source": [
    "W_nor = plot_sorted_array(best_W1) # We see 4 moonlighting genes"
   ]
  },
  {
   "cell_type": "code",
   "execution_count": 14,
   "metadata": {},
   "outputs": [
    {
     "data": {
      "image/png": "[encoded data removed]",
      "text/plain": [
       "<Figure size 1440x720 with 1 Axes>"
      ]
     },
     "metadata": {
      "needs_background": "light"
     },
     "output_type": "display_data"
    }
   ],
   "source": [
    "W_nor2 = plot_sorted_array(best_W2) # We see 5 moonlighting genes"
   ]
  },
  {
   "cell_type": "markdown",
   "metadata": {},
   "source": [
    "Now, let's set a threshold for elements in W, for identification of moonlight genes"
   ]
  },
  {
   "cell_type": "code",
   "execution_count": 15,
   "metadata": {},
   "outputs": [],
   "source": [
    "def moonlight_genes(W_nor, cutoff=0.1):\n",
    "    '''Input: W_nor, row-normalized W matrix (not sorted)\n",
    "    Output: inds, indices correponding to moonlight genes identified by NMF'''\n",
    "    W_pos = np.sum((W_nor>cutoff), axis=1)\n",
    "    inds = np.array([i for i in range(len(W_pos)) if W_pos[i]>1])\n",
    "    return inds"
   ]
  },
  {
   "cell_type": "code",
   "execution_count": 16,
   "metadata": {},
   "outputs": [
    {
     "data": {
      "text/plain": [
       "array([13, 35, 68, 97])"
      ]
     },
     "execution_count": 16,
     "metadata": {},
     "output_type": "execute_result"
    }
   ],
   "source": [
    "moonlight_genes(W_nor, cutoff=0.1) # Expected 4 moonlight genes"
   ]
  },
  {
   "cell_type": "code",
   "execution_count": 17,
   "metadata": {},
   "outputs": [
    {
     "data": {
      "text/plain": [
       "array([29, 71, 76, 80])"
      ]
     },
     "execution_count": 17,
     "metadata": {},
     "output_type": "execute_result"
    }
   ],
   "source": [
    "moonlight_genes(W_nor2, cutoff=0.1) # Expected 5 moonlight genes"
   ]
  },
  {
   "cell_type": "code",
   "execution_count": 18,
   "metadata": {},
   "outputs": [
    {
     "name": "stdout",
     "output_type": "stream",
     "text": [
      "[28 28 24 24]\n",
      "[24 24 28 28]\n"
     ]
    }
   ],
   "source": [
    "# Check if W (ground truth) and W_nor (NMF fit) have the same module sizes\n",
    "print(np.sum(W>0, axis=0))\n",
    "print(np.sum(W_nor>0.1, axis=0))"
   ]
  },
  {
   "cell_type": "code",
   "execution_count": 19,
   "metadata": {},
   "outputs": [
    {
     "name": "stdout",
     "output_type": "stream",
     "text": [
      "[18 26 10 15 15 10]\n",
      "[10 15 18 10 26 15]\n"
     ]
    }
   ],
   "source": [
    "print(np.sum(W2>0, axis=0))\n",
    "print(np.sum(W_nor2>0.1, axis=0))"
   ]
  },
  {
   "cell_type": "code",
   "execution_count": 20,
   "metadata": {},
   "outputs": [
    {
     "data": {
      "text/plain": [
       "array([[0.99821195, 1.13957141, 0.9834244 , ..., 0.99597206, 1.06022811,\n",
       "        1.13016384],\n",
       "       [0.9514663 , 0.98703531, 1.06743138, ..., 1.00484856, 1.04949414,\n",
       "        0.82289752],\n",
       "       [0.97902738, 0.94081363, 0.96930796, ..., 1.02370132, 1.04342793,\n",
       "        0.93852348],\n",
       "       ...,\n",
       "       [0.97246274, 0.99841758, 1.03780473, ..., 0.96070851, 1.00585064,\n",
       "        0.85105488],\n",
       "       [0.98763406, 1.12168986, 1.05238496, ..., 1.01220496, 1.05028226,\n",
       "        0.97727745],\n",
       "       [1.01215615, 0.99989137, 1.00883834, ..., 0.98656877, 1.00590651,\n",
       "        0.99001005]])"
      ]
     },
     "execution_count": 20,
     "metadata": {},
     "output_type": "execute_result"
    }
   ],
   "source": [
    "# Double check that V was factored correctly\n",
    "ratio = V/(np.sum(V, axis=0)*np.dot(best_W1,best_H1)) # V/V_exp, where V_exp = C*np.dot(W,H)\n",
    "ratio"
   ]
  },
  {
   "cell_type": "markdown",
   "metadata": {},
   "source": [
    "As expected, the ratio between V and $\\lambda$ for $\\lambda$ calulated using NMF best fit W and H approaches 1 for each element $V_{i\\mu}$, indicating accurate factorization and Poisson noise. "
   ]
  },
  {
   "cell_type": "markdown",
   "metadata": {},
   "source": [
    "How well does NMF reconstruct the known gene batteries?\n",
    "\n",
    "NMF reconstructs the known gene batteries well, expecially the number of batteries. In both R=4 and R=6 cases, the NMF model correctly identified the number of gene modules, based on flattening of the log-likelihood curve. Log-likelihood clearly increases for R=a < the true R, but from R>= true R, log-likelihood does not increase significantly. The cluster sizes are similar to expected (in simulated data, each gene was assigned to a cluter using random.choice with uniform probability for each cluster).\n",
    "\n",
    "However, NMF captures moonlighting genes well but not perfectly. For V (R=4, 4 moonlighting genes), we correctly observed 4 moonlighting genes wit $W_{ia}$ cutoff = 0.1. Module sizes from model fit agreed with ground-truth module sizes in W, indicating correct reconstruction of gene batteries. \n",
    "\n",
    "But for synthesized data V2 (R=6, 5 moonlighting genes expected), we could only identify 4 moonlighting genes at cutoff 0.1. Based on # genes in each battery, I conlude that one moonlighting gene was incorrectly identified as belonging to 1 cluster, while other genes were correctly identified based on correct battery sizes (beside one battery smaller than expected by 1). Since best fit W matrix are not sparse (partly due to noise in V), $W_{ia}$ are not exactly 0 for modules gene $i$ doesn't belong to. And cutoff for $W_{ia}$ needs to be set to call whether gene $i$ relates to module $a$; this cutoff may be relatively arbitrary and can require visual inspection of the W admixture plot. \n",
    "\n",
    "For synthetic data generation, I made W sparse and did dirichlet along the columns, allowing weights in moonlighting genes to differ widely between 2 modules. NMF can capture most but not all the moonlighting genes. I expect moonlighting genes with significant activity in 2 modules can be accurately detected, but moonlighting genes with relatively small activity in one module compared to another may not be accurately identified. "
   ]
  },
  {
   "cell_type": "code",
   "execution_count": 21,
   "metadata": {},
   "outputs": [
    {
     "data": {
      "image/png": "[encoded data removed]",
      "text/plain": [
       "<Figure size 432x288 with 1 Axes>"
      ]
     },
     "metadata": {
      "needs_background": "light"
     },
     "output_type": "display_data"
    }
   ],
   "source": [
    "Va = adler_data.to_numpy()\n",
    "nmf_adler = nmf(Va)\n",
    "plot_nmf(nmf_adler)"
   ]
  },
  {
   "cell_type": "markdown",
   "metadata": {},
   "source": [
    "Here we see that LL plateaus after R=4, indicating there are 4 genes batteries. Get W matrix for Adler, plot composition of each gene, and identify the moonlighting genes."
   ]
  },
  {
   "cell_type": "code",
   "execution_count": 22,
   "metadata": {
    "scrolled": false
   },
   "outputs": [
    {
     "data": {
      "image/png": "[encoded data removed]",
      "text/plain": [
       "<Figure size 1440x720 with 1 Axes>"
      ]
     },
     "metadata": {
      "needs_background": "light"
     },
     "output_type": "display_data"
    }
   ],
   "source": [
    "Adler_W = nmf_adler[4][0]\n",
    "# Plot row sorted, row-normalized W to find moonlight genes\n",
    "Adler_Wnor = plot_sorted_array(Adler_W)"
   ]
  },
  {
   "cell_type": "markdown",
   "metadata": {},
   "source": [
    "By visual inspection, there are approximately 3 moonlighting genes (Green and Red). It is possible that not all moonlighting gene were captured (especially moonlighting genes with relatively small weights in one battery and large weights in another). "
   ]
  },
  {
   "cell_type": "code",
   "execution_count": 23,
   "metadata": {},
   "outputs": [
    {
     "data": {
      "text/plain": [
       "array([39, 47, 71, 94])"
      ]
     },
     "execution_count": 23,
     "metadata": {},
     "output_type": "execute_result"
    }
   ],
   "source": [
    "moonlight_genes(Adler_Wnor, cutoff=0.05) # cutoff=0.05"
   ]
  },
  {
   "cell_type": "code",
   "execution_count": 24,
   "metadata": {},
   "outputs": [
    {
     "data": {
      "text/plain": [
       "'turnip'"
      ]
     },
     "execution_count": 24,
     "metadata": {},
     "output_type": "execute_result"
    }
   ],
   "source": [
    "adler_data.index[94]"
   ]
  },
  {
   "cell_type": "markdown",
   "metadata": {},
   "source": [
    "Using $W_{ia}$ cutoff = 0.05, NMF identifies 4 moonlighting genes. However, the bar with mostly blue (small green segment) may be a false positive. It is also possible for NMF to produce false negatives, for moonlighting genes with relatively small weights in one module it belongs. Vary cutoff to see how many moonlighting genes would be called. "
   ]
  },
  {
   "cell_type": "code",
   "execution_count": 25,
   "metadata": {},
   "outputs": [
    {
     "data": {
      "text/plain": [
       "array([39, 47, 71, 80, 94])"
      ]
     },
     "execution_count": 25,
     "metadata": {},
     "output_type": "execute_result"
    }
   ],
   "source": [
    "inds = moonlight_genes(Adler_Wnor, cutoff=0.03) \n",
    "inds"
   ]
  },
  {
   "cell_type": "code",
   "execution_count": 26,
   "metadata": {},
   "outputs": [
    {
     "data": {
      "text/plain": [
       "array([39, 47, 71])"
      ]
     },
     "execution_count": 26,
     "metadata": {},
     "output_type": "execute_result"
    }
   ],
   "source": [
    "inds = moonlight_genes(Adler_Wnor, cutoff=0.1) \n",
    "inds"
   ]
  },
  {
   "cell_type": "markdown",
   "metadata": {},
   "source": [
    "I decided to choose cutoff = 0.1, because based on test data in Part 2, decreasing cutoff to < 0.1 increased noise, without recovering false negative genes. "
   ]
  },
  {
   "cell_type": "code",
   "execution_count": 27,
   "metadata": {},
   "outputs": [],
   "source": [
    "def classify_genes(W_nor, df, cutoff=0.1):\n",
    "    '''Classify genes into batteries and dentify moonlighting genes\n",
    "    Inputs: \n",
    "        W_nor - normalized best fit W matrix\n",
    "        df - dataframe of the data of interest\n",
    "        cutoff - Wia cutoff\n",
    "    Outputs: \n",
    "        moon_genes: moonlighting gene names\n",
    "        battery_sizes: a np array of the sizes of each battery\n",
    "        gene_dict: a dictionary of {module: [gene names]}\n",
    "    '''\n",
    "    moon_inds = moonlight_genes(W_nor, cutoff)\n",
    "    moon_genes = df.index[moon_inds]\n",
    "    # Assign genes to modules\n",
    "    battery_sizes = np.sum(W_nor>cutoff, axis=0)\n",
    "    gene_dict = dict()\n",
    "    for i in range(W_nor.shape[1]):\n",
    "        genes = []\n",
    "        for j in range(W_nor.shape[0]): \n",
    "            if W_nor[j,i] > cutoff:\n",
    "                genes.append(df.index[j])\n",
    "        gene_dict['Module '+str(i+1)] = genes\n",
    "    return (moon_genes, battery_sizes, gene_dict)"
   ]
  },
  {
   "cell_type": "code",
   "execution_count": 28,
   "metadata": {},
   "outputs": [
    {
     "name": "stdout",
     "output_type": "stream",
     "text": [
      "Moonlighting genes:  ['grape', 'kohlrabi', 'pepper']\n",
      "Battery sizes:  [20 43 20 20]\n",
      "{'Module 1': ['anise', 'cantaloupe', 'chestnut', 'cranberry', 'fig', 'grape', 'kohlrabi', 'leek', 'lentil', 'melon', 'orange', 'papaya', 'parsley', 'pepper', 'plantain', 'pomegranate', 'scallion', 'watermelon', 'yam', 'zucchini'], 'Module 2': ['artichoke', 'arugula', 'avocado', 'banana', 'beet', 'blackberry', 'broccoli', 'caraway', 'cilantro', 'cucumber', 'currant', 'eggplant', 'elderberry', 'ginger', 'gooseberry', 'grapefruit', 'guava', 'honeydew', 'horseradish', 'juniper', 'kiwi', 'lettuce', 'lime', 'maize', 'mustard', 'okra', 'oregano', 'parsnip', 'peach', 'pineapple', 'potato', 'quince', 'raisin', 'rosemary', 'rutabaga', 'sage', 'spinach', 'strawberry', 'thyme', 'tomato', 'turnip', 'wasabi', 'watercress'], 'Module 3': ['apricot', 'asparagus', 'blueberry', 'carrot', 'cauliflower', 'cayenne', 'chickpea', 'clementine', 'coconut', 'coriander', 'endive', 'grape', 'kohlrabi', 'lavender', 'mango', 'onion', 'pea', 'pepper', 'persimmon', 'tamarind'], 'Module 4': ['basil', 'butternut', 'cabbage', 'celery', 'chard', 'cherry', 'fennel', 'garlic', 'huckleberry', 'mulberry', 'mushroom', 'nectarine', 'olive', 'pear', 'plum', 'pumpkin', 'radish', 'raspberry', 'rhubarb', 'tangerine']}\n"
     ]
    }
   ],
   "source": [
    "moonlights, battery_sizes, gene_dict = classify_genes(Adler_Wnor, adler_data)\n",
    "print('Moonlighting genes: ',str(list(moonlights)))\n",
    "print('Battery sizes: ', battery_sizes)\n",
    "print(gene_dict)"
   ]
  },
  {
   "cell_type": "markdown",
   "metadata": {},
   "source": [
    "My best guess for the number of gene batteries is 4, because the log-likelihood of V given V_exp by NMF increases between R=2 and R=4, but plateaus after R=4 with no significant increase between R=4 and R=6. Thus, 4 is the smallest number of batteries that can capture most of the variation in data, so I think there are 4 gene batteries. \n",
    "\n",
    "There are [20, 20, 20, 43] genes in each battery. The categorization of gene batteries is given above (Modules 1-4). \n",
    "\n",
    "My best guess is there are 3 moonlighting genes ['grape', 'kohlrabi', 'pepper'], all from the same two batteries, using $W_{ia}$ cutoff = 0.1. The 0.1 cutoff is relatively stringent. It is also possible that 'turnip' is a moonlighting gene between 2 different batteries, and it is possible for there to be false negatives. But my best guess is 3 moonlighting genes based on cutoff calculations (see Part 2 reasoning behind cutoffs) and visual inspection of the admixture plot, which show 3 clear moonlighting genes with bars of two colors (belonging to two batteries). "
   ]
  }
 ],
 "metadata": {
  "kernelspec": {
   "display_name": "Python 3",
   "language": "python",
   "name": "python3"
  },
  "language_info": {
   "codemirror_mode": {
    "name": "ipython",
    "version": 3
   },
   "file_extension": ".py",
   "mimetype": "text/x-python",
   "name": "python",
   "nbconvert_exporter": "python",
   "pygments_lexer": "ipython3",
   "version": "3.6.9"
  }
 },
 "nbformat": 4,
 "nbformat_minor": 4
}
