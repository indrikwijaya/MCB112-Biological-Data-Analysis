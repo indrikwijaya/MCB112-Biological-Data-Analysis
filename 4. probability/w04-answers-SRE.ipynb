{
 "cells": [
  {
   "cell_type": "markdown",
   "metadata": {},
   "source": [
    "## answers 04: a plague of sand mice\n",
    "**Sean's answers**"
   ]
  },
  {
   "cell_type": "markdown",
   "metadata": {},
   "source": [
    "### first some preliminaries\n",
    "\n",
    "Import the modules we'll use. Set the input file names; I assume they're already downloaded and in the current directory. Set some other configuration-type variables that we'll be using below."
   ]
  },
  {
   "cell_type": "code",
   "execution_count": 1,
   "metadata": {
    "collapsed": true
   },
   "outputs": [],
   "source": [
    "import numpy as np\n",
    "import matplotlib.pyplot as plt\n",
    "%matplotlib notebook\n",
    "\n",
    "posfile = 'pathogen.fa'     # These FASTA files are in our current directory;\n",
    "negfile = 'sandmouse.fa'    #     we'll read them in.\n",
    "\n",
    "alph = 'ACGT'               # This is our accepted alphabet of symbols (DNA); we use this when we read and manipulate sequences and FASTA files.\n",
    "A    = len(alph)\n",
    "K    = 3                    # We will build (K-1)th order Markov models, from the frequency of K-mers. To get second order Markov, we set K=3."
   ]
  },
  {
   "cell_type": "markdown",
   "metadata": {},
   "source": [
    "## 1. test Moriarty's method \n",
    "\n",
    "### a routine for reading the fasta files\n",
    "\n",
    "We need to be able to read sequences from FASTA files. It's going to be convenient to \"digitize\" the sequences: rather than representing them as sequences of A,C,G,T, we'll represent them as lists (arrays) of 0,1,2,3. That'll let us index lists and arrays directly with digitized residue codes. This is a common and simple trick in sequence analysis codes. \n",
    "\n",
    "If we have an alphabet `alph = 'ACGT'`, with `A = len(alph)` different symbols, we can encode a letter `a` to code `x` with `x = alph.find(a)`. We can decode `x` back to a letter `a` with `a = alph[x]`.\n",
    "\n",
    "In real sequences, we would have to watch out for symbols other than the canonical A,C,G,T. There are ambiguity symbols, such as N for any, Y for pyrimidine (C,T), and R for purine (A,G)."
   ]
  },
  {
   "cell_type": "code",
   "execution_count": 2,
   "metadata": {
    "collapsed": true
   },
   "outputs": [],
   "source": [
    "def read_fasta(file, alph):\n",
    "    \"\"\"\n",
    "    Read sequence(s) from <file>, and digitize them according to\n",
    "    alphabet <alph>.\n",
    "\n",
    "    A digital sequence is a list, with values 0..A-1, or -1 for invalid\n",
    "    residue. Values are the index in <alph>: 0=A, 1=C, 2=G, 3=T for \n",
    "    'ACGT'.\n",
    "\n",
    "    Input:\n",
    "      file : name of FASTA file to read\n",
    "      alph : alphabet residues; 'ACGT'\n",
    "\n",
    "    Returns:\n",
    "      S    : array of digital sequences. len(S) is the number of seqs;\n",
    "             len(S[0]) is the length of the 1st seq in residues.\n",
    "    \"\"\"\n",
    "\n",
    "    S    = []\n",
    "    seq  = []\n",
    "    f    = open(file)\n",
    "    for line in f:\n",
    "        if line.startswith('>'): \n",
    "            if len(seq) > 0:\n",
    "                S.append(seq)\n",
    "                seq = []\n",
    "        else:\n",
    "            seq += [ alph.find(a) for a in ''.join(line.upper().split()) ]\n",
    "    f.close()\n",
    "    if len(seq) > 0:\n",
    "        S.append(seq)\n",
    "    return S"
   ]
  },
  {
   "cell_type": "markdown",
   "metadata": {},
   "source": [
    "### a routine for Moriarty's method"
   ]
  },
  {
   "cell_type": "code",
   "execution_count": 3,
   "metadata": {
    "collapsed": true
   },
   "outputs": [],
   "source": [
    "def moriarty_score(S):\n",
    "    \"\"\"\n",
    "    Calculate and return Moriarty's proprietary discrimination score\n",
    "    for digital sequence <S>. Assumes alphabet is ACGT.\n",
    "    \"\"\"\n",
    "    sigma = [ 1, -1, -1, 1]\n",
    "    score = 0\n",
    "    for x in S:\n",
    "        score += sigma[x]\n",
    "    return score"
   ]
  },
  {
   "cell_type": "markdown",
   "metadata": {},
   "source": [
    "### now we're ready to test Moriarty's method\n",
    "\n",
    "First we score the positive (pathogen) and negative (sand mouse) sequences..."
   ]
  },
  {
   "cell_type": "code",
   "execution_count": 4,
   "metadata": {
    "collapsed": true
   },
   "outputs": [],
   "source": [
    "dsq_pos  = read_fasta(posfile,  alph)               # dsq_pos[0..9999] are now the digitized pathogen seqs\n",
    "dsq_neg  = read_fasta(negfile,  alph)               # dsq_neg[0..9999] ... the sandmouse seqs\n",
    "\n",
    "pos_sc   = [ moriarty_score(S) for S in dsq_pos  ]  # pos_sc[0..9999] are the scores of each pathogen seq\n",
    "neg_sc   = [ moriarty_score(S) for S in dsq_neg ]   # neg_sc[0..9999] ... the sandmouse scores\n",
    "\n",
    "nT = len(pos_sc)  # The number of positives = 10000\n",
    "nN = len(neg_sc)  #           and negatives = 10000"
   ]
  },
  {
   "cell_type": "markdown",
   "metadata": {},
   "source": [
    "... then we construct the performance figure."
   ]
  },
  {
   "cell_type": "code",
   "execution_count": 5,
   "metadata": {},
   "outputs": [
    {
     "data": {
      "image/png": "[encoded data removed]",
      "text/plain": [
       "<Figure size 576x288 with 2 Axes>"
      ]
     },
     "metadata": {
      "needs_background": "light"
     },
     "output_type": "display_data"
    }
   ],
   "source": [
    "                                                      # plt.subplots() lets you make multiple panels per figure\n",
    "fig, (ax1, ax2) = plt.subplots(1,2, figsize=(8,4))    # I fiddled the default figure size to make it wider & prettier\n",
    "\n",
    "ax1.hist(pos_sc, bins=20, histtype='bar', density=True, color='xkcd:orange', label='pathogen', alpha=0.7)  # The .hist() method makes histograms\n",
    "ax1.hist(neg_sc, bins=20, histtype='bar', density=True, color='0.3',         label='sandmouse',alpha=0.5)  #    the alpha= argument sets transparency\n",
    "ax1.set_title(\"score histogram\")\n",
    "ax1.set_xlabel(\"score\")\n",
    "ax1.set_ylabel(\"frequency\")\n",
    "ax1.legend()\n",
    "\n",
    "tmin = np.amin( [ np.amin(pos_sc), np.amin(neg_sc)] )   # get overall minimum score\n",
    "tmax = np.amax( [ np.amax(pos_sc), np.amax(neg_sc)] )   #  ... and maximum\n",
    "thresholds = np.linspace(tmin, tmax + 1.0, 1000)        # thresholds[] is now an array of 1000 closely spaced score thresholds, over full score range\n",
    "    \n",
    "TP = [ (pos_sc > t).sum()  / nT for t in thresholds ]   # TP[t] is the number of true positives with score > t\n",
    "FN = [ (pos_sc <= t).sum() / nT for t in thresholds ]   # FN[t] = false negatives < t\n",
    "FP = [ (neg_sc > t).sum()  / nN for t in thresholds ]   # FP[t] = false positives > t\n",
    "TN = [ (neg_sc <= t).sum() / nN for t in thresholds ]   # TN[t] = true negatives < t\n",
    "\n",
    "ax2.plot(FP, TP, 'k-')\n",
    "ax2.set_title('ROC plot')\n",
    "ax2.set_xlabel('false positives')\n",
    "ax2.set_ylabel('true positives')\n",
    "\n",
    "plt.tight_layout()\n",
    "plt.show()"
   ]
  },
  {
   "cell_type": "markdown",
   "metadata": {},
   "source": [
    "### conclusion\n",
    "\n",
    "Moriarty's method is a disaster. You'd do as well by flipping a coin. \n",
    "\n",
    "How did it work when _he_ did the performance evaluation? By assigning +1 for A/T and -1 for C/G, his method is assigning high scores to AT-rich sequences, and an expected score of around 0 to random sequences of uniform base composition. The pathogen sequences are indeed very AT-rich, so when Moriarty tested his method against random sequences, discrimination performance looked great. However, the sand mouse sequences are _also_ AT-rich, and the performance we're really worried about here is the ability to discriminate pathogen from sand mouse, not pathogen from random.\n",
    "\n",
    "To construct the example, I started with a real genome: _Wigglesworthia glossinidia_ , an endosymbiont in the gut of the tsetse fly, which has the most AT-rich genome currently known (78% AT). The pathogen sequences are made with the 2nd-order Markov frequencies from _Wigglesworthia_. The sand mouse sequences are made with the 0th order (i.i.d.) frequencies -- just the AT composition -- of _Wigglesworthia_. Therefore by construction, the pathogen and sand mouse data have the same AT composition, and are indistinguishable by any classifier that looks only at features like composition, or even simple pairwise distances."
   ]
  },
  {
   "cell_type": "markdown",
   "metadata": {},
   "source": [
    "## 2. make your own method\n",
    "\n",
    "We're told to make 2nd order Markov models, one for the pathogen and one for the sand mouse. A second order Markov model has parameters $P(x_i \\mid x_{i-1}, x_{i-2})$, where the probability of each residue depends on the two before it. The total probability of a sequence is $P(x_1..x_L) = P(x_1,x_2) \\prod_{i=3}^{L} P(x_i \\mid x_{i-1}, x_{i-2})$. Note the pesky $P(x_1,x_2)$, the start of the chain, which creates an edge case that we have to watch out for.\n",
    "\n",
    "There are different ways to handle this, but one relatively clean way is to count the joint probability of all 3-mers first (that's my `collect_kmer_probs()` function), then use algebra and marginalization to convert to the other probabilities we need (that's my `make_markov()` function). If $P(xyz)$ is the joint probability of a 3-mer $xyz$, then we get $P(z) = \\sum_{xy} P(xyz)$ by marginalization, $P(xy) = \\sum_z P(xyz)$ also by marginalization, and our second order Markov probabilities $P(z \\mid xy) = \\frac{P(xyz)}{P(xy)}$ from the relationship between conditional and joint probabilities.\n",
    "\n",
    "I've written this in a way that generalizes to any order Markov model, not just 2. To do this, my code talks about the _context_ `c`, the previous residues that our Markov chain depends on, where `c` is a digitized code from $0..4^{K-1}-1$. I treat $x_{i-2}, x_{i-1}$ as a base four number: AA encodes as $0 \\times 4 + 0 = 0$, CG encodes as $1 \\times 4+2 = 6$, TT encodes as $3 \\times 4+3 = 15$. My Markov model is then parameterized as a 2D array $P(x \\mid c)$ regardless of what order it is."
   ]
  },
  {
   "cell_type": "code",
   "execution_count": 6,
   "metadata": {
    "collapsed": true
   },
   "outputs": [],
   "source": [
    "def collect_kmer_probs(Sarr, A, K):\n",
    "    \"\"\"\n",
    "    Given an array of digitized seqs <arrS>, count the <K>-mers in it. Expect\n",
    "    digitized residues 0..A-1. Return array of normalized K-mer\n",
    "    frequencies <pk[0..(A**K)-1>.\n",
    "\n",
    "    Input: \n",
    "       arrS : array of digitized sequences\n",
    "       alph : valid alphabet string, upper case; \"ACGT\"\n",
    "       K    : length of K-mers to count, int; 3\n",
    "\n",
    "    Returns:\n",
    "       pk   : frequencies of each (encoded) kmer, pk[0..A**K-1]\n",
    "    \"\"\"\n",
    "\n",
    "    Nk    = A**K         # number of possible k-mers\n",
    "    pk    = np.zeros(Nk) # pk[kmer] : count of each encoded kmer\n",
    "    for S in Sarr:\n",
    "        ngood, kmer = 0,0                        # reset kmer for new sequence\n",
    "        for x in S:\n",
    "            if x != -1:                          # if x_i is a good ACGT residue...\n",
    "                kmer   = ((kmer * A) % Nk) + x   #  ... update kmer code\n",
    "                ngood += 1                       #  ... bump # of residues since last bad one.\n",
    "                if ngood >= K:                   # if we've seen at least K good residues...\n",
    "                    pk[kmer] += 1                #  ... bump kmer count.\n",
    "            else:\n",
    "                ngood, kmer = 0,0\n",
    "\n",
    "    Z  = np.sum(pk)         # normalize counts to probabilities\n",
    "    pk = np.divide(pk, Z)\n",
    "    return pk"
   ]
  },
  {
   "cell_type": "code",
   "execution_count": 7,
   "metadata": {
    "collapsed": true
   },
   "outputs": [],
   "source": [
    "def make_markov(pk, A, K):\n",
    "    \"\"\"\n",
    "    Given joint <K>-mer frequencies <pk[]>, calculate other\n",
    "    probabilities we need.\n",
    "\n",
    "    Input:\n",
    "      pk   : frequencies of each (encoded) kmer, pk[0..A**K-1]\n",
    "      A    : alphabet size\n",
    "      K    : length of K-mers in <pk>, int; 3\n",
    "\n",
    "    Return:\n",
    "     fq : single-residue marginal frequencies P(x_0) \n",
    "     cp : P(c), prob of context K-1 mers,  A**(K-1) of them\n",
    "     mp : P(x | c), conditional Markov chain probabilities      \n",
    "    \"\"\"\n",
    "\n",
    "    Nc = A**(K-1)\n",
    "\n",
    "    mp = pk.reshape( Nc, A )   \n",
    "    fq = np.sum( mp, axis = 0) \n",
    "    cp = np.sum( mp, axis = 1)\n",
    "    for c in range(Nc):\n",
    "        Z = np.sum(mp[c])\n",
    "        mp[c] = np.divide(mp[c], Z)\n",
    "\n",
    "    return fq, cp, mp"
   ]
  },
  {
   "cell_type": "markdown",
   "metadata": {},
   "source": [
    "And here's a little routine for encoding a subsequence context to my code $c$."
   ]
  },
  {
   "cell_type": "code",
   "execution_count": 8,
   "metadata": {
    "collapsed": true
   },
   "outputs": [],
   "source": [
    "def encode(S, A):\n",
    "    c  = 0\n",
    "    for i in range(len(S)):\n",
    "        c = c * A + S[i]\n",
    "    return c"
   ]
  },
  {
   "cell_type": "markdown",
   "metadata": {},
   "source": [
    "Given a Markov model, I need to be able to calculate the log probability of a sequence. Here's a routine for that:"
   ]
  },
  {
   "cell_type": "code",
   "execution_count": 9,
   "metadata": {
    "collapsed": true
   },
   "outputs": [],
   "source": [
    "def logp_markov(S, cp, mp, A, K):\n",
    "    \"\"\"\n",
    "    Given a digitized sequence <S>, and a <K>-1'th order Markov model with parameters <mp>\n",
    "    and <cp> for an alphabet of <A> symbols, calculate and return the log probability of\n",
    "    the sequence.    \n",
    "    \"\"\"\n",
    "    Nc   = A**(K-1)\n",
    "    c    = encode(S[:K-1], A)   \n",
    "    logp = np.log(cp[c])\n",
    "    for i in range(K-1, len(S)):     # 0..K-2 are context; K-1 is first generated residue.\n",
    "        logp += np.log(mp[c][S[i]])\n",
    "        c = ((c * A) % Nc) + S[i]\n",
    "    return logp\n"
   ]
  },
  {
   "cell_type": "markdown",
   "metadata": {},
   "source": [
    "Those are the pieces I need. Now I put them together to model the pathogen and sand mouse sequences. A log odds score $\\sigma(x)$ for data $x$ given two competing models $H_1$ and $H_2$ is $\\sigma(x) = \\log \\frac{P(x \\mid H_1)}{P(x \\mid H_2)}$. That rearranges to $\\sigma(x) = \\log P(x \\mid H_1) - \\log P(x \\mid H_2)$ in terms of the log likelihood of the two models. We prefer to calculate log likelihoods, because multiplying a bunch of probabilities together can underflow the computer's floating point numbers."
   ]
  },
  {
   "cell_type": "code",
   "execution_count": 10,
   "metadata": {
    "collapsed": true
   },
   "outputs": [],
   "source": [
    "# Make a model for the pathogen seqs.\n",
    "pk1           = collect_kmer_probs(dsq_pos[0:nT//2], A, K)    # Train on half of the data: a slice 0:nT//2\n",
    "fq1, cp1, mp1 = make_markov(pk1, A, K)\n",
    "\n",
    "# Make a second model for the sand mouse seqs.\n",
    "pk2           = collect_kmer_probs(dsq_neg[0:nN//2], A, K)\n",
    "fq2, cp2, mp2 = make_markov(pk2, A, K)\n",
    "\n",
    "pos_sc = [ logp_markov(S, cp1, mp1, A, K) - logp_markov(S, cp2, mp2, A, K) for S in dsq_pos[nT//2:] ]   # Test on the other half: nT//2:nT\n",
    "neg_sc = [ logp_markov(S, cp1, mp1, A, K) - logp_markov(S, cp2, mp2, A, K) for S in dsq_neg[nN//2:] ]\n",
    "\n",
    "nT = len(pos_sc)   # We tested on a subset, so reset the total number of pathogen test seqs\n",
    "nN = len(neg_sc)   #    ... and sand mouse"
   ]
  },
  {
   "cell_type": "markdown",
   "metadata": {},
   "source": [
    "Now repeat the figure-making code, but with these data."
   ]
  },
  {
   "cell_type": "code",
   "execution_count": 11,
   "metadata": {},
   "outputs": [
    {
     "data": {
      "image/png": "[encoded data removed]",
      "text/plain": [
       "<Figure size 576x288 with 2 Axes>"
      ]
     },
     "metadata": {
      "needs_background": "light"
     },
     "output_type": "display_data"
    }
   ],
   "source": [
    "fig2, (ax1, ax2) = plt.subplots(1,2, figsize=(8,4))    \n",
    "\n",
    "ax1.hist(pos_sc, bins=20, histtype='bar', density=True, color='xkcd:orange', label='pathogen', alpha=0.7)  \n",
    "ax1.hist(neg_sc, bins=20, histtype='bar', density=True, color='0.3',         label='sandmouse',alpha=0.5) \n",
    "ax1.set_title(\"score histogram\")\n",
    "ax1.set_xlabel(\"score\")\n",
    "ax1.set_ylabel(\"frequency\")\n",
    "ax1.legend()\n",
    "\n",
    "tmin = np.amin( [ np.amin(pos_sc), np.amin(neg_sc)] )   # get overall minimum score\n",
    "tmax = np.amax( [ np.amax(pos_sc), np.amax(neg_sc)] )   #  ... and maximum\n",
    "thresholds = np.linspace(tmin, tmax + 1.0, 1000)        # thresholds[] is now an array of 1000 closely spaced score thresholds, over full score range\n",
    "    \n",
    "TP = [ (pos_sc > t).sum()  / nT for t in thresholds ]   # TP[t] is the number of true positives with score > t\n",
    "FN = [ (pos_sc <= t).sum() / nT for t in thresholds ]   # FN[t] = false negatives < t\n",
    "FP = [ (neg_sc > t).sum()  / nN for t in thresholds ]   # FP[t] = false positives > t\n",
    "TN = [ (neg_sc <= t).sum() / nN for t in thresholds ]   # TN[t] = true negatives < t\n",
    "\n",
    "ax2.plot(FP, TP, 'k-')\n",
    "ax2.set_title('ROC plot')\n",
    "ax2.set_xlabel('false positives')\n",
    "ax2.set_ylabel('true positives')\n",
    "\n",
    "plt.tight_layout()\n",
    "plt.show()"
   ]
  },
  {
   "cell_type": "markdown",
   "metadata": {},
   "source": [
    "Much better!\n",
    "\n",
    "But there's a fair amount of overlap in those histograms, which is reflected in the ROC plot."
   ]
  },
  {
   "cell_type": "markdown",
   "metadata": {},
   "source": [
    "## 3. how good is your method?\n",
    "\n",
    "If we need to achieve 90% sensitivity, what score threshold do we need to set, and what is our false positive rate at that threshold? Here's one way to get a close-enough estimate, using the ROC plot data we've already calculated:"
   ]
  },
  {
   "cell_type": "code",
   "execution_count": 12,
   "metadata": {},
   "outputs": [
    {
     "name": "stdout",
     "output_type": "stream",
     "text": [
      "Set score threshold to:  0.63\n",
      "True positive rate is then: 0.897\n",
      "False positive rate is then: 0.041\n"
     ]
    }
   ],
   "source": [
    "sens_set = 0.90\n",
    "for t in range(len(thresholds)):\n",
    "    if TP[t] < sens_set: break\n",
    "print(\"Set score threshold to:  {0:.2f}\".format(thresholds[t]))\n",
    "print(\"True positive rate is then: {0:.3f}\".format(TP[t]))\n",
    "print(\"False positive rate is then: {0:.3f}\".format(FP[t]))\n"
   ]
  },
  {
   "cell_type": "markdown",
   "metadata": {},
   "source": [
    "Call that a false positive rate of 4%. Doesn't sound bad, right?\n",
    "\n",
    "Now we suppose that in a sample, 1% of the reads are from the pathogen, and 99% are from the sand mouse. A false positive rate of 4% means that 4% of sand mouse reads will be called positive: that's a fraction $0.04 \\times 0.99$. Our sensitivity of 90% means that 90% of pathogen reads will be classified as positive: that's a fraction $0.90 \\times 0.01$. The _false discovery rate_ is the proportion of things that meet our threshold that are actually wrong false positives. That's:"
   ]
  },
  {
   "cell_type": "code",
   "execution_count": 14,
   "metadata": {},
   "outputs": [
    {
     "name": "stdout",
     "output_type": "stream",
     "text": [
      "FDR is: 0.820\n"
     ]
    }
   ],
   "source": [
    "frac_pathogen = 0.01\n",
    "frac_sandmouse = 0.99\n",
    "\n",
    "tot_positive = (TP[t] * frac_pathogen) + (FP[t] * frac_sandmouse) \n",
    "\n",
    "FDR = (FP[t] * frac_sandmouse) / tot_positive\n",
    "print('FDR is: {0:.3f}'.format(FDR))"
   ]
  },
  {
   "cell_type": "markdown",
   "metadata": {},
   "source": [
    "Despite how good that ROC plot looked, and despite the fact that we have only a 4% false positive rate, **82% of our predictions are wrong**. \n",
    "\n",
    "The lesson: when you're looking for needles in haystacks, where there are few positives and many negatives, you need very low false positive rates. When someone shows you a ROC plot for such a problem, be wary. All the relevant action is in the leftmost invisible sliver of the plot. In typical genome-wide data analysis, a method that gives a false positive rate of 10% or 1% is usually lethally bad."
   ]
  },
  {
   "cell_type": "code",
   "execution_count": null,
   "metadata": {
    "collapsed": true
   },
   "outputs": [],
   "source": []
  }
 ],
 "metadata": {
  "anaconda-cloud": {},
  "kernelspec": {
   "display_name": "Python 3",
   "language": "python",
   "name": "python3"
  },
  "language_info": {
   "codemirror_mode": {
    "name": "ipython",
    "version": 3
   },
   "file_extension": ".py",
   "mimetype": "text/x-python",
   "name": "python",
   "nbconvert_exporter": "python",
   "pygments_lexer": "ipython3",
   "version": "3.6.7"
  }
 },
 "nbformat": 4,
 "nbformat_minor": 2
}
