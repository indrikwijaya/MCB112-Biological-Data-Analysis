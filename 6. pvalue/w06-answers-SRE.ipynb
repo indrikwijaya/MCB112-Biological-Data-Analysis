{
 "cells": [
  {
   "cell_type": "markdown",
   "metadata": {},
   "source": [
    "# Answers, week 06: _Student's game night_\n",
    "__Sean's version__\n",
    "\n",
    "First, our imports."
   ]
  },
  {
   "cell_type": "code",
   "execution_count": 1,
   "metadata": {},
   "outputs": [],
   "source": [
    "import numpy as np              \n",
    "import scipy.stats as stats     # stats.norm.pdf() : P(x | mu, sigma) for the Gaussian\n",
    "import scipy.special as special # logsumexp() is here\n",
    "import matplotlib.pyplot as plt\n",
    "import seaborn as sns\n",
    "%matplotlib notebook"
   ]
  },
  {
   "cell_type": "markdown",
   "metadata": {},
   "source": [
    "## 1. the beginner's game\n",
    "\n",
    "We're to:\n",
    "\n",
    "* take as input n observations x_1..x_n (positions of dropped tea bags) and a known $\\sigma$.\n",
    "* calculate the posterior probability $P(\\mu \\mid x_i..x_n, \\sigma)$ for each of the 21 possible values of $\\mu$ on Student's grid row, for that $\\sigma$\n",
    "* plot that $P(\\mu \\mid \\cdot)$ distribution on a semilogy scale.\n",
    "* and plot the pub's calculated probability distribution\n",
    "\n",
    "In my solution, I'm going to go ahead and set up the solution to both parts of the problem, the beginner's game and the advanced game. I figured it would be easier when you're working through the pset to think in terms of the known sigma, then move on to the case of the unknown sigma and the extra marginalization you have to do, over its uncertainty. But once you understand the calculations, the solution to the beginner's game is just a matter of pulling the right row out of the posterior distribution and normalizing it."
   ]
  },
  {
   "cell_type": "markdown",
   "metadata": {},
   "source": [
    "### Set the observed data"
   ]
  },
  {
   "cell_type": "code",
   "execution_count": 2,
   "metadata": {},
   "outputs": [],
   "source": [
    "# The pset suggested using the following example:\n",
    "X  = np.array([11.50, -2.32, 9.18])   # n=3 observations\n",
    "nX = 3\n",
    "\n",
    "true_sigma = 60.      # Student tells us the true sigma, in the beginner's game\n",
    "true_mu    = -20.     # The true mu is unknown, but for the sake of the example, I told you.\n",
    "                      # The real data happened to all come out to the right of the true mu, by chance."
   ]
  },
  {
   "cell_type": "markdown",
   "metadata": {},
   "source": [
    "### some setup: Student's grid"
   ]
  },
  {
   "cell_type": "code",
   "execution_count": 13,
   "metadata": {},
   "outputs": [
    {
     "data": {
      "text/plain": [
       "(8, 8)"
      ]
     },
     "execution_count": 13,
     "metadata": {},
     "output_type": "execute_result"
    }
   ],
   "source": [
    "# Set up the complete 20x21 dart board grid, and the mu and sigma values\n",
    "# associated with each grid position.\n",
    "#\n",
    "# In the beginner's game, we only need one of these rows, at the true_sigma;\n",
    "# get its row index.\n",
    "gridrows = np.linspace( 100.0,   5.0, 20)   # rows i of the grid are sigma, std. dev.\n",
    "gridcols = np.linspace(-100.,  100.0, 21)   # columns j of the grid are mu, mean (location)\n",
    "nrows    = len(gridrows)\n",
    "ncols    = len(gridcols)\n",
    "\n",
    "true_row = np.where(gridrows==true_sigma)[0].item()  # numpy `where` is helpful: here, we want to get the array index of the true sigma\n",
    "true_col = np.where(gridcols==true_mu)[0].item()     # but it returns an array! so convert the one element to scalar, with .item() method\n",
    "true_row, true_col"
   ]
  },
  {
   "cell_type": "markdown",
   "metadata": {},
   "source": [
    "### Sample statistics\n",
    "\n",
    "The pub's estimates of the odds, i.e. the posterior distribution $P(\\mu | X, \\sigma)$ in the beginner's game, or $P(\\mu | X)$ in the advanced game, are based on the standard error of the mean, which you get from the sample mean and sample standard deviation.\n",
    "\n",
    "A nettlesome bit here is that in classical statistics, it's easy to get confused about populations, samples, parameters, and summary statistics. The calculation for a **population standard deviation** is:\n",
    "\n",
    "$$\\sigma = \\sqrt{\\frac{\\sum_i (x_i - \\mu)^2} {N}}$$\n",
    "\n",
    "where you assume that the population mean is the parametric $\\mu$, and the observed standard deviation is the parametric $\\sigma$, in the limit of an infinitely large population.\n",
    "\n",
    "But when you only have a sample of a population you're supposed to calculate a **sample standard deviation**:\n",
    "\n",
    "$$s = \\sqrt{\\frac{\\sum_i (x_i - \\bar{x})^2} {N-1}}$$\n",
    "\n",
    "which is what arises as the \"unbiased estimator\" of $\\sigma$ when we only have a sample from a larger population. The N-1 represents a \"loss of one degree of freedom\". My advice is to not even try to understand this, at least at this point. \n",
    "\n",
    "If you use the Python `statistics` module and you call `statistics.stdev()`, you get the sample standard deviation. If you use `numpy` and you call `numpy.std()`, you get the *population* standard deviation. If you pay attention to `numpy.std()`'s `ddof` argument (\"delta degrees of freedom\") you realize that you can pass `ddof=1` to get the sample standard deviation."
   ]
  },
  {
   "cell_type": "code",
   "execution_count": 14,
   "metadata": {},
   "outputs": [],
   "source": [
    "# Some basic statistics for the data. The pub's calculation uses these.\n",
    "sample_mean  = np.mean(X)\n",
    "sample_stdev = np.std(X, ddof=1)   # Setting the ddof argument (degrees of freedom) to 1\n",
    "                                   # gives the 'unbiased estimator of the sample std.dev'."
   ]
  },
  {
   "cell_type": "markdown",
   "metadata": {},
   "source": [
    "### The pub's calculation of the probabilities in the beginner's game"
   ]
  },
  {
   "cell_type": "code",
   "execution_count": 15,
   "metadata": {},
   "outputs": [],
   "source": [
    "def probdist_beginner(X, sigma, mu_values):\n",
    "    \"\"\" \n",
    "    Given an ndarray X_1..X_n, and a known sigma;\n",
    "    and a list of the mu values in each column;\n",
    "    return a list of the inferred P(mu | X,sigma) for each column.\n",
    "    \"\"\"\n",
    "    xbar = np.mean(X)\n",
    "    N    = len(X)\n",
    "    Pr   = [ stats.norm.pdf(x, loc=xbar, scale= sigma / np.sqrt(N)) for x in mu_values ]  # proportional to std error of the mean\n",
    "    Z    = sum(Pr)                   # normalization constant\n",
    "    Pr   = [ p / Z for p in Pr ]     # normalization to a discrete probability distribution\n",
    "    return Pr"
   ]
  },
  {
   "cell_type": "markdown",
   "metadata": {},
   "source": [
    "### Our log likelihood\n",
    "\n",
    "Our basic currency for probability calculus is the data log likelihood,\n",
    "the probability of the data if the model parameters were all known,\n",
    "$\\log P(X | \\mu, \\sigma)$.\n",
    "\n",
    "Note that the Bayesian calculation does not work with summary statistics. It should be less confusing: there's no mean $\\bar{x}$ to confuse with the parameter $\\mu$, and no $s$ to confuse with the parameter $\\sigma$. There's just a model, its parameters ($\\mu, \\sigma$), and observed data $X$."
   ]
  },
  {
   "cell_type": "code",
   "execution_count": 16,
   "metadata": {},
   "outputs": [],
   "source": [
    "\n",
    "def logp_X(X, mu, sigma):\n",
    "    \"\"\" \n",
    "    Given: X     = a list of observed positions X_i\n",
    "           mu    = specified parameter: Gaussian mean \n",
    "           sigma = specified parameter, Gaussian std.dev.\n",
    "\n",
    "    Calculate and return log P(X | mu, sigma),\n",
    "    which is \\sum_i \\log P(X_i | mu, sigma)\n",
    "    because the samples X_i are independent.\n",
    "    \"\"\"\n",
    "    return sum( [stats.norm.logpdf(sample, loc=mu, scale=sigma) for sample in X])\n"
   ]
  },
  {
   "cell_type": "markdown",
   "metadata": {},
   "source": [
    "### Posterior probability calculation\n",
    "\n",
    "Here I'm going to calculate the posterior distribution $P(\\mu, \\sigma \\mid X)$ over the entire grid. In the beginner's game, we're told the true row $\\sigma$, so after I calculate this joint, I'll pull out a conditional distribution $P(\\mu \\mid X, \\sigma)$ from the joint."
   ]
  },
  {
   "cell_type": "code",
   "execution_count": 17,
   "metadata": {},
   "outputs": [],
   "source": [
    "# Calculate the posterior probability of each grid square.\n",
    "#\n",
    "# Because we specified a uniform prior, we only need to calculate the\n",
    "# data likelihood at each row,col, then normalize.\n",
    "#\n",
    "# We do the calculation in log space because our probabilities might\n",
    "# become small. Renormalizing log probabilities requires a\n",
    "# \"log-sum-exp\" calculation, which Python provides.\n",
    "#\n",
    "logL = np.empty((nrows, ncols))             # rows <i = 0..nrows-1>\n",
    "for row, sigma in enumerate(gridrows):      # columns <j = 0..ncols-1>\n",
    "    for col, mu in enumerate(gridcols):\n",
    "        logL[row,col] = logp_X(X, mu, sigma)\n",
    "        \n",
    "Z        = special.logsumexp(logL)        # Normalization constant, also in log space\n",
    "logL     = np.subtract(logL, Z)           # Renormalization... in log space, that means subtract log Z\n",
    "postprob = np.exp( logL )                 # Convert values back to probability space by exponentiating them.\n",
    "                                          # Now postprob[i,j] = P(mu, sigma | X) posterior distribution.\n"
   ]
  },
  {
   "cell_type": "markdown",
   "metadata": {},
   "source": [
    "### Marginal and conditional distributions, from the joint\n",
    "\n",
    "Now for the beginner's game solution, I'll pull out the $P(\\mu \\mid X, \\sigma)$. \n",
    "\n",
    "I could have just as easily done this as a conditional to begin with, solving only the beginner's game on a known row, rather than solving the advanced game and then extracting the beginner's game as a special case.\n",
    "\n",
    "I also go ahead and calculate the marginal distributions $P(\\mu \\mid X)$ and $P(\\sigma \\mid X)$ here. $P(\\mu \\mid X)$ is what we use for the advanced game, and we'll see that we've done a discrete approximation to the **t distribution**. $P(\\sigma \\mid X)$ we don't use, and I still need to doublecheck to be sure, but I believe it's related to a discrete approximation to the **$\\chi^2$ distribution**."
   ]
  },
  {
   "cell_type": "code",
   "execution_count": 18,
   "metadata": {},
   "outputs": [],
   "source": [
    "# Conditional distribution for mu, given true sigma\n",
    "# This is the answer to the beginner's game.\n",
    "#\n",
    "# I could have also gotten it by only calculating (or pulling out) row logL[true_row]\n",
    "# and renormalizing that.\n",
    "#\n",
    "mu_conddist = np.ravel(postprob[true_row])   # numpy.ravel(): flatten an n-dim array to 1D.\n",
    "Z = np.sum(mu_conddist)\n",
    "mu_conddist = np.divide(mu_conddist, Z)      # Marginalized distributions\n",
    "\n",
    "\n",
    "# Marginal distributions:\n",
    "mu_dist    = np.sum(postprob, axis=0)    # P(mu | X)    ... the answer to the advanced game.\n",
    "sigma_dist = np.sum(postprob, axis=1)    # P(sigma | X) ... which we don't use, but we would if we were illustrating\n",
    "                                         #                  the chi-squared distribution instead of the t distribution.\n",
    "\n",
    "# Posterior mode over all the grid cells (our best guesses if we had to guess both)\n",
    "maxpp           = postprob.max()\n",
    "(maxrow,maxcol) = np.unravel_index(postprob.argmax(), postprob.shape)   # overly tricky numpy idiom. you could also find the max's with loops\n",
    "\n",
    "# Posterior modes of marginalized mu (our best guesses if we had to guess one)\n",
    "# \n",
    "mode_mu    = gridcols[ mu_dist.argmax() ]       # This is our best guess in the advanced game.\n",
    "mode_col   = mu_dist.argmax()\n",
    "mode_sigma = gridrows[ sigma_dist.argmax() ]"
   ]
  },
  {
   "cell_type": "code",
   "execution_count": 19,
   "metadata": {},
   "outputs": [
    {
     "name": "stdout",
     "output_type": "stream",
     "text": [
      "Student's tea distribution machine shows the customers 3 samples:\n",
      "     11.50\n",
      "     -2.32\n",
      "      9.18\n",
      "\n",
      "which gives a sample mean:     6.12\n",
      "    and a sample std.dev.:     7.40\n",
      "\n",
      "Posterior mode, overall: mu 10.0, sigma 10.0\n",
      "\n",
      "Marginal posterior mode for mu, if sigma unknown: 10.0\n"
     ]
    }
   ],
   "source": [
    "# Print some stuff we learned...\n",
    "print (\"Student's tea distribution machine shows the customers {} samples:\".format(nX))\n",
    "for sample in X: print(\"  {0:8.2f}\".format(sample))\n",
    "print (\"\")\n",
    "print (\"which gives a sample mean: {0:8.2f}\".format(sample_mean))\n",
    "print (\"    and a sample std.dev.: {0:8.2f}\".format(sample_stdev))\n",
    "print (\"\")\n",
    "print (\"Posterior mode, overall: mu {}, sigma {}\".format(gridcols[maxcol], gridrows[maxrow]))\n",
    "print (\"\")\n",
    "print (\"Marginal posterior mode for mu, if sigma unknown: {}\".format(mode_mu))"
   ]
  },
  {
   "cell_type": "markdown",
   "metadata": {},
   "source": [
    "## 1. the beginner's game\n",
    "\n",
    "Now we're ready to start looking at plots and do our analysis, for the particular data set $X$ that we set up."
   ]
  },
  {
   "cell_type": "code",
   "execution_count": 20,
   "metadata": {},
   "outputs": [
    {
     "data": {
      "text/plain": [
       "<matplotlib.legend.Legend at 0x7fb70a255e48>"
      ]
     },
     "execution_count": 20,
     "metadata": {},
     "output_type": "execute_result"
    },
    {
     "data": {
      "image/png": "[encoded data removed]",
      "text/plain": [
       "<Figure size 432x288 with 1 Axes>"
      ]
     },
     "metadata": {
      "needs_background": "light"
     },
     "output_type": "display_data"
    }
   ],
   "source": [
    "# For the beginner's game, we're asked to produce a plot of the posterior distribution\n",
    "# P(mu | X, sigma), where we use the observed data directly; \n",
    "# and compare it to the pub's calculation, which works with summary statistics (the sample mean\n",
    "# and the sample standard deviation) to calculate the standard error of the mean:\n",
    "# the pub expects the true mu to be around the sample mean, with std.dev of \\sigma / \\sqrt(N)\n",
    "#\n",
    "f1, ax1 = plt.subplots()\n",
    "ax1.semilogy(gridcols, mu_conddist, 'ko', label=\"conditional, at true row (known sigma)\")\n",
    "\n",
    "Pub   = probdist_beginner(X, true_sigma, gridcols)\n",
    "ax1.semilogy(gridcols, Pub, label=\"pub's estimate, from std error of the mean\")\n",
    "\n",
    "ax1.xaxis.set_ticks(gridcols)\n",
    "ax1.set(xlabel='$\\mu$', ylabel='P($\\mu$)')\n",
    "ax1.legend()"
   ]
  },
  {
   "cell_type": "markdown",
   "metadata": {},
   "source": [
    "### what you see there\n",
    "\n",
    "is that the pub's estimate of the probabilities is good. If you know the true parametric $\\sigma$, the standard error of the mean is a fine way of estimating the uncertain location of the parameter $\\mu$, agreeing with the Bayesian calculation."
   ]
  },
  {
   "cell_type": "markdown",
   "metadata": {},
   "source": [
    "## 2. The advanced game\n",
    "\n",
    "Now we don't know $\\sigma$. Plot the entire posterior probability distribution over the 20x21 grid as a heat map:"
   ]
  },
  {
   "cell_type": "code",
   "execution_count": 21,
   "metadata": {},
   "outputs": [
    {
     "data": {
      "text/plain": [
       "[Text(60.51157894736846, 0.5, '$\\\\sigma$'), Text(0.5, 15.0, '$\\\\mu$')]"
      ]
     },
     "execution_count": 21,
     "metadata": {},
     "output_type": "execute_result"
    },
    {
     "data": {
      "image/png": "[encoded data removed]",
      "text/plain": [
       "<Figure size 432x288 with 2 Axes>"
      ]
     },
     "metadata": {
      "needs_background": "light"
     },
     "output_type": "display_data"
    }
   ],
   "source": [
    "f2, ax2 = plt.subplots()\n",
    "xlabels = [ \"{0:.0f}\".format(val) for val in gridcols  ]\n",
    "ylabels = [ \"{0:.0f}\".format(val) for val in gridrows  ]\n",
    "sns.heatmap(postprob, \n",
    "            cmap='Blues',\n",
    "            xticklabels=xlabels, yticklabels=ylabels, \n",
    "            square=True,\n",
    "            linecolor='grey', linewidth=0.5,\n",
    "            ax=ax2)\n",
    "\n",
    "ax2.set(xlabel='$\\mu$', ylabel='$\\sigma$')"
   ]
  },
  {
   "cell_type": "markdown",
   "metadata": {},
   "source": [
    "### what you see there\n",
    "\n",
    "In this particular data set, the three tea bags happened to accidentally fall near each other (despite the fact that the parameter $\\sigma$ is $\\pm 60$) and well to the right of the true $\\mu$ (which is -20). The posterior probability calculation thinks there's about a 15% chance that the dart is in $\\mu = 10, \\sigma = 10$. But there's a haze of uncertainty -- the background color of the heatmap is actually white, so the hazy blue is real, there's a bit of probability mass everywhere. With only three observed samples, we're very unsure of where the dart is.\n",
    "\n",
    "### the pub's calculation, and the t distribution\n",
    "\n",
    "The pub's calculation is again based on the standard error of the mean, using the sample standard deviation. The problem is that the three samples are just accidentally piled near each other, so the sample standard deviation is small, much smaller than the actual $\\sigma$. The pub is going to end up vastly overestimating its confidence in where the dart is.\n",
    "\n",
    "Think about all the times you've seen a figure in a paper where they've plotted a mean and a standard error of the mean, as a way of showing their confidence in their estimated mean, though they only have a small number of observed samples. Think on it and despair.\n",
    "\n",
    "We'll compare to Student's t distribution. The t distribution is for continuous $\\mu$, but here we're discretized into 21 values of $\\mu$, so we have to take 21 points from the t PDF and renormalize. \n",
    "\n",
    "There's black magic again with the \"degrees of freedom\" in the Student's PDF: you have to set this to $N-1$ when you have $N$ samples from an (asymptotically infinite) population."
   ]
  },
  {
   "cell_type": "code",
   "execution_count": 22,
   "metadata": {},
   "outputs": [],
   "source": [
    "def probdist_advanced(X, mu_values):\n",
    "    \"\"\" \n",
    "    Given an ndarray X_1..X_n,\n",
    "    and a list of the mu values in each column;\n",
    "    return a list of the inferred P(mu | X) for each column.\n",
    "    \"\"\"\n",
    "    xbar = np.mean(X)\n",
    "    s    = np.std(X, ddof=1)     # note that numpy.sd() by default calculates a population std dev; to get sample std. dev., set ddof=1\n",
    "    N    = len(X)\n",
    "    Pr   = [ stats.norm.pdf(x, loc=xbar, scale= s / np.sqrt(N)) for x in mu_values ]  # proportional to std error of the mean\n",
    "    Z    = sum(Pr)                   # normalization constant\n",
    "    Pr   = [ p / Z for p in Pr ]     # normalization to a discrete probability distribution\n",
    "    return Pr\n",
    "\n",
    "def tdist_advanced(X, mu_values):\n",
    "    \"\"\" \n",
    "    Given an ndarray X_1..X_n,\n",
    "    and a list of the mu values in each column;\n",
    "    return a list of the inferred P(mu | X) for each column,\n",
    "\taccording to Student's t distribution with N-1 degrees of freedom.\n",
    "    \"\"\"\n",
    "    N    = len(X)\n",
    "    xbar = np.mean(X)\n",
    "    s    = np.std(X, ddof=1)\n",
    "    t    = [ (xbar - mu) / (s / np.sqrt(N)) for mu in mu_values ]    # t statistic, given sample mean, sample stddev, and N\n",
    "    Pr   = [ stats.t.pdf(val, N-1) for val in t ]                    # N-1 = degrees of freedom\n",
    "    Z    = sum(Pr)\n",
    "    Pr   = [ p / Z for p in Pr ]     # normalization to a discrete probability distribution\n",
    "    return Pr\n"
   ]
  },
  {
   "cell_type": "markdown",
   "metadata": {},
   "source": [
    "### plot of the Bayesian calculation, the pub, and the t distribution"
   ]
  },
  {
   "cell_type": "code",
   "execution_count": 23,
   "metadata": {},
   "outputs": [
    {
     "data": {
      "text/plain": [
       "<matplotlib.legend.Legend at 0x7fb6f821be10>"
      ]
     },
     "execution_count": 23,
     "metadata": {},
     "output_type": "execute_result"
    },
    {
     "data": {
      "image/png": "[encoded data removed]",
      "text/plain": [
       "<Figure size 432x288 with 1 Axes>"
      ]
     },
     "metadata": {
      "needs_background": "light"
     },
     "output_type": "display_data"
    }
   ],
   "source": [
    "f3, ax3 = plt.subplots()\n",
    "\n",
    "ax3.semilogy(gridcols, mu_dist, 'ko', label=\"marginal\")\n",
    "\n",
    "Pr    = probdist_advanced(X, gridcols)\n",
    "ax3.semilogy(gridcols, Pr, label=\"pub's estimate\")\n",
    "\n",
    "Pr2   = tdist_advanced(X, gridcols)\n",
    "ax3.semilogy(gridcols, Pr2, label=\"from t\")\n",
    "\n",
    "ax3.xaxis.set_ticks(gridcols)\n",
    "ax3.set_ylim([1e-100,1.0])                     # change to [1e-5, 1.0] to zoom in on small difference between real and discretized t\n",
    "ax3.set(xlabel='$\\mu$', ylabel='P($\\mu$)')\n",
    "ax3.legend()\n"
   ]
  },
  {
   "cell_type": "markdown",
   "metadata": {},
   "source": [
    "## Where's the advantage?\n",
    "\n",
    "In the plot above, you can see that now the Bayesian estimate of the uncertain position of $\\mu$ is vastly different from the pub's estimate. The pub is pretty sure that the dart is in a column near the average position of the tea bags, but it's been fooled by the tea bags happening to fall near each other, giving a small sample standard deviation.\n",
    "\n",
    "**Student's t distribution** is the classical statistical distribution for the averaged sampling distribution for a sample mean $\\bar{x}$, if you took lots of observed $\\bar{x}$'s from a known $\\mu$ but different $\\sigma$'s, with all $\\sigma$ being equiprobable. It does a much better job of predicting the confidence you should have in your estimate for $\\mu$ when you have a small number of samples.\n",
    "\n",
    "All the various flavors of **t-test** are based on the t distribution. One thing I wanted you to see in this exercise is that you can derive the t distribution directly as a Bayesian calculation: it's $P(\\mu \\mid X)$, marginalized over a uniform prior for $\\sigma$. I think it's easier to remember that you're trying to quantify your uncertainty about the parameter $\\mu$. You're not allowed to say that in classical statistics, so you get into contortions about \"the sampling distribution of the sample mean $\\bar{x}$\".\n",
    "\n",
    "To think a bit more about this as a gambling question, let's look at the estimated probabilities at the true column position of the dart, versus our best guess at it: "
   ]
  },
  {
   "cell_type": "code",
   "execution_count": 24,
   "metadata": {},
   "outputs": [
    {
     "name": "stdout",
     "output_type": "stream",
     "text": [
      "At the true column of the dart, mu -20.0:\n",
      "  ... the pub thinks the probability of that is 7.48e-09\n",
      "  ... but you think the probability of that is 0.0273:  4e+06-fold difference\n",
      "  ... calculating w/ t distribution gives 0.0104376\n",
      "\n",
      "At the best guess for the column of the dart, mu 10.0:\n",
      "  ... the pub thinks the probability of that is 0.645\n",
      "  ... but you think the probability of that is 0.427:  0.7-fold difference\n",
      "  ... calculating w/ t distribution gives 0.543138\n"
     ]
    }
   ],
   "source": [
    "print(\"At the true column of the dart, mu {}:\".format(true_mu))\n",
    "print(\"  ... the pub thinks the probability of that is {0:.3g}\".format(Pr[true_col]))\n",
    "print(\"  ... but you think the probability of that is {0:.3g}:  {1:.0g}-fold difference\".format(mu_dist[true_col], \n",
    "                                                                                                mu_dist[true_col]/Pr[true_col]))\n",
    "print(\"  ... calculating w/ t distribution gives {0:3g}\".format(Pr2[true_col]))\n",
    "print(\"\")\n",
    "print(\"At the best guess for the column of the dart, mu {}:\".format(mode_mu))\n",
    "print(\"  ... the pub thinks the probability of that is {0:.3g}\".format(Pr[mode_col]))\n",
    "print(\"  ... but you think the probability of that is {0:.3g}:  {1:.0g}-fold difference\".format(mu_dist[mode_col], \n",
    "                                                                                                mu_dist[mode_col]/Pr[mode_col]))\n",
    "print(\"  ... calculating w/ t distribution gives {0:3g}\".format(Pr2[mode_col]))"
   ]
  },
  {
   "cell_type": "markdown",
   "metadata": {},
   "source": [
    "We're getting minor differences between the t distribution and your Bayesian estimate because of discretization effects and edge effects. If we took a finer and finer grid, and extended it to a wider and wider range of $\\sigma$ and $\\mu$, we should see the Bayesian calculation converge closely to the t distribution. We did the 21x20 discretization to make the calculations fast and easy (easier, anyway), enough for you to see the gist of the issue.\n",
    "\n",
    "There's no benefit in placing any bets at the best guess; the pub actually thinks it's more likely than you do (0.645 versus 0.427), so the pub is going to offer disfavorable odds there. You would want to bet *against* the best guess, because the pub is overestimating its confidence.\n",
    "\n",
    "Where you can make money is by placing bets on other columns. For example, the pub might overconfidently offer you million to one odds on -20 -- probably playing it up with great publicity, MILLION TO ONE ODDS! -- and still think that it was taking a rake (the house always makes its expected winnings at least slightly positive, based on its estimate of the odds). It thinks the probability there is 7.48e-9 (about one in a hundred million). But you know the probability is actually about 3% there (0.0273). So if you place a $1 bet on -20 at million to one odds, you stand a 3% chance of winning a million dollars, which isn't too shabby.\n",
    "\n",
    "So one good strategy is, when you see a small number of tea bags land close to each other, your best bet is to put your bets on every column *except* the mean.\n",
    "\n",
    "Eking out an advantage in mis-estimated tail probabilities has a glorious history. In options pricing in mathematical finance, the Black-Scholes equation conceals an implicit assumption of Gaussian-distributed volatility, when true volatility is more long-tailed. I once met a Bayesian statistician who modeled options prices more realistically and proved that he had net positive expectation if he played the options markets: in theory, he could make any amount of money he wanted. The catch is demonstrated by the 3% in the example above. First you're going to wait for an unlikely occurrence (the tea bags fall close to each other) and then you're going to place your dollar bet on an unlikely fluctuation (the observed mean came out far from the true mean), because you know that when this happens, the pub has mis-estimated its risk in the tails. Even then, 97% of the time you're going to lose your dollar -- and you're also going to lose when the tea bags fall close to each other for good reason because they're near the true mean, because of a low true sigma. Because you're making your money on unlikely outcomes, you have to have enough of a stake to play the game a very large number of times so these unlikely fluctuations have a chance of appearing, so you can collect one or more wins. In Student's game, if you only had five dollars to bet, you're likely to lose it all. My Bayesian friend told me he put up 100K to try his strategy in the options markets; it wasn't enough, and he lost it all. But if you were a hedge fund with a huge stake... hrmmm, I wonder why finance firms are snapping up quants?\n"
   ]
  },
  {
   "cell_type": "code",
   "execution_count": null,
   "metadata": {
    "collapsed": true
   },
   "outputs": [],
   "source": []
  }
 ],
 "metadata": {
  "anaconda-cloud": {},
  "kernelspec": {
   "display_name": "Python 3",
   "language": "python",
   "name": "python3"
  },
  "language_info": {
   "codemirror_mode": {
    "name": "ipython",
    "version": 3
   },
   "file_extension": ".py",
   "mimetype": "text/x-python",
   "name": "python",
   "nbconvert_exporter": "python",
   "pygments_lexer": "ipython3",
   "version": "3.6.9"
  }
 },
 "nbformat": 4,
 "nbformat_minor": 1
}
